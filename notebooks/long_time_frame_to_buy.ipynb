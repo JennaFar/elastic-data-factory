{
 "cells": [
  {
   "cell_type": "code",
   "execution_count": 1,
   "metadata": {},
   "outputs": [
    {
     "name": "stdout",
     "output_type": "stream",
     "text": [
      "Looking in indexes: https://private.artifactory.foc.zone/api/pypi/rdf-pypi-virtual/simple, https://private.artifactory.foc.zone/artifactory/api/pypi/pypi-remote/simple\n",
      "Collecting awswrangler\n",
      "  Using cached https://private.artifactory.foc.zone/artifactory/api/pypi/pypi-remote/packages/packages/54/ec/3ea5f63f2811f74c40a22d8991218c4110c461afb61370b054e597fe55c8/awswrangler-2.16.1-py3-none-any.whl (248 kB)\n",
      "Collecting backoff<3.0.0,>=1.11.1\n",
      "  Using cached https://private.artifactory.foc.zone/artifactory/api/pypi/pypi-remote/packages/packages/3b/59/fbcbf9bdce46bc7a3ce6af140dadff9f9c8bd1a641e49ee0f1bfd21f830b/backoff-2.1.2-py3-none-any.whl (14 kB)\n",
      "Collecting gremlinpython<4.0.0,>=3.5.2\n",
      "  Using cached https://private.artifactory.foc.zone/artifactory/api/pypi/pypi-remote/packages/packages/a2/b8/f202fe67a0f5a538a1d8a3cd5e7dc5f8aa8def03b44032fe1beabc45dc37/gremlinpython-3.6.0-py2.py3-none-any.whl (72 kB)\n",
      "Collecting pyarrow<7.1.0,>=2.0.0\n",
      "  Using cached https://private.artifactory.foc.zone/artifactory/api/pypi/pypi-remote/packages/packages/f6/17/5f50b5a47fe9988afcbc9cc63692ab7e34b3ddf8d608296212506c9d6f14/pyarrow-7.0.0-cp37-cp37m-manylinux_2_17_x86_64.manylinux2014_x86_64.whl (26.7 MB)\n",
      "Collecting pandas<2.0.0,>=1.2.0\n",
      "  Using cached https://private.artifactory.foc.zone/artifactory/api/pypi/pypi-remote/packages/packages/3e/0c/23764c4635dcb0a784a787498d56847b90ebf974e65f4ab4053a5d97b1a5/pandas-1.3.5-cp37-cp37m-manylinux_2_17_x86_64.manylinux2014_x86_64.whl (11.3 MB)\n",
      "Requirement already satisfied: openpyxl<3.1.0,>=3.0.0 in /opt/conda/lib/python3.7/site-packages (from awswrangler) (3.0.3)\n",
      "Collecting jsonpath-ng<2.0.0,>=1.5.3\n",
      "  Using cached https://private.artifactory.foc.zone/artifactory/api/pypi/pypi-remote/packages/packages/4c/b7/3627068d9aa6b2d49af117eb3897770a5dbc6bb3f4c09ed56a9eb749438e/jsonpath_ng-1.5.3-py3-none-any.whl (29 kB)\n",
      "Collecting redshift-connector<2.1.0,>=2.0.889\n",
      "  Using cached https://private.artifactory.foc.zone/artifactory/api/pypi/pypi-remote/packages/packages/a1/5c/dccf7c8c5c0035fdafc1b01d3bf8277720a9abf72780b1cd5ec5fbc2bac1/redshift_connector-2.0.908-py3-none-any.whl (112 kB)\n",
      "Requirement already satisfied: numpy<2.0.0,>=1.21.0 in /opt/conda/lib/python3.7/site-packages (from awswrangler) (1.21.6)\n",
      "Collecting pymysql<2.0.0,>=1.0.0\n",
      "  Using cached https://private.artifactory.foc.zone/artifactory/api/pypi/pypi-remote/packages/packages/4f/52/a115fe175028b058df353c5a3d5290b71514a83f67078a6482cff24d6137/PyMySQL-1.0.2-py3-none-any.whl (43 kB)\n",
      "Collecting opensearch-py<2.0.0,>=1.0.0\n",
      "  Using cached https://private.artifactory.foc.zone/artifactory/api/pypi/pypi-remote/packages/packages/74/fd/59f57eaa83cf765a504d9cebdb99d1c9057c1987dc69fc5be61b6b756fa7/opensearch_py-1.1.0-py2.py3-none-any.whl (207 kB)\n",
      "Collecting pg8000<2.0.0,>=1.20.0\n",
      "  Using cached https://private.artifactory.foc.zone/artifactory/api/pypi/pypi-remote/packages/packages/23/6c/f2e8a438691d9ff1a2a22d453edbefcf2e9c230682c6c4e4969f750d0468/pg8000-1.29.1-py3-none-any.whl (34 kB)\n",
      "Collecting requests-aws4auth<2.0.0,>=1.1.1\n",
      "  Using cached https://private.artifactory.foc.zone/artifactory/api/pypi/pypi-remote/packages/packages/6a/e7/631559b2f2b8e07729e70eb265166eebe28739d97d42d422a501ae54a2ca/requests_aws4auth-1.1.2-py2.py3-none-any.whl (24 kB)\n",
      "Requirement already satisfied: botocore<2.0.0,>=1.23.17 in /opt/conda/lib/python3.7/site-packages (from awswrangler) (1.27.12)\n",
      "Requirement already satisfied: boto3<2.0.0,>=1.20.17 in /opt/conda/lib/python3.7/site-packages (from awswrangler) (1.24.12)\n",
      "Collecting progressbar2<5.0.0,>=4.0.0\n",
      "  Using cached https://private.artifactory.foc.zone/artifactory/api/pypi/pypi-remote/packages/packages/e8/e7/a823e2c141d50930814af22fb3350b696b190318c7722055971be8519467/progressbar2-4.0.0-py2.py3-none-any.whl (26 kB)\n",
      "Requirement already satisfied: s3transfer<0.7.0,>=0.6.0 in /opt/conda/lib/python3.7/site-packages (from boto3<2.0.0,>=1.20.17->awswrangler) (0.6.0)\n",
      "Requirement already satisfied: jmespath<2.0.0,>=0.7.1 in /opt/conda/lib/python3.7/site-packages (from boto3<2.0.0,>=1.20.17->awswrangler) (1.0.1)\n",
      "Requirement already satisfied: python-dateutil<3.0.0,>=2.1 in /opt/conda/lib/python3.7/site-packages (from botocore<2.0.0,>=1.23.17->awswrangler) (2.8.1)\n",
      "Requirement already satisfied: urllib3<1.27,>=1.25.4 in /opt/conda/lib/python3.7/site-packages (from botocore<2.0.0,>=1.23.17->awswrangler) (1.26.9)\n",
      "Collecting aenum<4.0.0,>=1.4.5\n",
      "  Using cached https://private.artifactory.foc.zone/artifactory/api/pypi/pypi-remote/packages/packages/38/bd/2c911f3ff06b34e90639058e84a5b198447e24b9ff386984da365bea6964/aenum-3.1.11-py3-none-any.whl (131 kB)\n",
      "Collecting isodate<1.0.0,>=0.6.0\n",
      "  Using cached https://private.artifactory.foc.zone/artifactory/api/pypi/pypi-remote/packages/packages/b6/85/7882d311924cbcfc70b1890780763e36ff0b140c7e51c110fc59a532f087/isodate-0.6.1-py2.py3-none-any.whl (41 kB)\n",
      "Requirement already satisfied: nest-asyncio in /opt/conda/lib/python3.7/site-packages (from gremlinpython<4.0.0,>=3.5.2->awswrangler) (1.5.5)\n",
      "Requirement already satisfied: aiohttp<=3.8.1,>=3.8.0 in /opt/conda/lib/python3.7/site-packages (from gremlinpython<4.0.0,>=3.5.2->awswrangler) (3.8.1)\n",
      "Requirement already satisfied: ply in /opt/conda/lib/python3.7/site-packages (from jsonpath-ng<2.0.0,>=1.5.3->awswrangler) (3.11)\n",
      "Requirement already satisfied: decorator in /opt/conda/lib/python3.7/site-packages (from jsonpath-ng<2.0.0,>=1.5.3->awswrangler) (4.4.1)\n",
      "Requirement already satisfied: six in /opt/conda/lib/python3.7/site-packages (from jsonpath-ng<2.0.0,>=1.5.3->awswrangler) (1.14.0)\n",
      "Requirement already satisfied: et-xmlfile in /opt/conda/lib/python3.7/site-packages (from openpyxl<3.1.0,>=3.0.0->awswrangler) (1.0.1)\n",
      "Requirement already satisfied: jdcal in /opt/conda/lib/python3.7/site-packages (from openpyxl<3.1.0,>=3.0.0->awswrangler) (1.4.1)\n",
      "Requirement already satisfied: certifi in /opt/conda/lib/python3.7/site-packages (from opensearch-py<2.0.0,>=1.0.0->awswrangler) (2022.6.15)\n",
      "Requirement already satisfied: pytz>=2017.3 in /opt/conda/lib/python3.7/site-packages (from pandas<2.0.0,>=1.2.0->awswrangler) (2019.3)\n",
      "Requirement already satisfied: importlib-metadata>=1.0 in /opt/conda/lib/python3.7/site-packages (from pg8000<2.0.0,>=1.20.0->awswrangler) (1.5.0)\n",
      "Collecting scramp>=1.4.1\n",
      "  Using cached https://private.artifactory.foc.zone/artifactory/api/pypi/pypi-remote/packages/packages/27/31/80bfb02ba2daa9a0ca66f82650c411f1a2b21ce85164408f57e99aab4e4e/scramp-1.4.1-py3-none-any.whl (8.5 kB)\n",
      "Collecting python-utils>=3.0.0\n",
      "  Using cached https://private.artifactory.foc.zone/artifactory/api/pypi/pypi-remote/packages/packages/47/ea/07bd92aa551bcb8a994d59b9daaff39085ed268464dd9e2e041a6927e41f/python_utils-3.3.3-py2.py3-none-any.whl (23 kB)\n",
      "Requirement already satisfied: beautifulsoup4<5.0.0,>=4.7.0 in /opt/conda/lib/python3.7/site-packages (from redshift-connector<2.1.0,>=2.0.889->awswrangler) (4.8.2)\n",
      "Requirement already satisfied: requests<2.28.1,>=2.23.0 in /opt/conda/lib/python3.7/site-packages (from redshift-connector<2.1.0,>=2.0.889->awswrangler) (2.28.0)\n",
      "Requirement already satisfied: lxml>=4.6.5 in /opt/conda/lib/python3.7/site-packages (from redshift-connector<2.1.0,>=2.0.889->awswrangler) (4.9.0)\n",
      "Collecting pytz>=2017.3\n",
      "  Using cached https://private.artifactory.foc.zone/artifactory/api/pypi/pypi-remote/packages/packages/60/2e/dec1cc18c51b8df33c7c4d0a321b084cf38e1733b98f9d15018880fb4970/pytz-2022.1-py2.py3-none-any.whl (503 kB)\n",
      "Requirement already satisfied: packaging in /opt/conda/lib/python3.7/site-packages (from redshift-connector<2.1.0,>=2.0.889->awswrangler) (20.1)\n",
      "Requirement already satisfied: multidict<7.0,>=4.5 in /opt/conda/lib/python3.7/site-packages (from aiohttp<=3.8.1,>=3.8.0->gremlinpython<4.0.0,>=3.5.2->awswrangler) (6.0.2)\n",
      "Requirement already satisfied: frozenlist>=1.1.1 in /opt/conda/lib/python3.7/site-packages (from aiohttp<=3.8.1,>=3.8.0->gremlinpython<4.0.0,>=3.5.2->awswrangler) (1.3.0)\n",
      "Requirement already satisfied: charset-normalizer<3.0,>=2.0 in /opt/conda/lib/python3.7/site-packages (from aiohttp<=3.8.1,>=3.8.0->gremlinpython<4.0.0,>=3.5.2->awswrangler) (2.0.4)\n",
      "Requirement already satisfied: aiosignal>=1.1.2 in /opt/conda/lib/python3.7/site-packages (from aiohttp<=3.8.1,>=3.8.0->gremlinpython<4.0.0,>=3.5.2->awswrangler) (1.2.0)\n",
      "Requirement already satisfied: typing-extensions>=3.7.4 in /opt/conda/lib/python3.7/site-packages (from aiohttp<=3.8.1,>=3.8.0->gremlinpython<4.0.0,>=3.5.2->awswrangler) (4.2.0)\n",
      "Requirement already satisfied: asynctest==0.13.0 in /opt/conda/lib/python3.7/site-packages (from aiohttp<=3.8.1,>=3.8.0->gremlinpython<4.0.0,>=3.5.2->awswrangler) (0.13.0)\n",
      "Requirement already satisfied: async-timeout<5.0,>=4.0.0a3 in /opt/conda/lib/python3.7/site-packages (from aiohttp<=3.8.1,>=3.8.0->gremlinpython<4.0.0,>=3.5.2->awswrangler) (4.0.2)\n",
      "Requirement already satisfied: yarl<2.0,>=1.0 in /opt/conda/lib/python3.7/site-packages (from aiohttp<=3.8.1,>=3.8.0->gremlinpython<4.0.0,>=3.5.2->awswrangler) (1.7.2)\n",
      "Requirement already satisfied: attrs>=17.3.0 in /opt/conda/lib/python3.7/site-packages (from aiohttp<=3.8.1,>=3.8.0->gremlinpython<4.0.0,>=3.5.2->awswrangler) (20.3.0)\n",
      "Requirement already satisfied: soupsieve>=1.2 in /opt/conda/lib/python3.7/site-packages (from beautifulsoup4<5.0.0,>=4.7.0->redshift-connector<2.1.0,>=2.0.889->awswrangler) (1.9.5)\n",
      "Requirement already satisfied: zipp>=0.5 in /opt/conda/lib/python3.7/site-packages (from importlib-metadata>=1.0->pg8000<2.0.0,>=1.20.0->awswrangler) (2.2.0)\n",
      "Requirement already satisfied: idna<4,>=2.5 in /opt/conda/lib/python3.7/site-packages (from requests<2.28.1,>=2.23.0->redshift-connector<2.1.0,>=2.0.889->awswrangler) (2.8)\n",
      "Collecting asn1crypto>=1.4.0\n",
      "  Using cached https://private.artifactory.foc.zone/artifactory/api/pypi/pypi-remote/packages/packages/c9/7f/09065fd9e27da0eda08b4d6897f1c13535066174cc023af248fc2a8d5e5a/asn1crypto-1.5.1-py2.py3-none-any.whl (105 kB)\n",
      "Requirement already satisfied: pyparsing>=2.0.2 in /opt/conda/lib/python3.7/site-packages (from packaging->redshift-connector<2.1.0,>=2.0.889->awswrangler) (2.4.6)\n",
      "Installing collected packages: pytz, asn1crypto, aenum, scramp, python-utils, pymysql, pyarrow, opensearch-py, jsonpath-ng, isodate, backoff, requests-aws4auth, progressbar2, pg8000, pandas, gremlinpython, redshift-connector, awswrangler\n",
      "  Attempting uninstall: pytz\n",
      "    Found existing installation: pytz 2019.3\n",
      "    Uninstalling pytz-2019.3:\n",
      "      Successfully uninstalled pytz-2019.3\n",
      "  Attempting uninstall: asn1crypto\n",
      "    Found existing installation: asn1crypto 1.3.0\n",
      "    Uninstalling asn1crypto-1.3.0:\n",
      "      Successfully uninstalled asn1crypto-1.3.0\n",
      "  Attempting uninstall: pyarrow\n",
      "    Found existing installation: pyarrow 8.0.0\n",
      "    Uninstalling pyarrow-8.0.0:\n",
      "      Successfully uninstalled pyarrow-8.0.0\n",
      "  Attempting uninstall: pandas\n",
      "    Found existing installation: pandas 1.0.1\n",
      "    Uninstalling pandas-1.0.1:\n",
      "      Successfully uninstalled pandas-1.0.1\n",
      "Successfully installed aenum-3.1.11 asn1crypto-1.5.1 awswrangler-2.16.1 backoff-2.1.2 gremlinpython-3.6.0 isodate-0.6.1 jsonpath-ng-1.5.3 opensearch-py-1.1.0 pandas-1.3.5 pg8000-1.29.1 progressbar2-4.0.0 pyarrow-7.0.0 pymysql-1.0.2 python-utils-3.3.3 pytz-2022.1 redshift-connector-2.0.908 requests-aws4auth-1.1.2 scramp-1.4.1\n",
      "\u001b[33mWARNING: Running pip as the 'root' user can result in broken permissions and conflicting behaviour with the system package manager. It is recommended to use a virtual environment instead: https://pip.pypa.io/warnings/venv\u001b[0m\u001b[33m\n",
      "\u001b[0m"
     ]
    }
   ],
   "source": [
    "import sys\n",
    "!{sys.executable} -m pip install awswrangler --index-url https://private.artifactory.foc.zone/api/pypi/rdf-pypi-virtual/simple --extra-index-url https://private.artifactory.foc.zone/artifactory/api/pypi/pypi-remote/simple"
   ]
  },
  {
   "cell_type": "code",
   "execution_count": 2,
   "metadata": {},
   "outputs": [],
   "source": [
    "import awswrangler as wr\n",
    "import pandas as pd"
   ]
  },
  {
   "cell_type": "markdown",
   "metadata": {},
   "source": [
    "# Some checks"
   ]
  },
  {
   "cell_type": "code",
   "execution_count": 3,
   "metadata": {},
   "outputs": [],
   "source": [
    "sql_before = '''\n",
    "SELECT DISTINCT \n",
    "       adp.mcvisid_visitorid,\n",
    "       adp.post_tnt\n",
    "FROM rktdp_adobe_omniture_raw_processed_access.adobe_dq_prcd_data AS adp\n",
    "WHERE adp.post_tnt LIKE '%562585%' AND datekey<'2022-06-21' '''\n",
    "df_before = wr.athena.read_sql_query(sql=sql_before, database=\"ktdp_model_outputs_raw_access\", ctas_approach=False, \n",
    "                               workgroup='rcd-datascientist')"
   ]
  },
  {
   "cell_type": "code",
   "execution_count": 4,
   "metadata": {},
   "outputs": [
    {
     "data": {
      "text/plain": [
       "0"
      ]
     },
     "execution_count": 4,
     "metadata": {},
     "output_type": "execute_result"
    }
   ],
   "source": [
    "df_before.mcvisid_visitorid.nunique()"
   ]
  },
  {
   "cell_type": "code",
   "execution_count": 5,
   "metadata": {},
   "outputs": [],
   "source": [
    "sql_after = '''\n",
    "SELECT DISTINCT \n",
    "       adp.mcvisid_visitorid,\n",
    "       adp.post_tnt\n",
    "FROM rktdp_adobe_omniture_raw_processed_access.adobe_dq_prcd_data AS adp\n",
    "WHERE adp.post_tnt LIKE '%562585%' AND datekey>='2022-06-21' '''\n",
    "df_after = wr.athena.read_sql_query(sql=sql_after, database=\"ktdp_model_outputs_raw_access\", ctas_approach=False, \n",
    "                                    workgroup='rcd-datascientist')"
   ]
  },
  {
   "cell_type": "code",
   "execution_count": 6,
   "metadata": {},
   "outputs": [
    {
     "data": {
      "text/plain": [
       "12394"
      ]
     },
     "execution_count": 6,
     "metadata": {},
     "output_type": "execute_result"
    }
   ],
   "source": [
    "df_after.mcvisid_visitorid.nunique()"
   ]
  },
  {
   "cell_type": "code",
   "execution_count": 7,
   "metadata": {},
   "outputs": [],
   "source": [
    "sql_control = '''\n",
    "SELECT DISTINCT \n",
    "       mcvisid_visitorid,\n",
    "       post_tnt,\n",
    "       datekey,\n",
    "       hour\n",
    "FROM rktdp_adobe_omniture_raw_processed_access.adobe_dq_prcd_data\n",
    "WHERE (post_tnt='562585:0:0' OR post_tnt LIKE '%--562585:0:0%' OR post_tnt LIKE '562585:0:0%') AND datekey>='2022-06-21' '''\n",
    "df_control = wr.athena.read_sql_query(sql=sql_control, database=\"ktdp_model_outputs_raw_access\", ctas_approach=False, \n",
    "                                      workgroup='rcd-datascientist')"
   ]
  },
  {
   "cell_type": "code",
   "execution_count": 8,
   "metadata": {},
   "outputs": [
    {
     "data": {
      "text/plain": [
       "6382"
      ]
     },
     "execution_count": 8,
     "metadata": {},
     "output_type": "execute_result"
    }
   ],
   "source": [
    "df_control.mcvisid_visitorid.nunique()"
   ]
  },
  {
   "cell_type": "code",
   "execution_count": 9,
   "metadata": {},
   "outputs": [],
   "source": [
    "sql_test = '''\n",
    "SELECT DISTINCT \n",
    "       adp.mcvisid_visitorid,\n",
    "       adp.post_tnt,\n",
    "       adp.datekey,\n",
    "       adp.hour\n",
    "FROM rktdp_adobe_omniture_raw_processed_access.adobe_dq_prcd_data AS adp\n",
    "WHERE (post_tnt='562585:1:0' OR post_tnt LIKE '%--562585:1:0%' OR post_tnt LIKE '562585:1:0%') AND datekey>='2022-06-21' '''\n",
    "df_test = wr.athena.read_sql_query(sql=sql_test, database=\"ktdp_model_outputs_raw_access\", ctas_approach=False, \n",
    "                                  workgroup='rcd-datascientist')"
   ]
  },
  {
   "cell_type": "code",
   "execution_count": 10,
   "metadata": {},
   "outputs": [
    {
     "data": {
      "text/html": [
       "<div>\n",
       "<style scoped>\n",
       "    .dataframe tbody tr th:only-of-type {\n",
       "        vertical-align: middle;\n",
       "    }\n",
       "\n",
       "    .dataframe tbody tr th {\n",
       "        vertical-align: top;\n",
       "    }\n",
       "\n",
       "    .dataframe thead th {\n",
       "        text-align: right;\n",
       "    }\n",
       "</style>\n",
       "<table border=\"1\" class=\"dataframe\">\n",
       "  <thead>\n",
       "    <tr style=\"text-align: right;\">\n",
       "      <th></th>\n",
       "      <th>mcvisid_visitorid</th>\n",
       "      <th>post_tnt</th>\n",
       "      <th>datekey</th>\n",
       "      <th>hour</th>\n",
       "    </tr>\n",
       "  </thead>\n",
       "  <tbody>\n",
       "    <tr>\n",
       "      <th>0</th>\n",
       "      <td>81528838810448043783116974624610335233</td>\n",
       "      <td>562585:1:0--**--562432:1:0--**--560145:0:0--**...</td>\n",
       "      <td>2022-06-26</td>\n",
       "      <td>4</td>\n",
       "    </tr>\n",
       "    <tr>\n",
       "      <th>1</th>\n",
       "      <td>82668918350976323174607153608867312638</td>\n",
       "      <td>562585:1:0--**--562432:0:0</td>\n",
       "      <td>2022-06-28</td>\n",
       "      <td>21</td>\n",
       "    </tr>\n",
       "    <tr>\n",
       "      <th>2</th>\n",
       "      <td>54439236892634191521763521880140678573</td>\n",
       "      <td>562585:1:0--**--562432:1:0</td>\n",
       "      <td>2022-06-28</td>\n",
       "      <td>22</td>\n",
       "    </tr>\n",
       "    <tr>\n",
       "      <th>3</th>\n",
       "      <td>04320741464401047131733508659505845333</td>\n",
       "      <td>562585:1:0</td>\n",
       "      <td>2022-06-30</td>\n",
       "      <td>19</td>\n",
       "    </tr>\n",
       "    <tr>\n",
       "      <th>4</th>\n",
       "      <td>35747565093530691483937630203632047020</td>\n",
       "      <td>562585:1:0</td>\n",
       "      <td>2022-07-05</td>\n",
       "      <td>20</td>\n",
       "    </tr>\n",
       "  </tbody>\n",
       "</table>\n",
       "</div>"
      ],
      "text/plain": [
       "                        mcvisid_visitorid  \\\n",
       "0  81528838810448043783116974624610335233   \n",
       "1  82668918350976323174607153608867312638   \n",
       "2  54439236892634191521763521880140678573   \n",
       "3  04320741464401047131733508659505845333   \n",
       "4  35747565093530691483937630203632047020   \n",
       "\n",
       "                                            post_tnt     datekey  hour  \n",
       "0  562585:1:0--**--562432:1:0--**--560145:0:0--**...  2022-06-26     4  \n",
       "1                         562585:1:0--**--562432:0:0  2022-06-28    21  \n",
       "2                         562585:1:0--**--562432:1:0  2022-06-28    22  \n",
       "3                                         562585:1:0  2022-06-30    19  \n",
       "4                                         562585:1:0  2022-07-05    20  "
      ]
     },
     "execution_count": 10,
     "metadata": {},
     "output_type": "execute_result"
    }
   ],
   "source": [
    "df_test.head()"
   ]
  },
  {
   "cell_type": "code",
   "execution_count": 11,
   "metadata": {},
   "outputs": [
    {
     "data": {
      "text/plain": [
       "6012"
      ]
     },
     "execution_count": 11,
     "metadata": {},
     "output_type": "execute_result"
    }
   ],
   "source": [
    "df_test.mcvisid_visitorid.nunique()"
   ]
  },
  {
   "cell_type": "code",
   "execution_count": 12,
   "metadata": {},
   "outputs": [
    {
     "data": {
      "text/plain": [
       "10293"
      ]
     },
     "execution_count": 12,
     "metadata": {},
     "output_type": "execute_result"
    }
   ],
   "source": [
    "5295+4998"
   ]
  },
  {
   "cell_type": "markdown",
   "metadata": {},
   "source": [
    "# Checking events data"
   ]
  },
  {
   "cell_type": "code",
   "execution_count": 13,
   "metadata": {},
   "outputs": [],
   "source": [
    "sql_event = '''\n",
    "SELECT * \n",
    "FROM rktdp_adobe_omniture_raw_processed_access.adobe_websessionpostevent\n",
    "WHERE mcvisid_visitorid = '49799992538523264713463772097096218572'\n",
    "AND datekey >= '2022-07-01' AND eventid='247'\n",
    "'''\n",
    "df_event = wr.athena.read_sql_query(sql=sql_event, database=\"ktdp_model_outputs_raw_access\", ctas_approach=False, \n",
    "                                    workgroup='rcd-datascientist')"
   ]
  },
  {
   "cell_type": "code",
   "execution_count": 14,
   "metadata": {},
   "outputs": [
    {
     "data": {
      "text/html": [
       "<div>\n",
       "<style scoped>\n",
       "    .dataframe tbody tr th:only-of-type {\n",
       "        vertical-align: middle;\n",
       "    }\n",
       "\n",
       "    .dataframe tbody tr th {\n",
       "        vertical-align: top;\n",
       "    }\n",
       "\n",
       "    .dataframe thead th {\n",
       "        text-align: right;\n",
       "    }\n",
       "</style>\n",
       "<table border=\"1\" class=\"dataframe\">\n",
       "  <thead>\n",
       "    <tr style=\"text-align: right;\">\n",
       "      <th></th>\n",
       "      <th>uniquevisitkey</th>\n",
       "      <th>calcualted_visitorid</th>\n",
       "      <th>mcvisid_visitorid</th>\n",
       "      <th>date_time</th>\n",
       "      <th>post_event_list</th>\n",
       "      <th>eventid</th>\n",
       "      <th>event_lookup</th>\n",
       "      <th>hash_value</th>\n",
       "      <th>datekey</th>\n",
       "      <th>hour</th>\n",
       "    </tr>\n",
       "  </thead>\n",
       "  <tbody>\n",
       "  </tbody>\n",
       "</table>\n",
       "</div>"
      ],
      "text/plain": [
       "Empty DataFrame\n",
       "Columns: [uniquevisitkey, calcualted_visitorid, mcvisid_visitorid, date_time, post_event_list, eventid, event_lookup, hash_value, datekey, hour]\n",
       "Index: []"
      ]
     },
     "execution_count": 14,
     "metadata": {},
     "output_type": "execute_result"
    }
   ],
   "source": [
    "df_event"
   ]
  },
  {
   "cell_type": "markdown",
   "metadata": {},
   "source": [
    "# Comparing event data"
   ]
  },
  {
   "cell_type": "code",
   "execution_count": 15,
   "metadata": {},
   "outputs": [],
   "source": [
    "sql = '''\n",
    "WITH all AS\n",
    "(\n",
    "    SELECT DISTINCT \n",
    "           adp.mcvisid_visitorid,\n",
    "           adp.datekey,\n",
    "           CASE\n",
    "               WHEN post_tnt LIKE '%562585:0:0%' THEN '562585:0:0'\n",
    "               WHEN post_tnt LIKE '%562585:1:0%' THEN '562585:1:0'\n",
    "           END AS experiment_group\n",
    "    FROM rktdp_adobe_omniture_raw_processed_access.adobe_dq_prcd_data AS adp\n",
    "    WHERE adp.post_tnt LIKE '%562585%' AND adp.datekey>='2022-06-21' AND adp.datekey<='2022-07-12'\n",
    "),\n",
    "\n",
    "first AS\n",
    "(\n",
    "    SELECT mcvisid_visitorid, \n",
    "           experiment_group,\n",
    "           MIN(datekey) AS datekey\n",
    "    FROM all\n",
    "    GROUP BY mcvisid_visitorid, experiment_group\n",
    "),\n",
    "\n",
    "event AS\n",
    "(\n",
    "    SELECT first.mcvisid_visitorid,\n",
    "           first.experiment_group,\n",
    "           first.datekey,\n",
    "           ev.datekey AS ev_datekey\n",
    "    FROM first\n",
    "    LEFT JOIN rktdp_adobe_omniture_raw_processed_access.adobe_websessionpostevent AS ev\n",
    "    ON first.mcvisid_visitorid = ev.mcvisid_visitorid\n",
    "    AND ev.datekey>='2022-06-21' AND ev.datekey<='2022-07-12' AND ev.eventid = '228'\n",
    ")\n",
    "\n",
    "SELECT *\n",
    "FROM event\n",
    "'''\n",
    "df = wr.athena.read_sql_query(sql=sql, database=\"rktdp_adobe_omniture_raw_processed_access\", ctas_approach=False, \n",
    "                              workgroup='rcd-datascientist')"
   ]
  },
  {
   "cell_type": "code",
   "execution_count": 16,
   "metadata": {},
   "outputs": [
    {
     "data": {
      "text/plain": [
       "10470"
      ]
     },
     "execution_count": 16,
     "metadata": {},
     "output_type": "execute_result"
    }
   ],
   "source": [
    "df.mcvisid_visitorid.nunique()"
   ]
  },
  {
   "cell_type": "code",
   "execution_count": 17,
   "metadata": {},
   "outputs": [
    {
     "data": {
      "text/plain": [
       "562585:0:0    5393\n",
       "562585:1:0    5077\n",
       "Name: experiment_group, dtype: Int64"
      ]
     },
     "execution_count": 17,
     "metadata": {},
     "output_type": "execute_result"
    }
   ],
   "source": [
    "df[['mcvisid_visitorid', 'experiment_group']].drop_duplicates().experiment_group.value_counts()"
   ]
  },
  {
   "cell_type": "code",
   "execution_count": 18,
   "metadata": {},
   "outputs": [
    {
     "data": {
      "text/plain": [
       "562585:1:0    60\n",
       "562585:0:0    11\n",
       "Name: experiment_group, dtype: Int64"
      ]
     },
     "execution_count": 18,
     "metadata": {},
     "output_type": "execute_result"
    }
   ],
   "source": [
    "df[~df.ev_datekey.isna()].experiment_group.value_counts()"
   ]
  },
  {
   "cell_type": "code",
   "execution_count": 19,
   "metadata": {},
   "outputs": [
    {
     "data": {
      "text/plain": [
       "562585:1:0    26\n",
       "562585:0:0     4\n",
       "Name: experiment_group, dtype: Int64"
      ]
     },
     "execution_count": 19,
     "metadata": {},
     "output_type": "execute_result"
    }
   ],
   "source": [
    "df[~df.ev_datekey.isna()][['mcvisid_visitorid', 'experiment_group']].drop_duplicates().experiment_group.value_counts()"
   ]
  },
  {
   "cell_type": "code",
   "execution_count": 20,
   "metadata": {},
   "outputs": [],
   "source": [
    "sql = '''\n",
    "WITH all AS\n",
    "(\n",
    "    SELECT DISTINCT \n",
    "           adp.mcvisid_visitorid,\n",
    "           adp.datekey,\n",
    "           CASE\n",
    "               WHEN post_tnt LIKE '%562585:0:0%' THEN '562585:0:0'\n",
    "               WHEN post_tnt LIKE '%562585:1:0%' THEN '562585:1:0'\n",
    "           END AS experiment_group\n",
    "    FROM rktdp_adobe_omniture_raw_processed_access.adobe_dq_prcd_data AS adp\n",
    "    WHERE adp.post_tnt LIKE '%562585%' AND adp.datekey>='2022-06-21' AND adp.datekey<='2022-07-12'\n",
    "),\n",
    "\n",
    "first AS\n",
    "(\n",
    "    SELECT mcvisid_visitorid, \n",
    "           experiment_group,\n",
    "           MIN(datekey) AS datekey\n",
    "    FROM all\n",
    "    GROUP BY mcvisid_visitorid, experiment_group\n",
    "),\n",
    "\n",
    "event AS\n",
    "(\n",
    "    SELECT first.mcvisid_visitorid,\n",
    "           first.experiment_group,\n",
    "           first.datekey,\n",
    "           ev.datekey AS ev_datekey,\n",
    "           ev.post_event_list\n",
    "    FROM first\n",
    "    LEFT JOIN rktdp_adobe_omniture_raw_processed_access.adobe_dq_prcd_data AS ev\n",
    "    ON first.mcvisid_visitorid = ev.mcvisid_visitorid\n",
    "    AND ev.datekey>='2022-06-21' AND ev.datekey<='2022-07-12' AND (ev.post_event_list LIKE '%,228,%' OR ev.post_event_list LIKE '228,%'\n",
    "    OR ev.post_event_list LIKE '%,228' OR ev.post_event_list LIKE '228')\n",
    ")\n",
    "\n",
    "SELECT *\n",
    "FROM event\n",
    "'''\n",
    "df = wr.athena.read_sql_query(sql=sql, database=\"rktdp_adobe_omniture_raw_processed_access\", ctas_approach=False, \n",
    "                              workgroup='rcd-datascientist')"
   ]
  },
  {
   "cell_type": "code",
   "execution_count": 21,
   "metadata": {},
   "outputs": [
    {
     "data": {
      "text/plain": [
       "562585:0:0    5393\n",
       "562585:1:0    5077\n",
       "Name: experiment_group, dtype: Int64"
      ]
     },
     "execution_count": 21,
     "metadata": {},
     "output_type": "execute_result"
    }
   ],
   "source": [
    "df[['mcvisid_visitorid', 'experiment_group']].drop_duplicates().experiment_group.value_counts()"
   ]
  },
  {
   "cell_type": "code",
   "execution_count": 22,
   "metadata": {},
   "outputs": [
    {
     "data": {
      "text/plain": [
       "562585:1:0    26\n",
       "562585:0:0     4\n",
       "Name: experiment_group, dtype: Int64"
      ]
     },
     "execution_count": 22,
     "metadata": {},
     "output_type": "execute_result"
    }
   ],
   "source": [
    "df[~df.ev_datekey.isna()][['mcvisid_visitorid', 'experiment_group']].drop_duplicates().experiment_group.value_counts()"
   ]
  },
  {
   "cell_type": "markdown",
   "metadata": {},
   "source": [
    "# Functions"
   ]
  },
  {
   "cell_type": "code",
   "execution_count": 23,
   "metadata": {},
   "outputs": [],
   "source": [
    "def df_sql_event_table(eventid):\n",
    "    sql = f'''\n",
    "    WITH all AS\n",
    "    (\n",
    "        SELECT DISTINCT \n",
    "               adp.mcvisid_visitorid,\n",
    "               adp.datekey,\n",
    "               CASE\n",
    "                   WHEN post_tnt LIKE '%562585:0:0%' THEN '562585:0:0'\n",
    "                   WHEN post_tnt LIKE '%562585:1:0%' THEN '562585:1:0'\n",
    "               END AS experiment_group\n",
    "        FROM rktdp_adobe_omniture_raw_processed_access.adobe_dq_prcd_data AS adp\n",
    "        WHERE adp.post_tnt LIKE '%562585%' AND adp.datekey>='2022-06-21' AND adp.datekey<='2022-07-12'\n",
    "    ),\n",
    "\n",
    "    first AS\n",
    "    (\n",
    "        SELECT mcvisid_visitorid, \n",
    "               experiment_group,\n",
    "               MIN(datekey) AS datekey\n",
    "        FROM all\n",
    "        GROUP BY mcvisid_visitorid, experiment_group\n",
    "    ),\n",
    "\n",
    "    event AS\n",
    "    (\n",
    "        SELECT first.mcvisid_visitorid,\n",
    "               first.experiment_group,\n",
    "               first.datekey,\n",
    "               ev.datekey AS ev_datekey\n",
    "        FROM first\n",
    "        LEFT JOIN rktdp_adobe_omniture_raw_processed_access.adobe_websessionpostevent AS ev\n",
    "        ON first.mcvisid_visitorid = ev.mcvisid_visitorid\n",
    "        AND ev.datekey>='2022-06-21' AND ev.datekey<='2022-07-12' AND ev.eventid = '{eventid}'\n",
    "    )\n",
    "\n",
    "    SELECT *\n",
    "    FROM event\n",
    "    '''\n",
    "    return sql"
   ]
  },
  {
   "cell_type": "code",
   "execution_count": 24,
   "metadata": {},
   "outputs": [],
   "source": [
    "def df_sql_event_list(eventid):\n",
    "    sql = f'''\n",
    "    WITH all AS\n",
    "    (\n",
    "        SELECT DISTINCT \n",
    "               adp.mcvisid_visitorid,\n",
    "               adp.datekey,\n",
    "               CASE\n",
    "                   WHEN post_tnt LIKE '%562585:0:0%' THEN '562585:0:0'\n",
    "                   WHEN post_tnt LIKE '%562585:1:0%' THEN '562585:1:0'\n",
    "               END AS experiment_group\n",
    "        FROM rktdp_adobe_omniture_raw_processed_access.adobe_dq_prcd_data AS adp\n",
    "        WHERE adp.post_tnt LIKE '%562585%' AND adp.datekey>='2022-06-21' AND adp.datekey<='2022-07-12'\n",
    "    ),\n",
    "\n",
    "    first AS\n",
    "    (\n",
    "        SELECT mcvisid_visitorid, \n",
    "               experiment_group,\n",
    "               MIN(datekey) AS datekey\n",
    "        FROM all\n",
    "        GROUP BY mcvisid_visitorid, experiment_group\n",
    "    ),\n",
    "\n",
    "    event AS\n",
    "    (\n",
    "        SELECT first.mcvisid_visitorid,\n",
    "               first.experiment_group,\n",
    "               first.datekey,\n",
    "               ev.datekey AS ev_datekey,\n",
    "               ev.post_event_list\n",
    "        FROM first\n",
    "        LEFT JOIN rktdp_adobe_omniture_raw_processed_access.adobe_dq_prcd_data AS ev\n",
    "        ON first.mcvisid_visitorid = ev.mcvisid_visitorid\n",
    "        AND ev.datekey>='2022-06-21' AND ev.datekey<='2022-07-12' AND (ev.post_event_list LIKE '%,{eventid},%' \n",
    "        OR ev.post_event_list LIKE '{eventid},%'\n",
    "        OR ev.post_event_list LIKE '%,{eventid}' OR ev.post_event_list LIKE '{eventid}')\n",
    "    )\n",
    "\n",
    "    SELECT *\n",
    "    FROM event\n",
    "    '''\n",
    "    return sql"
   ]
  },
  {
   "cell_type": "markdown",
   "metadata": {},
   "source": [
    "# Events"
   ]
  },
  {
   "cell_type": "code",
   "execution_count": 25,
   "metadata": {},
   "outputs": [],
   "source": [
    "HARD_ONLINE_CREDIT_PULL = 228\n",
    "LEAD_FORM_SUBMISSION = 206\n",
    "APPLICATION_START = 250"
   ]
  },
  {
   "cell_type": "markdown",
   "metadata": {},
   "source": [
    "# Hard online credit pull"
   ]
  },
  {
   "cell_type": "markdown",
   "metadata": {},
   "source": [
    "## EVent table approach"
   ]
  },
  {
   "cell_type": "code",
   "execution_count": 26,
   "metadata": {},
   "outputs": [],
   "source": [
    "df = wr.athena.read_sql_query(sql=df_sql_event_table(HARD_ONLINE_CREDIT_PULL), \n",
    "                              database=\"rktdp_adobe_omniture_raw_processed_access\", ctas_approach=False, \n",
    "                              workgroup='rcd-datascientist')"
   ]
  },
  {
   "cell_type": "code",
   "execution_count": 27,
   "metadata": {},
   "outputs": [
    {
     "data": {
      "text/plain": [
       "562585:0:0    5393\n",
       "562585:1:0    5077\n",
       "Name: experiment_group, dtype: Int64"
      ]
     },
     "execution_count": 27,
     "metadata": {},
     "output_type": "execute_result"
    }
   ],
   "source": [
    "# Total test population\n",
    "df[['mcvisid_visitorid', 'experiment_group']].drop_duplicates().experiment_group.value_counts()"
   ]
  },
  {
   "cell_type": "code",
   "execution_count": 28,
   "metadata": {},
   "outputs": [
    {
     "data": {
      "text/plain": [
       "562585:1:0    60\n",
       "562585:0:0    11\n",
       "Name: experiment_group, dtype: Int64"
      ]
     },
     "execution_count": 28,
     "metadata": {},
     "output_type": "execute_result"
    }
   ],
   "source": [
    "# duplicate credit pulls\n",
    "df[~df.ev_datekey.isna()].experiment_group.value_counts()"
   ]
  },
  {
   "cell_type": "code",
   "execution_count": 29,
   "metadata": {},
   "outputs": [
    {
     "data": {
      "text/plain": [
       "562585:1:0    26\n",
       "562585:0:0     4\n",
       "Name: experiment_group, dtype: Int64"
      ]
     },
     "execution_count": 29,
     "metadata": {},
     "output_type": "execute_result"
    }
   ],
   "source": [
    "# Deduped pulls\n",
    "df[~df.ev_datekey.isna()][['mcvisid_visitorid', 'experiment_group']].drop_duplicates().experiment_group.value_counts()"
   ]
  },
  {
   "cell_type": "markdown",
   "metadata": {},
   "source": [
    "## Event list approach"
   ]
  },
  {
   "cell_type": "code",
   "execution_count": 30,
   "metadata": {},
   "outputs": [],
   "source": [
    "df = wr.athena.read_sql_query(sql=df_sql_event_list(HARD_ONLINE_CREDIT_PULL), \n",
    "                              database=\"rktdp_adobe_omniture_raw_processed_access\", ctas_approach=False, \n",
    "                              workgroup='rcd-datascientist')"
   ]
  },
  {
   "cell_type": "code",
   "execution_count": 31,
   "metadata": {},
   "outputs": [
    {
     "data": {
      "text/plain": [
       "562585:0:0    5393\n",
       "562585:1:0    5077\n",
       "Name: experiment_group, dtype: Int64"
      ]
     },
     "execution_count": 31,
     "metadata": {},
     "output_type": "execute_result"
    }
   ],
   "source": [
    "# Total test population\n",
    "df[['mcvisid_visitorid', 'experiment_group']].drop_duplicates().experiment_group.value_counts()"
   ]
  },
  {
   "cell_type": "code",
   "execution_count": 32,
   "metadata": {},
   "outputs": [
    {
     "data": {
      "text/plain": [
       "562585:1:0    96\n",
       "562585:0:0    11\n",
       "Name: experiment_group, dtype: Int64"
      ]
     },
     "execution_count": 32,
     "metadata": {},
     "output_type": "execute_result"
    }
   ],
   "source": [
    "# duplicate credit pulls\n",
    "df[~df.ev_datekey.isna()].experiment_group.value_counts()"
   ]
  },
  {
   "cell_type": "code",
   "execution_count": 33,
   "metadata": {},
   "outputs": [
    {
     "data": {
      "text/plain": [
       "562585:1:0    26\n",
       "562585:0:0     4\n",
       "Name: experiment_group, dtype: Int64"
      ]
     },
     "execution_count": 33,
     "metadata": {},
     "output_type": "execute_result"
    }
   ],
   "source": [
    "# Deduped pulls\n",
    "df[~df.ev_datekey.isna()][['mcvisid_visitorid', 'experiment_group']].drop_duplicates().experiment_group.value_counts()"
   ]
  },
  {
   "cell_type": "markdown",
   "metadata": {},
   "source": [
    "# Lead Form Submission"
   ]
  },
  {
   "cell_type": "markdown",
   "metadata": {},
   "source": [
    "## Event table approach"
   ]
  },
  {
   "cell_type": "code",
   "execution_count": 34,
   "metadata": {},
   "outputs": [],
   "source": [
    "df = wr.athena.read_sql_query(sql=df_sql_event_table(LEAD_FORM_SUBMISSION), \n",
    "                              database=\"rktdp_adobe_omniture_raw_processed_access\", ctas_approach=False, \n",
    "                              workgroup='rcd-datascientist')"
   ]
  },
  {
   "cell_type": "code",
   "execution_count": 35,
   "metadata": {},
   "outputs": [
    {
     "data": {
      "text/plain": [
       "562585:0:0    5393\n",
       "562585:1:0    5077\n",
       "Name: experiment_group, dtype: Int64"
      ]
     },
     "execution_count": 35,
     "metadata": {},
     "output_type": "execute_result"
    }
   ],
   "source": [
    "# Total test population\n",
    "df[['mcvisid_visitorid', 'experiment_group']].drop_duplicates().experiment_group.value_counts()"
   ]
  },
  {
   "cell_type": "code",
   "execution_count": 36,
   "metadata": {},
   "outputs": [
    {
     "data": {
      "text/plain": [
       "562585:0:0    3291\n",
       "562585:1:0     216\n",
       "Name: experiment_group, dtype: Int64"
      ]
     },
     "execution_count": 36,
     "metadata": {},
     "output_type": "execute_result"
    }
   ],
   "source": [
    "# duplicate leads\n",
    "df[~df.ev_datekey.isna()].experiment_group.value_counts()"
   ]
  },
  {
   "cell_type": "code",
   "execution_count": 37,
   "metadata": {},
   "outputs": [
    {
     "data": {
      "text/plain": [
       "562585:0:0    3041\n",
       "562585:1:0     192\n",
       "Name: experiment_group, dtype: Int64"
      ]
     },
     "execution_count": 37,
     "metadata": {},
     "output_type": "execute_result"
    }
   ],
   "source": [
    "# Deduped leads\n",
    "df[~df.ev_datekey.isna()][['mcvisid_visitorid', 'experiment_group']].drop_duplicates().experiment_group.value_counts()"
   ]
  },
  {
   "cell_type": "markdown",
   "metadata": {},
   "source": [
    "## Event list approach"
   ]
  },
  {
   "cell_type": "code",
   "execution_count": 38,
   "metadata": {},
   "outputs": [],
   "source": [
    "df = wr.athena.read_sql_query(sql=df_sql_event_list(LEAD_FORM_SUBMISSION), \n",
    "                              database=\"rktdp_adobe_omniture_raw_processed_access\", ctas_approach=False, \n",
    "                              workgroup='rcd-datascientist')"
   ]
  },
  {
   "cell_type": "code",
   "execution_count": 39,
   "metadata": {},
   "outputs": [
    {
     "data": {
      "text/plain": [
       "562585:0:0    5393\n",
       "562585:1:0    5077\n",
       "Name: experiment_group, dtype: Int64"
      ]
     },
     "execution_count": 39,
     "metadata": {},
     "output_type": "execute_result"
    }
   ],
   "source": [
    "# Total test population\n",
    "df[['mcvisid_visitorid', 'experiment_group']].drop_duplicates().experiment_group.value_counts()"
   ]
  },
  {
   "cell_type": "code",
   "execution_count": 40,
   "metadata": {},
   "outputs": [
    {
     "data": {
      "text/plain": [
       "562585:0:0    3291\n",
       "562585:1:0     216\n",
       "Name: experiment_group, dtype: Int64"
      ]
     },
     "execution_count": 40,
     "metadata": {},
     "output_type": "execute_result"
    }
   ],
   "source": [
    "# duplicate leads\n",
    "df[~df.ev_datekey.isna()].experiment_group.value_counts()"
   ]
  },
  {
   "cell_type": "code",
   "execution_count": 41,
   "metadata": {},
   "outputs": [
    {
     "data": {
      "text/plain": [
       "562585:0:0    3041\n",
       "562585:1:0     192\n",
       "Name: experiment_group, dtype: Int64"
      ]
     },
     "execution_count": 41,
     "metadata": {},
     "output_type": "execute_result"
    }
   ],
   "source": [
    "# Deduped leads\n",
    "df[~df.ev_datekey.isna()][['mcvisid_visitorid', 'experiment_group']].drop_duplicates().experiment_group.value_counts()"
   ]
  },
  {
   "cell_type": "markdown",
   "metadata": {},
   "source": [
    "# Application Start"
   ]
  },
  {
   "cell_type": "markdown",
   "metadata": {},
   "source": [
    "## Event table approach"
   ]
  },
  {
   "cell_type": "code",
   "execution_count": 42,
   "metadata": {},
   "outputs": [],
   "source": [
    "df = wr.athena.read_sql_query(sql=df_sql_event_table(APPLICATION_START), \n",
    "                              database=\"rktdp_adobe_omniture_raw_processed_access\", ctas_approach=False, \n",
    "                              workgroup='rcd-datascientist')"
   ]
  },
  {
   "cell_type": "code",
   "execution_count": 43,
   "metadata": {},
   "outputs": [
    {
     "data": {
      "text/plain": [
       "562585:0:0    5393\n",
       "562585:1:0    5077\n",
       "Name: experiment_group, dtype: Int64"
      ]
     },
     "execution_count": 43,
     "metadata": {},
     "output_type": "execute_result"
    }
   ],
   "source": [
    "# Total test population\n",
    "df[['mcvisid_visitorid', 'experiment_group']].drop_duplicates().experiment_group.value_counts()"
   ]
  },
  {
   "cell_type": "code",
   "execution_count": 44,
   "metadata": {},
   "outputs": [
    {
     "data": {
      "text/plain": [
       "562585:1:0    1818\n",
       "562585:0:0      92\n",
       "Name: experiment_group, dtype: Int64"
      ]
     },
     "execution_count": 44,
     "metadata": {},
     "output_type": "execute_result"
    }
   ],
   "source": [
    "# duplicate application\n",
    "df[~df.ev_datekey.isna()].experiment_group.value_counts()"
   ]
  },
  {
   "cell_type": "code",
   "execution_count": 45,
   "metadata": {},
   "outputs": [
    {
     "data": {
      "text/plain": [
       "562585:1:0    1713\n",
       "562585:0:0      84\n",
       "Name: experiment_group, dtype: Int64"
      ]
     },
     "execution_count": 45,
     "metadata": {},
     "output_type": "execute_result"
    }
   ],
   "source": [
    "# Deduped application\n",
    "df[~df.ev_datekey.isna()][['mcvisid_visitorid', 'experiment_group']].drop_duplicates().experiment_group.value_counts()"
   ]
  },
  {
   "cell_type": "markdown",
   "metadata": {},
   "source": [
    "# Event list approach"
   ]
  },
  {
   "cell_type": "code",
   "execution_count": 46,
   "metadata": {},
   "outputs": [],
   "source": [
    "df = wr.athena.read_sql_query(sql=df_sql_event_list(APPLICATION_START), \n",
    "                              database=\"rktdp_adobe_omniture_raw_processed_access\", ctas_approach=False, \n",
    "                              workgroup='rcd-datascientist')"
   ]
  },
  {
   "cell_type": "code",
   "execution_count": 47,
   "metadata": {},
   "outputs": [
    {
     "data": {
      "text/plain": [
       "562585:0:0    5393\n",
       "562585:1:0    5077\n",
       "Name: experiment_group, dtype: Int64"
      ]
     },
     "execution_count": 47,
     "metadata": {},
     "output_type": "execute_result"
    }
   ],
   "source": [
    "# Total test population\n",
    "df[['mcvisid_visitorid', 'experiment_group']].drop_duplicates().experiment_group.value_counts()"
   ]
  },
  {
   "cell_type": "code",
   "execution_count": 48,
   "metadata": {},
   "outputs": [
    {
     "data": {
      "text/plain": [
       "562585:1:0    1818\n",
       "562585:0:0      92\n",
       "Name: experiment_group, dtype: Int64"
      ]
     },
     "execution_count": 48,
     "metadata": {},
     "output_type": "execute_result"
    }
   ],
   "source": [
    "# duplicate application\n",
    "df[~df.ev_datekey.isna()].experiment_group.value_counts()"
   ]
  },
  {
   "cell_type": "code",
   "execution_count": 49,
   "metadata": {},
   "outputs": [
    {
     "data": {
      "text/plain": [
       "562585:1:0    1713\n",
       "562585:0:0      84\n",
       "Name: experiment_group, dtype: Int64"
      ]
     },
     "execution_count": 49,
     "metadata": {},
     "output_type": "execute_result"
    }
   ],
   "source": [
    "# Deduped application\n",
    "df[~df.ev_datekey.isna()][['mcvisid_visitorid', 'experiment_group']].drop_duplicates().experiment_group.value_counts()"
   ]
  },
  {
   "cell_type": "code",
   "execution_count": null,
   "metadata": {},
   "outputs": [],
   "source": []
  }
 ],
 "metadata": {
  "instance_type": "ml.t3.medium",
  "kernelspec": {
   "display_name": "Python 3 (Data Science)",
   "language": "python",
   "name": "python3__SAGEMAKER_INTERNAL__arn:aws:sagemaker:us-east-2:429704687514:image/datascience-1.0"
  },
  "language_info": {
   "codemirror_mode": {
    "name": "ipython",
    "version": 3
   },
   "file_extension": ".py",
   "mimetype": "text/x-python",
   "name": "python",
   "nbconvert_exporter": "python",
   "pygments_lexer": "ipython3",
   "version": "3.7.10"
  }
 },
 "nbformat": 4,
 "nbformat_minor": 4
}
