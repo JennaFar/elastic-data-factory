{
 "cells": [
  {
   "cell_type": "markdown",
   "id": "5c757ba9-78e2-4834-887f-54cc82d66e3b",
   "metadata": {},
   "source": [
    "# Development and Testing Notebook for Elastic Data Factory Library"
   ]
  },
  {
   "cell_type": "markdown",
   "id": "09bc8dbc-9ca7-4211-bf54-3d0d4c4e9769",
   "metadata": {},
   "source": [
    "## This notebook serves as a testing bed for packages and utilities created as part of EDF library lifecycle"
   ]
  },
  {
   "cell_type": "markdown",
   "id": "a981aa53-6ab6-48f8-891c-7ea0c52817aa",
   "metadata": {},
   "source": [
    "### Import packages for data wrangling and plotting"
   ]
  },
  {
   "cell_type": "code",
   "execution_count": 26,
   "id": "b0f587a4-3fb7-45be-821e-4b003c302399",
   "metadata": {
    "tags": []
   },
   "outputs": [],
   "source": [
    "# import unctions for interacting with the operating system\n",
    "import os\n",
    "# import sys functions and variables to manipulate Python runtime environment\n",
    "import sys\n",
    "# import AWS SDK for Python\n",
    "import boto3"
   ]
  },
  {
   "cell_type": "markdown",
   "id": "d7ecf74b-49f6-44e6-b5f8-65feb03058de",
   "metadata": {},
   "source": [
    "### Change working directory"
   ]
  },
  {
   "cell_type": "code",
   "execution_count": 3,
   "id": "e60daac0-3aed-4875-8888-a6f22d8811cd",
   "metadata": {
    "tags": []
   },
   "outputs": [
    {
     "name": "stdout",
     "output_type": "stream",
     "text": [
      "/root/Elastic-Data-Factory\n",
      "Current Working Directory:  /root/Elastic-Data-Factory\n"
     ]
    }
   ],
   "source": [
    "%cd '/root/Elastic-Data-Factory'\n",
    "print('Current Working Directory: ', os.getcwd())"
   ]
  },
  {
   "cell_type": "markdown",
   "id": "a8f3114a-e85a-40dc-972f-7abb46d7009d",
   "metadata": {},
   "source": [
    "### Install additional packages"
   ]
  },
  {
   "cell_type": "code",
   "execution_count": 27,
   "id": "8c1c9f82-797a-4a52-8277-59b780a8f279",
   "metadata": {
    "tags": []
   },
   "outputs": [
    {
     "name": "stdout",
     "output_type": "stream",
     "text": [
      "\u001b[33mWARNING: Skipping Elastic-Data-Factory as it is not installed.\u001b[0m\u001b[33m\n",
      "\u001b[0m\u001b[33mWARNING: Running pip as the 'root' user can result in broken permissions and conflicting behaviour with the system package manager. It is recommended to use a virtual environment instead: https://pip.pypa.io/warnings/venv\u001b[0m\u001b[33m\n",
      "\u001b[0mNote: you may need to restart the kernel to use updated packages.\n"
     ]
    }
   ],
   "source": [
    "pip uninstall Elastic-Data-Factory -y"
   ]
  },
  {
   "cell_type": "code",
   "execution_count": 28,
   "id": "ab40b6f2-2b51-451b-a2a7-053bbfdfd495",
   "metadata": {
    "tags": []
   },
   "outputs": [
    {
     "name": "stdout",
     "output_type": "stream",
     "text": [
      "Files removed: 50\n",
      "Note: you may need to restart the kernel to use updated packages.\n"
     ]
    }
   ],
   "source": [
    "pip cache purge"
   ]
  },
  {
   "cell_type": "code",
   "execution_count": 29,
   "id": "dc539edb-c87d-4db8-a7d8-1d51c27cb675",
   "metadata": {
    "tags": []
   },
   "outputs": [
    {
     "name": "stdout",
     "output_type": "stream",
     "text": [
      "Looking in indexes: https://private.artifactory.foc.zone/artifactory/api/pypi/rdf-pypi-virtual/simple, https://private.artifactory.foc.zone/artifactory/api/pypi/pypi-remote/simple\n",
      "Collecting Elastic-Data-Factory\n",
      "  Downloading https://private.artifactory.foc.zone/artifactory/api/pypi/rdf-pypi-virtual/Elastic-Data-Factory/1.0.3/Elastic_Data_Factory-1.0.3-py3-none-any.whl (60 kB)\n",
      "\u001b[2K     \u001b[90m━━━━━━━━━━━━━━━━━━━━━━━━━━━━━━━━━━━━━━━\u001b[0m \u001b[32m60.3/60.3 kB\u001b[0m \u001b[31m204.2 MB/s\u001b[0m eta \u001b[36m0:00:00\u001b[0m\n",
      "\u001b[?25hRequirement already satisfied: sagemaker>=2.120.0 in /opt/conda/lib/python3.10/site-packages (from Elastic-Data-Factory) (2.132.0)\n",
      "Collecting awswrangler>=2.18.0\n",
      "  Downloading https://private.artifactory.foc.zone/artifactory/api/pypi/pypi-remote/packages/packages/a7/17/789cd0ba0af1a4dde595c3d63143fcca66d6fb9a75afda092721f9e0a91d/awswrangler-2.19.0-py3-none-any.whl (267 kB)\n",
      "\u001b[2K     \u001b[90m━━━━━━━━━━━━━━━━━━━━━━━━━━━━━━━━━━━━━━\u001b[0m \u001b[32m267.1/267.1 kB\u001b[0m \u001b[31m84.3 MB/s\u001b[0m eta \u001b[36m0:00:00\u001b[0m\n",
      "\u001b[?25hCollecting seaborn>=0.12.1\n",
      "  Downloading https://private.artifactory.foc.zone/artifactory/api/pypi/pypi-remote/packages/packages/8f/2e/17bbb83fbf102687bb2aa3d808add39da820a7698159302a1a69bb82e01c/seaborn-0.12.2-py3-none-any.whl (293 kB)\n",
      "\u001b[2K     \u001b[90m━━━━━━━━━━━━━━━━━━━━━━━━━━━━━━━━━━━━━\u001b[0m \u001b[32m293.3/293.3 kB\u001b[0m \u001b[31m103.8 MB/s\u001b[0m eta \u001b[36m0:00:00\u001b[0m\n",
      "\u001b[?25hCollecting click>=8.1.3\n",
      "  Downloading https://private.artifactory.foc.zone/artifactory/api/pypi/pypi-remote/packages/packages/c2/f1/df59e28c642d583f7dacffb1e0965d0e00b218e0186d7858ac5233dce840/click-8.1.3-py3-none-any.whl (96 kB)\n",
      "\u001b[2K     \u001b[90m━━━━━━━━━━━━━━━━━━━━━━━━━━━━━━━━━━━━━━━\u001b[0m \u001b[32m96.6/96.6 kB\u001b[0m \u001b[31m147.3 MB/s\u001b[0m eta \u001b[36m0:00:00\u001b[0m\n",
      "\u001b[?25hRequirement already satisfied: pandas>=1.4.4 in /opt/conda/lib/python3.10/site-packages (from Elastic-Data-Factory) (1.4.4)\n",
      "Collecting xgboost>=1.2.0\n",
      "  Downloading https://private.artifactory.foc.zone/artifactory/api/pypi/pypi-remote/packages/packages/3e/2c/702c0c5ef91ffe13fbe1bc8fbfaf6818b63e3e9dd4dc041124f97de7736a/xgboost-1.7.4-py3-none-manylinux2014_x86_64.whl (193.6 MB)\n",
      "\u001b[2K     \u001b[90m━━━━━━━━━━━━━━━━━━━━━━━━━━━━━━━━━━━━━\u001b[0m \u001b[32m193.6/193.6 MB\u001b[0m \u001b[31m229.4 MB/s\u001b[0m eta \u001b[36m0:00:00\u001b[0ma \u001b[36m0:00:01\u001b[0m\n",
      "\u001b[?25hCollecting scikit-learn>=1.2.0\n",
      "  Downloading https://private.artifactory.foc.zone/artifactory/api/pypi/pypi-remote/packages/packages/80/5e/f095ccdf24860a7548b39f93d2df03017ad3218f90a0406feb5e5661d0c7/scikit_learn-1.2.1-cp310-cp310-manylinux_2_17_x86_64.manylinux2014_x86_64.whl (9.6 MB)\n",
      "\u001b[2K     \u001b[90m━━━━━━━━━━━━━━━━━━━━━━━━━━━━━━━━━━━━━━━━\u001b[0m \u001b[32m9.6/9.6 MB\u001b[0m \u001b[31m206.8 MB/s\u001b[0m eta \u001b[36m0:00:00\u001b[0ma \u001b[36m0:00:01\u001b[0m\n",
      "\u001b[?25hRequirement already satisfied: numpy>=1.23.3 in /opt/conda/lib/python3.10/site-packages (from Elastic-Data-Factory) (1.24.2)\n",
      "Collecting matplotlib>=3.6.2\n",
      "  Downloading https://private.artifactory.foc.zone/artifactory/api/pypi/pypi-remote/packages/packages/05/da/0b3bdae60e27b99d22a044f63de323988c7343b787734ca76e41de48cf9b/matplotlib-3.7.0-cp310-cp310-manylinux_2_17_x86_64.manylinux2014_x86_64.whl (11.6 MB)\n",
      "\u001b[2K     \u001b[90m━━━━━━━━━━━━━━━━━━━━━━━━━━━━━━━━━━━━━━━\u001b[0m \u001b[32m11.6/11.6 MB\u001b[0m \u001b[31m210.6 MB/s\u001b[0m eta \u001b[36m0:00:00\u001b[0ma \u001b[36m0:00:01\u001b[0m\n",
      "\u001b[?25hCollecting plotly>=5.11.0\n",
      "  Downloading https://private.artifactory.foc.zone/artifactory/api/pypi/pypi-remote/packages/packages/39/0e/df1664219b6ca7967ed76afd05fb71a1b9762f8da67e12206625395bd9ff/plotly-5.13.0-py2.py3-none-any.whl (15.2 MB)\n",
      "\u001b[2K     \u001b[90m━━━━━━━━━━━━━━━━━━━━━━━━━━━━━━━━━━━━━━━\u001b[0m \u001b[32m15.2/15.2 MB\u001b[0m \u001b[31m203.4 MB/s\u001b[0m eta \u001b[36m0:00:00\u001b[0ma \u001b[36m0:00:01\u001b[0m\n",
      "\u001b[?25hCollecting statsmodels>=0.13.5\n",
      "  Downloading https://private.artifactory.foc.zone/artifactory/api/pypi/pypi-remote/packages/packages/b1/a5/3e573d7e0f79e8052628357ae75109b34293556fcd0709e75dee25eed0e4/statsmodels-0.13.5-cp310-cp310-manylinux_2_17_x86_64.manylinux2014_x86_64.whl (9.9 MB)\n",
      "\u001b[2K     \u001b[90m━━━━━━━━━━━━━━━━━━━━━━━━━━━━━━━━━━━━━━━━\u001b[0m \u001b[32m9.9/9.9 MB\u001b[0m \u001b[31m217.1 MB/s\u001b[0m eta \u001b[36m0:00:00\u001b[0ma \u001b[36m0:00:01\u001b[0m\n",
      "\u001b[?25hCollecting mlflow==1.30.0\n",
      "  Downloading https://private.artifactory.foc.zone/artifactory/api/pypi/pypi-remote/packages/packages/33/fe/c2c9b72585609344e70606b23c642c8f069997cc63aee55f746527ecd053/mlflow-1.30.0-py3-none-any.whl (17.0 MB)\n",
      "\u001b[2K     \u001b[90m━━━━━━━━━━━━━━━━━━━━━━━━━━━━━━━━━━━━━━━\u001b[0m \u001b[32m17.0/17.0 MB\u001b[0m \u001b[31m193.4 MB/s\u001b[0m eta \u001b[36m0:00:00\u001b[0ma \u001b[36m0:00:01\u001b[0m\n",
      "\u001b[?25hRequirement already satisfied: scipy>=1.9.1 in /opt/conda/lib/python3.10/site-packages (from Elastic-Data-Factory) (1.9.1)\n",
      "Requirement already satisfied: tqdm>=4.64.1 in /opt/conda/lib/python3.10/site-packages (from Elastic-Data-Factory) (4.64.1)\n",
      "Collecting mlflow-connect>=0.4.0\n",
      "  Downloading https://private.artifactory.foc.zone/artifactory/api/pypi/rdf-pypi-virtual/mlflow_connect/mlflow_connect-0.4.3.tar.gz (4.9 kB)\n",
      "  Preparing metadata (setup.py) ... \u001b[?25ldone\n",
      "\u001b[?25hRequirement already satisfied: boto3>=1.26.24 in /opt/conda/lib/python3.10/site-packages (from Elastic-Data-Factory) (1.26.69)\n",
      "Collecting treelib>=1.6.1\n",
      "  Downloading https://private.artifactory.foc.zone/artifactory/api/pypi/pypi-remote/packages/packages/04/b0/2269c328abffbb63979f7143351a24a066776b87526d79956aea5018b80a/treelib-1.6.1.tar.gz (24 kB)\n",
      "  Preparing metadata (setup.py) ... \u001b[?25ldone\n",
      "\u001b[?25hRequirement already satisfied: sqlalchemy<2,>=1.4.0 in /opt/conda/lib/python3.10/site-packages (from mlflow==1.30.0->Elastic-Data-Factory) (1.4.39)\n",
      "Requirement already satisfied: importlib-metadata!=4.7.0,<6,>=3.7.0 in /opt/conda/lib/python3.10/site-packages (from mlflow==1.30.0->Elastic-Data-Factory) (4.11.3)\n",
      "Requirement already satisfied: pytz<2023 in /opt/conda/lib/python3.10/site-packages (from mlflow==1.30.0->Elastic-Data-Factory) (2022.1)\n",
      "Requirement already satisfied: cloudpickle<3 in /opt/conda/lib/python3.10/site-packages (from mlflow==1.30.0->Elastic-Data-Factory) (2.0.0)\n",
      "Collecting alembic<2\n",
      "  Downloading https://private.artifactory.foc.zone/artifactory/api/pypi/pypi-remote/packages/packages/4d/fc/d63e1d08acba9796f4db62dbe7c3f755e5fd033274198c65c111d47bd942/alembic-1.9.4-py3-none-any.whl (210 kB)\n",
      "\u001b[2K     \u001b[90m━━━━━━━━━━━━━━━━━━━━━━━━━━━━━━━━━━━━━\u001b[0m \u001b[32m210.5/210.5 kB\u001b[0m \u001b[31m221.3 MB/s\u001b[0m eta \u001b[36m0:00:00\u001b[0m\n",
      "\u001b[?25hRequirement already satisfied: docker<7,>=4.0.0 in /opt/conda/lib/python3.10/site-packages (from mlflow==1.30.0->Elastic-Data-Factory) (6.0.1)\n",
      "Collecting sqlparse<1,>=0.4.0\n",
      "  Downloading https://private.artifactory.foc.zone/artifactory/api/pypi/pypi-remote/packages/packages/97/d3/31dd2c3e48fc2060819f4acb0686248250a0f2326356306b38a42e059144/sqlparse-0.4.3-py3-none-any.whl (42 kB)\n",
      "\u001b[2K     \u001b[90m━━━━━━━━━━━━━━━━━━━━━━━━━━━━━━━━━━━━━━━\u001b[0m \u001b[32m42.8/42.8 kB\u001b[0m \u001b[31m162.7 MB/s\u001b[0m eta \u001b[36m0:00:00\u001b[0m\n",
      "\u001b[?25hCollecting gitpython<4,>=2.1.0\n",
      "  Downloading https://private.artifactory.foc.zone/artifactory/api/pypi/pypi-remote/packages/packages/9e/8a/d1e02cc111d65b0346f70abb83c51f8593e7134bf694a4a56d1a470caaf7/GitPython-3.1.31-py3-none-any.whl (184 kB)\n",
      "\u001b[2K     \u001b[90m━━━━━━━━━━━━━━━━━━━━━━━━━━━━━━━━━━━━━\u001b[0m \u001b[32m184.3/184.3 kB\u001b[0m \u001b[31m295.7 MB/s\u001b[0m eta \u001b[36m0:00:00\u001b[0m\n",
      "\u001b[?25hRequirement already satisfied: Flask<3 in /opt/conda/lib/python3.10/site-packages (from mlflow==1.30.0->Elastic-Data-Factory) (1.1.2)\n",
      "Collecting gunicorn<21\n",
      "  Downloading https://private.artifactory.foc.zone/artifactory/api/pypi/pypi-remote/packages/packages/e4/dd/5b190393e6066286773a67dfcc2f9492058e9b57c4867a95f1ba5caf0a83/gunicorn-20.1.0-py3-none-any.whl (79 kB)\n",
      "\u001b[2K     \u001b[90m━━━━━━━━━━━━━━━━━━━━━━━━━━━━━━━━━━━━━━━\u001b[0m \u001b[32m79.5/79.5 kB\u001b[0m \u001b[31m231.8 MB/s\u001b[0m eta \u001b[36m0:00:00\u001b[0m\n",
      "\u001b[?25hCollecting databricks-cli<1,>=0.8.7\n",
      "  Downloading https://private.artifactory.foc.zone/artifactory/api/pypi/pypi-remote/packages/packages/ca/18/be4b07af8cf405e60b665e8edc9bf310a6328fdbea5aca5504ed26907d12/databricks-cli-0.17.4.tar.gz (82 kB)\n",
      "\u001b[2K     \u001b[90m━━━━━━━━━━━━━━━━━━━━━━━━━━━━━━━━━━━━━━━\u001b[0m \u001b[32m82.3/82.3 kB\u001b[0m \u001b[31m229.7 MB/s\u001b[0m eta \u001b[36m0:00:00\u001b[0m\n",
      "\u001b[?25h  Preparing metadata (setup.py) ... \u001b[?25ldone\n",
      "\u001b[?25hRequirement already satisfied: packaging<22 in /opt/conda/lib/python3.10/site-packages (from mlflow==1.30.0->Elastic-Data-Factory) (21.3)\n",
      "Collecting prometheus-flask-exporter<1\n",
      "  Downloading https://private.artifactory.foc.zone/artifactory/api/pypi/pypi-remote/packages/packages/a6/cd/7ff75a0602e24adaf8cfdd31986e531f93c53a32ba171eb04eb58bd65993/prometheus_flask_exporter-0.22.2-py3-none-any.whl (18 kB)\n",
      "Requirement already satisfied: requests<3,>=2.17.3 in /opt/conda/lib/python3.10/site-packages (from mlflow==1.30.0->Elastic-Data-Factory) (2.28.2)\n",
      "Requirement already satisfied: protobuf<5,>=3.12.0 in /opt/conda/lib/python3.10/site-packages (from mlflow==1.30.0->Elastic-Data-Factory) (3.20.3)\n",
      "Collecting querystring-parser<2\n",
      "  Downloading https://private.artifactory.foc.zone/artifactory/api/pypi/pypi-remote/packages/packages/88/6b/572b2590fd55114118bf08bde63c0a421dcc82d593700f3e2ad89908a8a9/querystring_parser-1.2.4-py2.py3-none-any.whl (7.9 kB)\n",
      "Requirement already satisfied: entrypoints<1 in /opt/conda/lib/python3.10/site-packages (from mlflow==1.30.0->Elastic-Data-Factory) (0.4)\n",
      "Requirement already satisfied: pyyaml<7,>=5.1 in /opt/conda/lib/python3.10/site-packages (from mlflow==1.30.0->Elastic-Data-Factory) (5.4.1)\n",
      "Collecting jsonpath-ng<2.0.0,>=1.5.3\n",
      "  Downloading https://private.artifactory.foc.zone/artifactory/api/pypi/pypi-remote/packages/packages/4c/b7/3627068d9aa6b2d49af117eb3897770a5dbc6bb3f4c09ed56a9eb749438e/jsonpath_ng-1.5.3-py3-none-any.whl (29 kB)\n",
      "Collecting requests-aws4auth<2.0.0,>=1.1.1\n",
      "  Downloading https://private.artifactory.foc.zone/artifactory/api/pypi/pypi-remote/packages/packages/17/11/2d5ec242ada4b387ed4799ab0603fc0064635e0a5cb5a046f652e336b30e/requests_aws4auth-1.2.2-py2.py3-none-any.whl (24 kB)\n",
      "Requirement already satisfied: botocore<2.0.0,>=1.27.11 in /opt/conda/lib/python3.10/site-packages (from awswrangler>=2.18.0->Elastic-Data-Factory) (1.29.69)\n",
      "Collecting numpy>=1.23.3\n",
      "  Downloading https://private.artifactory.foc.zone/artifactory/api/pypi/pypi-remote/packages/packages/0c/83/78ae18fffc185d0d57097610d5a97473ef11dbdca95f16739ee96b158087/numpy-1.23.4-cp310-cp310-manylinux_2_17_x86_64.manylinux2014_x86_64.whl (17.1 MB)\n",
      "\u001b[2K     \u001b[90m━━━━━━━━━━━━━━━━━━━━━━━━━━━━━━━━━━━━━━━\u001b[0m \u001b[32m17.1/17.1 MB\u001b[0m \u001b[31m213.9 MB/s\u001b[0m eta \u001b[36m0:00:00\u001b[0ma \u001b[36m0:00:01\u001b[0m\n",
      "\u001b[?25hCollecting opensearch-py<3,>=1\n",
      "  Downloading https://private.artifactory.foc.zone/artifactory/api/pypi/pypi-remote/packages/packages/16/be/e6ade26532c58d315ed9f7e1a39caead257811c63c715e0bc4ab7de11f82/opensearch_py-2.1.1-py2.py3-none-any.whl (220 kB)\n",
      "\u001b[2K     \u001b[90m━━━━━━━━━━━━━━━━━━━━━━━━━━━━━━━━━━━━━\u001b[0m \u001b[32m220.8/220.8 kB\u001b[0m \u001b[31m285.9 MB/s\u001b[0m eta \u001b[36m0:00:00\u001b[0m\n",
      "\u001b[?25hCollecting gremlinpython<4.0.0,>=3.5.2\n",
      "  Downloading https://private.artifactory.foc.zone/artifactory/api/pypi/pypi-remote/packages/packages/0a/29/772bda77b0ea6148baea841d52dc2bddf78be24912cd420ef6e308d0e10d/gremlinpython-3.6.2-py2.py3-none-any.whl (74 kB)\n",
      "\u001b[2K     \u001b[90m━━━━━━━━━━━━━━━━━━━━━━━━━━━━━━━━━━━━━━━\u001b[0m \u001b[32m74.4/74.4 kB\u001b[0m \u001b[31m210.9 MB/s\u001b[0m eta \u001b[36m0:00:00\u001b[0m\n",
      "\u001b[?25hCollecting progressbar2<5.0.0,>=4.0.0\n",
      "  Downloading https://private.artifactory.foc.zone/artifactory/api/pypi/pypi-remote/packages/packages/8b/de/a23d9e1141a3503f52d8b22694a7ca19a4706c8e0c74d1f0cdb207e8699d/progressbar2-4.2.0-py2.py3-none-any.whl (27 kB)\n",
      "Collecting pyarrow<10.1.0,>=2.0.0\n",
      "  Downloading https://private.artifactory.foc.zone/artifactory/api/pypi/pypi-remote/packages/packages/db/9f/ef33d4f60089bbe32a5620e599cb485cfd9306bd1663bc603354759c28eb/pyarrow-10.0.1-cp310-cp310-manylinux_2_17_x86_64.manylinux2014_x86_64.whl (35.9 MB)\n",
      "\u001b[2K     \u001b[90m━━━━━━━━━━━━━━━━━━━━━━━━━━━━━━━━━━━━━━━\u001b[0m \u001b[32m35.9/35.9 MB\u001b[0m \u001b[31m221.6 MB/s\u001b[0m eta \u001b[36m0:00:00\u001b[0ma \u001b[36m0:00:01\u001b[0m\n",
      "\u001b[?25hRequirement already satisfied: openpyxl<3.1.0,>=3.0.0 in /opt/conda/lib/python3.10/site-packages (from awswrangler>=2.18.0->Elastic-Data-Factory) (3.0.10)\n",
      "Collecting pg8000<2.0.0,>=1.20.0\n",
      "  Downloading https://private.artifactory.foc.zone/artifactory/api/pypi/pypi-remote/packages/packages/98/c7/9f70fa222b0fbec5c989db768e52a8d652e03f99b272beaabe62153d2a9d/pg8000-1.29.4-py3-none-any.whl (51 kB)\n",
      "\u001b[2K     \u001b[90m━━━━━━━━━━━━━━━━━━━━━━━━━━━━━━━━━━━━━━━\u001b[0m \u001b[32m51.4/51.4 kB\u001b[0m \u001b[31m181.5 MB/s\u001b[0m eta \u001b[36m0:00:00\u001b[0m\n",
      "\u001b[?25hCollecting backoff<3.0.0,>=1.11.1\n",
      "  Downloading https://private.artifactory.foc.zone/artifactory/api/pypi/pypi-remote/packages/packages/df/73/b6e24bd22e6720ca8ee9a85a0c4a2971af8497d8f3193fa05390cbd46e09/backoff-2.2.1-py3-none-any.whl (15 kB)\n",
      "Collecting redshift-connector<2.1.0,>=2.0.889\n",
      "  Downloading https://private.artifactory.foc.zone/artifactory/api/pypi/pypi-remote/packages/packages/9d/56/7a0f5c1a85a9f9c7a2c43850800732ce81e6e98cc0e494c90b3f104757d4/redshift_connector-2.0.910-py3-none-any.whl (112 kB)\n",
      "\u001b[2K     \u001b[90m━━━━━━━━━━━━━━━━━━━━━━━━━━━━━━━━━━━━━\u001b[0m \u001b[32m112.1/112.1 kB\u001b[0m \u001b[31m273.5 MB/s\u001b[0m eta \u001b[36m0:00:00\u001b[0m\n",
      "\u001b[?25hCollecting pymysql<2.0.0,>=1.0.0\n",
      "  Downloading https://private.artifactory.foc.zone/artifactory/api/pypi/pypi-remote/packages/packages/4f/52/a115fe175028b058df353c5a3d5290b71514a83f67078a6482cff24d6137/PyMySQL-1.0.2-py3-none-any.whl (43 kB)\n",
      "\u001b[2K     \u001b[90m━━━━━━━━━━━━━━━━━━━━━━━━━━━━━━━━━━━━━━━\u001b[0m \u001b[32m43.8/43.8 kB\u001b[0m \u001b[31m206.6 MB/s\u001b[0m eta \u001b[36m0:00:00\u001b[0m\n",
      "\u001b[?25hRequirement already satisfied: s3transfer<0.7.0,>=0.6.0 in /opt/conda/lib/python3.10/site-packages (from boto3>=1.26.24->Elastic-Data-Factory) (0.6.0)\n",
      "Requirement already satisfied: jmespath<2.0.0,>=0.7.1 in /opt/conda/lib/python3.10/site-packages (from boto3>=1.26.24->Elastic-Data-Factory) (0.10.0)\n",
      "Requirement already satisfied: fonttools>=4.22.0 in /opt/conda/lib/python3.10/site-packages (from matplotlib>=3.6.2->Elastic-Data-Factory) (4.25.0)\n",
      "Requirement already satisfied: cycler>=0.10 in /opt/conda/lib/python3.10/site-packages (from matplotlib>=3.6.2->Elastic-Data-Factory) (0.11.0)\n",
      "Requirement already satisfied: pillow>=6.2.0 in /opt/conda/lib/python3.10/site-packages (from matplotlib>=3.6.2->Elastic-Data-Factory) (9.4.0)\n",
      "Requirement already satisfied: pyparsing>=2.3.1 in /opt/conda/lib/python3.10/site-packages (from matplotlib>=3.6.2->Elastic-Data-Factory) (3.0.9)\n",
      "Requirement already satisfied: kiwisolver>=1.0.1 in /opt/conda/lib/python3.10/site-packages (from matplotlib>=3.6.2->Elastic-Data-Factory) (1.4.2)\n",
      "Requirement already satisfied: contourpy>=1.0.1 in /opt/conda/lib/python3.10/site-packages (from matplotlib>=3.6.2->Elastic-Data-Factory) (1.0.7)\n",
      "Requirement already satisfied: python-dateutil>=2.7 in /opt/conda/lib/python3.10/site-packages (from matplotlib>=3.6.2->Elastic-Data-Factory) (2.8.2)\n",
      "Requirement already satisfied: tenacity>=6.2.0 in /opt/conda/lib/python3.10/site-packages (from plotly>=5.11.0->Elastic-Data-Factory) (8.0.1)\n",
      "Requirement already satisfied: schema in /opt/conda/lib/python3.10/site-packages (from sagemaker>=2.120.0->Elastic-Data-Factory) (0.7.5)\n",
      "Requirement already satisfied: pathos in /opt/conda/lib/python3.10/site-packages (from sagemaker>=2.120.0->Elastic-Data-Factory) (0.3.0)\n",
      "Requirement already satisfied: google-pasta in /opt/conda/lib/python3.10/site-packages (from sagemaker>=2.120.0->Elastic-Data-Factory) (0.2.0)\n",
      "Requirement already satisfied: smdebug-rulesconfig==1.0.1 in /opt/conda/lib/python3.10/site-packages (from sagemaker>=2.120.0->Elastic-Data-Factory) (1.0.1)\n",
      "Requirement already satisfied: protobuf3-to-dict<1.0,>=0.1.5 in /opt/conda/lib/python3.10/site-packages (from sagemaker>=2.120.0->Elastic-Data-Factory) (0.1.5)\n",
      "Requirement already satisfied: attrs<23,>=20.3.0 in /opt/conda/lib/python3.10/site-packages (from sagemaker>=2.120.0->Elastic-Data-Factory) (21.4.0)\n",
      "Requirement already satisfied: threadpoolctl>=2.0.0 in /opt/conda/lib/python3.10/site-packages (from scikit-learn>=1.2.0->Elastic-Data-Factory) (2.2.0)\n",
      "Requirement already satisfied: joblib>=1.1.1 in /opt/conda/lib/python3.10/site-packages (from scikit-learn>=1.2.0->Elastic-Data-Factory) (1.2.0)\n",
      "Requirement already satisfied: patsy>=0.5.2 in /opt/conda/lib/python3.10/site-packages (from statsmodels>=0.13.5->Elastic-Data-Factory) (0.5.2)\n",
      "Requirement already satisfied: future in /opt/conda/lib/python3.10/site-packages (from treelib>=1.6.1->Elastic-Data-Factory) (0.18.3)\n",
      "Collecting Mako\n",
      "  Downloading https://private.artifactory.foc.zone/artifactory/api/pypi/pypi-remote/packages/packages/03/3b/68690a035ba7347860f1b8c0cde853230ba69ff41df5884ea7d89fe68cd3/Mako-1.2.4-py3-none-any.whl (78 kB)\n",
      "\u001b[2K     \u001b[90m━━━━━━━━━━━━━━━━━━━━━━━━━━━━━━━━━━━━━━━\u001b[0m \u001b[32m78.7/78.7 kB\u001b[0m \u001b[31m263.9 MB/s\u001b[0m eta \u001b[36m0:00:00\u001b[0m\n",
      "\u001b[?25hRequirement already satisfied: urllib3<1.27,>=1.25.4 in /opt/conda/lib/python3.10/site-packages (from botocore<2.0.0,>=1.27.11->awswrangler>=2.18.0->Elastic-Data-Factory) (1.26.14)\n",
      "Collecting pyjwt>=1.7.0\n",
      "  Downloading https://private.artifactory.foc.zone/artifactory/api/pypi/pypi-remote/packages/packages/40/46/505f0dd53c14096f01922bf93a7abb4e40e29a06f858abbaa791e6954324/PyJWT-2.6.0-py3-none-any.whl (20 kB)\n",
      "Collecting oauthlib>=3.1.0\n",
      "  Downloading https://private.artifactory.foc.zone/artifactory/api/pypi/pypi-remote/packages/packages/7e/80/cab10959dc1faead58dc8384a781dfbf93cb4d33d50988f7a69f1b7c9bbe/oauthlib-3.2.2-py3-none-any.whl (151 kB)\n",
      "\u001b[2K     \u001b[90m━━━━━━━━━━━━━━━━━━━━━━━━━━━━━━━━━━━━━\u001b[0m \u001b[32m151.7/151.7 kB\u001b[0m \u001b[31m151.3 MB/s\u001b[0m eta \u001b[36m0:00:00\u001b[0m\n",
      "\u001b[?25hRequirement already satisfied: tabulate>=0.7.7 in /opt/conda/lib/python3.10/site-packages (from databricks-cli<1,>=0.8.7->mlflow==1.30.0->Elastic-Data-Factory) (0.8.10)\n",
      "Requirement already satisfied: six>=1.10.0 in /opt/conda/lib/python3.10/site-packages (from databricks-cli<1,>=0.8.7->mlflow==1.30.0->Elastic-Data-Factory) (1.16.0)\n",
      "Requirement already satisfied: websocket-client>=0.32.0 in /opt/conda/lib/python3.10/site-packages (from docker<7,>=4.0.0->mlflow==1.30.0->Elastic-Data-Factory) (0.58.0)\n",
      "Requirement already satisfied: Werkzeug>=0.15 in /opt/conda/lib/python3.10/site-packages (from Flask<3->mlflow==1.30.0->Elastic-Data-Factory) (2.0.3)\n",
      "Requirement already satisfied: itsdangerous>=0.24 in /opt/conda/lib/python3.10/site-packages (from Flask<3->mlflow==1.30.0->Elastic-Data-Factory) (2.0.1)\n",
      "Requirement already satisfied: Jinja2>=2.10.1 in /opt/conda/lib/python3.10/site-packages (from Flask<3->mlflow==1.30.0->Elastic-Data-Factory) (3.1.2)\n",
      "Collecting gitdb<5,>=4.0.1\n",
      "  Downloading https://private.artifactory.foc.zone/artifactory/api/pypi/pypi-remote/packages/packages/21/a6/35f83efec687615c711fe0a09b67e58f6d1254db27b1013119de46f450bd/gitdb-4.0.10-py3-none-any.whl (62 kB)\n",
      "\u001b[2K     \u001b[90m━━━━━━━━━━━━━━━━━━━━━━━━━━━━━━━━━━━━━━━\u001b[0m \u001b[32m62.7/62.7 kB\u001b[0m \u001b[31m223.9 MB/s\u001b[0m eta \u001b[36m0:00:00\u001b[0m\n",
      "\u001b[?25hRequirement already satisfied: nest-asyncio in /opt/conda/lib/python3.10/site-packages (from gremlinpython<4.0.0,>=3.5.2->awswrangler>=2.18.0->Elastic-Data-Factory) (1.5.5)\n",
      "Collecting aenum<4.0.0,>=1.4.5\n",
      "  Downloading https://private.artifactory.foc.zone/artifactory/api/pypi/pypi-remote/packages/packages/38/bd/2c911f3ff06b34e90639058e84a5b198447e24b9ff386984da365bea6964/aenum-3.1.11-py3-none-any.whl (131 kB)\n",
      "\u001b[2K     \u001b[90m━━━━━━━━━━━━━━━━━━━━━━━━━━━━━━━━━━━━━━\u001b[0m \u001b[32m131.5/131.5 kB\u001b[0m \u001b[31m69.4 MB/s\u001b[0m eta \u001b[36m0:00:00\u001b[0m\n",
      "\u001b[?25hCollecting aiohttp<=3.8.1,>=3.8.0\n",
      "  Downloading https://private.artifactory.foc.zone/artifactory/api/pypi/pypi-remote/packages/packages/f4/2d/07e3ba718571e79509f88a791611a3e156e8915ed9a19116547806bce8fa/aiohttp-3.8.1-cp310-cp310-manylinux_2_5_x86_64.manylinux1_x86_64.manylinux_2_12_x86_64.manylinux2010_x86_64.whl (1.2 MB)\n",
      "\u001b[2K     \u001b[90m━━━━━━━━━━━━━━━━━━━━━━━━━━━━━━━━━━━━━━━━\u001b[0m \u001b[32m1.2/1.2 MB\u001b[0m \u001b[31m81.1 MB/s\u001b[0m eta \u001b[36m0:00:00\u001b[0m\n",
      "\u001b[?25hCollecting isodate<1.0.0,>=0.6.0\n",
      "  Downloading https://private.artifactory.foc.zone/artifactory/api/pypi/pypi-remote/packages/packages/b6/85/7882d311924cbcfc70b1890780763e36ff0b140c7e51c110fc59a532f087/isodate-0.6.1-py2.py3-none-any.whl (41 kB)\n",
      "\u001b[2K     \u001b[90m━━━━━━━━━━━━━━━━━━━━━━━━━━━━━━━━━━━━━━━\u001b[0m \u001b[32m41.7/41.7 kB\u001b[0m \u001b[31m152.5 MB/s\u001b[0m eta \u001b[36m0:00:00\u001b[0m\n",
      "\u001b[?25hRequirement already satisfied: setuptools>=3.0 in /opt/conda/lib/python3.10/site-packages (from gunicorn<21->mlflow==1.30.0->Elastic-Data-Factory) (67.2.0)\n",
      "Requirement already satisfied: zipp>=0.5 in /opt/conda/lib/python3.10/site-packages (from importlib-metadata!=4.7.0,<6,>=3.7.0->mlflow==1.30.0->Elastic-Data-Factory) (3.8.0)\n",
      "Requirement already satisfied: decorator in /opt/conda/lib/python3.10/site-packages (from jsonpath-ng<2.0.0,>=1.5.3->awswrangler>=2.18.0->Elastic-Data-Factory) (5.1.1)\n",
      "Requirement already satisfied: ply in /opt/conda/lib/python3.10/site-packages (from jsonpath-ng<2.0.0,>=1.5.3->awswrangler>=2.18.0->Elastic-Data-Factory) (3.11)\n",
      "Requirement already satisfied: et_xmlfile in /opt/conda/lib/python3.10/site-packages (from openpyxl<3.1.0,>=3.0.0->awswrangler>=2.18.0->Elastic-Data-Factory) (1.1.0)\n",
      "Requirement already satisfied: certifi in /opt/conda/lib/python3.10/site-packages (from opensearch-py<3,>=1->awswrangler>=2.18.0->Elastic-Data-Factory) (2022.12.7)\n",
      "Collecting scramp>=1.4.3\n",
      "  Downloading https://private.artifactory.foc.zone/artifactory/api/pypi/pypi-remote/packages/packages/5f/0a/e4f1cac55d593d07cc75b1949473c28c8024ce7ea3cda9e8b888f2896614/scramp-1.4.4-py3-none-any.whl (13 kB)\n",
      "Collecting python-utils>=3.0.0\n",
      "  Downloading https://private.artifactory.foc.zone/artifactory/api/pypi/pypi-remote/packages/packages/79/80/4276fba30da6ed26165b67093ce4a2ca78b701a55920d39e59cc82ee9639/python_utils-3.5.2-py2.py3-none-any.whl (24 kB)\n",
      "Requirement already satisfied: prometheus-client in /opt/conda/lib/python3.10/site-packages (from prometheus-flask-exporter<1->mlflow==1.30.0->Elastic-Data-Factory) (0.14.1)\n",
      "Requirement already satisfied: lxml>=4.6.5 in /opt/conda/lib/python3.10/site-packages (from redshift-connector<2.1.0,>=2.0.889->awswrangler>=2.18.0->Elastic-Data-Factory) (4.9.2)\n",
      "Requirement already satisfied: beautifulsoup4<5.0.0,>=4.7.0 in /opt/conda/lib/python3.10/site-packages (from redshift-connector<2.1.0,>=2.0.889->awswrangler>=2.18.0->Elastic-Data-Factory) (4.11.1)\n",
      "Requirement already satisfied: charset-normalizer<4,>=2 in /opt/conda/lib/python3.10/site-packages (from requests<3,>=2.17.3->mlflow==1.30.0->Elastic-Data-Factory) (2.0.4)\n",
      "Requirement already satisfied: idna<4,>=2.5 in /opt/conda/lib/python3.10/site-packages (from requests<3,>=2.17.3->mlflow==1.30.0->Elastic-Data-Factory) (3.3)\n",
      "Requirement already satisfied: greenlet!=0.4.17 in /opt/conda/lib/python3.10/site-packages (from sqlalchemy<2,>=1.4.0->mlflow==1.30.0->Elastic-Data-Factory) (1.1.1)\n",
      "Requirement already satisfied: dill>=0.3.6 in /opt/conda/lib/python3.10/site-packages (from pathos->sagemaker>=2.120.0->Elastic-Data-Factory) (0.3.6)\n",
      "Requirement already satisfied: multiprocess>=0.70.14 in /opt/conda/lib/python3.10/site-packages (from pathos->sagemaker>=2.120.0->Elastic-Data-Factory) (0.70.14)\n",
      "Requirement already satisfied: ppft>=1.7.6.6 in /opt/conda/lib/python3.10/site-packages (from pathos->sagemaker>=2.120.0->Elastic-Data-Factory) (1.7.6.6)\n",
      "Requirement already satisfied: pox>=0.3.2 in /opt/conda/lib/python3.10/site-packages (from pathos->sagemaker>=2.120.0->Elastic-Data-Factory) (0.3.2)\n",
      "Requirement already satisfied: contextlib2>=0.5.5 in /opt/conda/lib/python3.10/site-packages (from schema->sagemaker>=2.120.0->Elastic-Data-Factory) (21.6.0)\n",
      "Collecting frozenlist>=1.1.1\n",
      "  Downloading https://private.artifactory.foc.zone/artifactory/api/pypi/pypi-remote/packages/packages/49/0e/c57ad9178618cf81be0fbb8430f17cf05423403143819d3631c7c09744c2/frozenlist-1.3.3-cp310-cp310-manylinux_2_5_x86_64.manylinux1_x86_64.manylinux_2_17_x86_64.manylinux2014_x86_64.whl (149 kB)\n",
      "\u001b[2K     \u001b[90m━━━━━━━━━━━━━━━━━━━━━━━━━━━━━━━━━━━━━━\u001b[0m \u001b[32m149.6/149.6 kB\u001b[0m \u001b[31m91.8 MB/s\u001b[0m eta \u001b[36m0:00:00\u001b[0m\n",
      "\u001b[?25hCollecting aiosignal>=1.1.2\n",
      "  Downloading https://private.artifactory.foc.zone/artifactory/api/pypi/pypi-remote/packages/packages/76/ac/a7305707cb852b7e16ff80eaf5692309bde30e2b1100a1fcacdc8f731d97/aiosignal-1.3.1-py3-none-any.whl (7.6 kB)\n",
      "Collecting async-timeout<5.0,>=4.0.0a3\n",
      "  Downloading https://private.artifactory.foc.zone/artifactory/api/pypi/pypi-remote/packages/packages/d6/c1/8991e7c5385b897b8c020cdaad718c5b087a6626d1d11a23e1ea87e325a7/async_timeout-4.0.2-py3-none-any.whl (5.8 kB)\n",
      "Collecting yarl<2.0,>=1.0\n",
      "  Downloading https://private.artifactory.foc.zone/artifactory/api/pypi/pypi-remote/packages/packages/b5/e0/6ea3832faed10de6a06cd407c660e6978d5538fe7489e934fb9967c8bb8b/yarl-1.8.2-cp310-cp310-manylinux_2_17_x86_64.manylinux2014_x86_64.whl (264 kB)\n",
      "\u001b[2K     \u001b[90m━━━━━━━━━━━━━━━━━━━━━━━━━━━━━━━━━━━━━━\u001b[0m \u001b[32m264.0/264.0 kB\u001b[0m \u001b[31m84.6 MB/s\u001b[0m eta \u001b[36m0:00:00\u001b[0m\n",
      "\u001b[?25hCollecting multidict<7.0,>=4.5\n",
      "  Downloading https://private.artifactory.foc.zone/artifactory/api/pypi/pypi-remote/packages/packages/56/b5/ac112889bfc68e6cf4eda1e4325789b166c51c6cd29d5633e28fb2c2f966/multidict-6.0.4-cp310-cp310-manylinux_2_17_x86_64.manylinux2014_x86_64.whl (114 kB)\n",
      "\u001b[2K     \u001b[90m━━━━━━━━━━━━━━━━━━━━━━━━━━━━━━━━━━━━━━\u001b[0m \u001b[32m114.5/114.5 kB\u001b[0m \u001b[31m63.8 MB/s\u001b[0m eta \u001b[36m0:00:00\u001b[0m\n",
      "\u001b[?25hRequirement already satisfied: soupsieve>1.2 in /opt/conda/lib/python3.10/site-packages (from beautifulsoup4<5.0.0,>=4.7.0->redshift-connector<2.1.0,>=2.0.889->awswrangler>=2.18.0->Elastic-Data-Factory) (2.3.1)\n",
      "Collecting smmap<6,>=3.0.1\n",
      "  Downloading https://private.artifactory.foc.zone/artifactory/api/pypi/pypi-remote/packages/packages/6d/01/7caa71608bc29952ae09b0be63a539e50d2484bc37747797a66a60679856/smmap-5.0.0-py3-none-any.whl (24 kB)\n",
      "Requirement already satisfied: MarkupSafe>=2.0 in /opt/conda/lib/python3.10/site-packages (from Jinja2>=2.10.1->Flask<3->mlflow==1.30.0->Elastic-Data-Factory) (2.0.1)\n",
      "Collecting asn1crypto>=1.5.1\n",
      "  Downloading https://private.artifactory.foc.zone/artifactory/api/pypi/pypi-remote/packages/packages/c9/7f/09065fd9e27da0eda08b4d6897f1c13535066174cc023af248fc2a8d5e5a/asn1crypto-1.5.1-py2.py3-none-any.whl (105 kB)\n",
      "\u001b[2K     \u001b[90m━━━━━━━━━━━━━━━━━━━━━━━━━━━━━━━━━━━━━\u001b[0m \u001b[32m105.0/105.0 kB\u001b[0m \u001b[31m263.9 MB/s\u001b[0m eta \u001b[36m0:00:00\u001b[0m\n",
      "\u001b[?25hBuilding wheels for collected packages: mlflow-connect, treelib, databricks-cli\n",
      "  Building wheel for mlflow-connect (setup.py) ... \u001b[?25ldone\n",
      "\u001b[?25h  Created wheel for mlflow-connect: filename=mlflow_connect-0.4.3-py3-none-any.whl size=5232 sha256=31caf24127c25bd284ca2cd2e2b89a44c6d7632514e24110a23323da0908b5b8\n",
      "  Stored in directory: /tmp/pip-ephem-wheel-cache-2mm22l7h/wheels/bd/90/d2/b06eac26f5e43e7340b7aabeb6f176a07113ed5bdb52faf52f\n",
      "  Building wheel for treelib (setup.py) ... \u001b[?25ldone\n",
      "\u001b[?25h  Created wheel for treelib: filename=treelib-1.6.1-py3-none-any.whl size=18368 sha256=e258b6b9a20bb1eb8f35278b4e305fa54a329f38f3d91290287c6845bc5ad6c9\n",
      "  Stored in directory: /tmp/pip-ephem-wheel-cache-2mm22l7h/wheels/47/08/2a/7527b601f6c8dd589728929d4553a6f9fa88612bb48825264d\n",
      "  Building wheel for databricks-cli (setup.py) ... \u001b[?25ldone\n",
      "\u001b[?25h  Created wheel for databricks-cli: filename=databricks_cli-0.17.4-py3-none-any.whl size=142875 sha256=2ee695b9b81428985c0527e7c8f85840dbeaca366876cd1eccf78f1acc554115\n",
      "  Stored in directory: /tmp/pip-ephem-wheel-cache-2mm22l7h/wheels/dc/b4/ea/59bcb6db97c2462f356474c1ed4ea4194bb5f065e47552beab\n",
      "Successfully built mlflow-connect treelib databricks-cli\n",
      "Installing collected packages: asn1crypto, aenum, treelib, sqlparse, smmap, scramp, querystring-parser, python-utils, pymysql, pyjwt, plotly, oauthlib, numpy, multidict, Mako, jsonpath-ng, isodate, gunicorn, frozenlist, click, backoff, async-timeout, yarl, requests-aws4auth, pyarrow, progressbar2, pg8000, opensearch-py, gitdb, databricks-cli, alembic, aiosignal, xgboost, statsmodels, scikit-learn, prometheus-flask-exporter, matplotlib, gitpython, aiohttp, seaborn, mlflow, gremlinpython, redshift-connector, mlflow-connect, awswrangler, Elastic-Data-Factory\n",
      "  Attempting uninstall: plotly\n",
      "    Found existing installation: plotly 5.9.0\n",
      "    Uninstalling plotly-5.9.0:\n",
      "      Successfully uninstalled plotly-5.9.0\n",
      "  Attempting uninstall: numpy\n",
      "    Found existing installation: numpy 1.24.2\n",
      "    Uninstalling numpy-1.24.2:\n",
      "      Successfully uninstalled numpy-1.24.2\n",
      "  Attempting uninstall: click\n",
      "    Found existing installation: click 8.0.4\n",
      "    Uninstalling click-8.0.4:\n",
      "      Successfully uninstalled click-8.0.4\n",
      "  Attempting uninstall: pyarrow\n",
      "    Found existing installation: pyarrow 11.0.0\n",
      "    Uninstalling pyarrow-11.0.0:\n",
      "      Successfully uninstalled pyarrow-11.0.0\n",
      "  Attempting uninstall: statsmodels\n",
      "    Found existing installation: statsmodels 0.13.2\n",
      "    Uninstalling statsmodels-0.13.2:\n",
      "      Successfully uninstalled statsmodels-0.13.2\n",
      "  Attempting uninstall: scikit-learn\n",
      "    Found existing installation: scikit-learn 1.0.1\n",
      "    Uninstalling scikit-learn-1.0.1:\n",
      "      Successfully uninstalled scikit-learn-1.0.1\n",
      "  Attempting uninstall: matplotlib\n",
      "    Found existing installation: matplotlib 3.5.2\n",
      "    Uninstalling matplotlib-3.5.2:\n",
      "      Successfully uninstalled matplotlib-3.5.2\n",
      "  Attempting uninstall: seaborn\n",
      "    Found existing installation: seaborn 0.11.2\n",
      "    Uninstalling seaborn-0.11.2:\n",
      "      Successfully uninstalled seaborn-0.11.2\n",
      "\u001b[31mERROR: pip's dependency resolver does not currently take into account all the packages that are installed. This behaviour is the source of the following dependency conflicts.\n",
      "daal4py 2021.6.0 requires daal==2021.4.0, which is not installed.\n",
      "numba 0.55.1 requires numpy<1.22,>=1.18, but you have numpy 1.23.4 which is incompatible.\n",
      "distributed 2022.7.0 requires tornado<6.2,>=6.0.3, but you have tornado 6.2 which is incompatible.\u001b[0m\u001b[31m\n",
      "\u001b[0mSuccessfully installed Elastic-Data-Factory-1.0.3 Mako-1.2.4 aenum-3.1.11 aiohttp-3.8.1 aiosignal-1.3.1 alembic-1.9.4 asn1crypto-1.5.1 async-timeout-4.0.2 awswrangler-2.19.0 backoff-2.2.1 click-8.1.3 databricks-cli-0.17.4 frozenlist-1.3.3 gitdb-4.0.10 gitpython-3.1.31 gremlinpython-3.6.2 gunicorn-20.1.0 isodate-0.6.1 jsonpath-ng-1.5.3 matplotlib-3.7.0 mlflow-1.30.0 mlflow-connect-0.4.3 multidict-6.0.4 numpy-1.23.4 oauthlib-3.2.2 opensearch-py-2.1.1 pg8000-1.29.4 plotly-5.13.0 progressbar2-4.2.0 prometheus-flask-exporter-0.22.2 pyarrow-10.0.1 pyjwt-2.6.0 pymysql-1.0.2 python-utils-3.5.2 querystring-parser-1.2.4 redshift-connector-2.0.910 requests-aws4auth-1.2.2 scikit-learn-1.2.1 scramp-1.4.4 seaborn-0.12.2 smmap-5.0.0 sqlparse-0.4.3 statsmodels-0.13.5 treelib-1.6.1 xgboost-1.7.4 yarl-1.8.2\n",
      "\u001b[33mWARNING: Running pip as the 'root' user can result in broken permissions and conflicting behaviour with the system package manager. It is recommended to use a virtual environment instead: https://pip.pypa.io/warnings/venv\u001b[0m\u001b[33m\n",
      "\u001b[0m\n",
      "\u001b[1m[\u001b[0m\u001b[34;49mnotice\u001b[0m\u001b[1;39;49m]\u001b[0m\u001b[39;49m A new release of pip is available: \u001b[0m\u001b[31;49m23.0\u001b[0m\u001b[39;49m -> \u001b[0m\u001b[32;49m23.0.1\u001b[0m\n",
      "\u001b[1m[\u001b[0m\u001b[34;49mnotice\u001b[0m\u001b[1;39;49m]\u001b[0m\u001b[39;49m To update, run: \u001b[0m\u001b[32;49mpip install --upgrade pip\u001b[0m\n"
     ]
    }
   ],
   "source": [
    "#%%capture\n",
    "!{sys.executable} -m pip install Elastic-Data-Factory --no-cache-dir --index-url https://private.artifactory.foc.zone/artifactory/api/pypi/rdf-pypi-virtual/simple --extra-index-url https://private.artifactory.foc.zone/artifactory/api/pypi/pypi-remote/simple"
   ]
  },
  {
   "cell_type": "markdown",
   "id": "aa2c9f1d-05f2-4bd9-bd75-338e6909355b",
   "metadata": {},
   "source": [
    "### Upgrade Existing Packages"
   ]
  },
  {
   "cell_type": "code",
   "execution_count": 30,
   "id": "d084e519-30b5-4c07-996c-3546765dfe26",
   "metadata": {
    "tags": []
   },
   "outputs": [],
   "source": [
    "%%capture\n",
    "# mute output above\n",
    "!{sys.executable} -m pip install tqdm --upgrade --index-url https://private.artifactory.foc.zone/artifactory/pypi-local --extra-index-url https://private.artifactory.foc.zone/artifactory/api/pypi/pypi-remote/simple"
   ]
  },
  {
   "cell_type": "code",
   "execution_count": 31,
   "id": "b83dc1ce-8456-4256-badf-e68ee8842e8f",
   "metadata": {
    "tags": []
   },
   "outputs": [],
   "source": [
    "# import AWS SDK for pandas to integrate dataframes with several AWS Services\n",
    "import awswrangler as wr\n",
    "# import pandas for relational data analysis and manipulation\n",
    "import pandas as pd\n",
    "# import numpy to create and manipulate arrays\n",
    "import numpy as np\n",
    "# import date module to get current date\n",
    "from datetime import date\n",
    "# import matplotlib for plotting\n",
    "import matplotlib.pyplot as plt\n",
    "# import importlib for module reload\n",
    "from importlib import reload\n",
    "# import elastic data factory query wrapper\n",
    "from elasticdatafactory.data import make_dataset\n",
    "# import utility functions\n",
    "from elasticdatafactory.utilities import utility\n",
    "# import plot data class for data visualization\n",
    "from elasticdatafactory.plots import plotter"
   ]
  },
  {
   "cell_type": "code",
   "execution_count": 8,
   "id": "d75fd052-18ae-4038-9d62-ce1056e6a9e9",
   "metadata": {
    "tags": []
   },
   "outputs": [],
   "source": [
    "from glob import glob"
   ]
  },
  {
   "cell_type": "code",
   "execution_count": 9,
   "id": "c23cdd3d-8d2d-4bd8-9778-8988150a2cc1",
   "metadata": {
    "tags": []
   },
   "outputs": [
    {
     "data": {
      "text/plain": [
       "'N/A'"
      ]
     },
     "execution_count": 9,
     "metadata": {},
     "output_type": "execute_result"
    }
   ],
   "source": [
    "import elasticdatafactory\n",
    "elasticdatafactory.__version__"
   ]
  },
  {
   "cell_type": "code",
   "execution_count": 8,
   "id": "cdc37185-b026-463c-a316-8dcca5c065f4",
   "metadata": {
    "tags": []
   },
   "outputs": [
    {
     "data": {
      "text/plain": [
       "['__builtins__',\n",
       " '__cached__',\n",
       " '__doc__',\n",
       " '__file__',\n",
       " '__git_commit_id__',\n",
       " '__git_remote__',\n",
       " '__loader__',\n",
       " '__name__',\n",
       " '__package__',\n",
       " '__path__',\n",
       " '__spec__',\n",
       " '__version__',\n",
       " '__warningregistry__',\n",
       " 'abspath',\n",
       " 'data',\n",
       " 'dirname',\n",
       " 'exists',\n",
       " 'f',\n",
       " 'git_id_path',\n",
       " 'git_remote_path',\n",
       " 'join',\n",
       " 'logging',\n",
       " 'package_path',\n",
       " 'plots',\n",
       " 'setup_custom_logger',\n",
       " 'utilities',\n",
       " 'version_path']"
      ]
     },
     "execution_count": 8,
     "metadata": {},
     "output_type": "execute_result"
    }
   ],
   "source": [
    "dir(elasticdatafactory)"
   ]
  },
  {
   "cell_type": "markdown",
   "id": "4f04072e-d7d6-4c36-8f26-d209bfb9e038",
   "metadata": {},
   "source": [
    "### Reload development modules (Optional)"
   ]
  },
  {
   "cell_type": "code",
   "execution_count": 145,
   "id": "77c14ed1-3bbf-4676-80bb-cd02db6f471d",
   "metadata": {
    "tags": []
   },
   "outputs": [
    {
     "data": {
      "text/plain": [
       "<module 'elasticdatafactory.data.make_dataset' from '/opt/conda/lib/python3.10/site-packages/elasticdatafactory/data/make_dataset.py'>"
      ]
     },
     "execution_count": 145,
     "metadata": {},
     "output_type": "execute_result"
    }
   ],
   "source": [
    "reload(plotter)\n",
    "reload(utility)\n",
    "reload(make_dataset)"
   ]
  },
  {
   "cell_type": "code",
   "execution_count": 44,
   "id": "197c66a2-8491-4ced-8688-5a4660eed2af",
   "metadata": {
    "tags": []
   },
   "outputs": [],
   "source": [
    "def create_tree(path, parent=None, tree=None, display=True):\n",
    "    \n",
    "    \"\"\"Provides an overview of project directories and files \n",
    "    in the form of a tree data structure\n",
    "\n",
    "    Parameters\n",
    "    ----------\n",
    "    path : str\n",
    "        A path to project folder containing all directories, sub-directories, and files\n",
    "    parent : str\n",
    "        Represents name of a parent node for a child node, by default it is set to None\n",
    "    tree : Tree()\n",
    "        A Tree object created through Treelib opensource library, by default it is None\n",
    "        Source: https://treelib.readthedocs.io/en/latest/\n",
    "    display : bool\n",
    "        Displays Tree Data Structure when set to True\n",
    "    \n",
    "    Returns\n",
    "    -------\n",
    "    tree : Tree()\n",
    "        A Tree object created through Treelib opensource library\n",
    "        \n",
    "    Examples\n",
    "    --------\n",
    "    # Create a tree object\n",
    "    create_tree(path='root/path_to_project/')\n",
    "    # Optional arguments\n",
    "    create_tree(path='root/path_to_project/', parent='parent-node', tree=Tree())\n",
    "    \n",
    "\n",
    "    \"\"\"\n",
    "\n",
    "    if parent is None:\n",
    "        parent = os.path.basename(os.path.dirname(path)).lower()\n",
    "    if tree is None:\n",
    "        # create tree object\n",
    "        tree = Tree()\n",
    "        # create the root node\n",
    "        tree.create_node(os.path.basename(os.path.dirname(path)).title(), os.path.basename(os.path.dirname(path)).lower())\n",
    "    elif tree.root is None:\n",
    "        # create the root node\n",
    "        tree.create_node(os.path.basename(os.path.dirname(path)).title(), os.path.basename(os.path.dirname(path)).lower())\n",
    "    \n",
    "    if os.path.isdir(path) == True:\n",
    "        # populate all directories and sub-directories\n",
    "        dir_names = [os.path.basename(os.path.dirname(dir)) for dir in glob(path + '[!_]*/', recursive=True) if os.path.isdir(dir)]\n",
    "        for directory in dir_names:\n",
    "            tree.create_node(directory, directory.lower(), parent=parent)\n",
    "        # populate files within each directory\n",
    "        file_names = [os.path.basename(dir) for dir in glob(path + '[!_]*', recursive=True) if not os.path.isdir(dir)]\n",
    "        for file in file_names:\n",
    "            tree.create_node(file, parent=parent)\n",
    "        if display is True:\n",
    "            # display tree data structure\n",
    "            tree.show()\n",
    "    \n",
    "    return tree"
   ]
  },
  {
   "cell_type": "code",
   "execution_count": 9,
   "id": "16def52d-09c9-48e6-b8c7-60cedabab94a",
   "metadata": {
    "tags": []
   },
   "outputs": [],
   "source": [
    "# Create root node\n",
    "tree = utility.create_tree(path='/root/Elastic-Data-Factory/', parent='elastic-data-factory', tree=None, display=False)"
   ]
  },
  {
   "cell_type": "code",
   "execution_count": 12,
   "id": "47800043-2af0-4874-87b1-245a483575ac",
   "metadata": {
    "tags": []
   },
   "outputs": [],
   "source": [
    "for path in glob('/root/Elastic-Data-Factory/**/*[!_]/', recursive=True):\n",
    "    # Create root node\n",
    "    tree = utility.create_tree(path=path, parent=None, tree=tree, display=False)"
   ]
  },
  {
   "cell_type": "code",
   "execution_count": 13,
   "id": "2326930a-a5c8-4012-9a8f-629d9ccf6861",
   "metadata": {
    "tags": []
   },
   "outputs": [
    {
     "name": "stdout",
     "output_type": "stream",
     "text": [
      "Elastic-Data-Factory\n",
      "├── CHANGELOG.md\n",
      "├── LICENSE\n",
      "├── MANIFEST.in\n",
      "├── Makefile\n",
      "├── README.md\n",
      "├── docs\n",
      "│   ├── CODEOWNERS\n",
      "│   ├── Makefile\n",
      "│   ├── commands.rst\n",
      "│   ├── conf.py\n",
      "│   ├── getting-started.rst\n",
      "│   ├── index.md\n",
      "│   ├── index.rst\n",
      "│   ├── make.bat\n",
      "│   └── notebooks.rst\n",
      "├── elasticdatafactory\n",
      "│   ├── VERSION\n",
      "│   ├── data\n",
      "│   │   ├── field_query_mapping.json\n",
      "│   │   ├── make_dataset.py\n",
      "│   │   ├── query_db_map.json\n",
      "│   │   └── query_registry.py\n",
      "│   ├── features\n",
      "│   │   └── build_features.py\n",
      "│   ├── plots\n",
      "│   │   └── plotter.py\n",
      "│   ├── trainers\n",
      "│   │   ├── predict_model.py\n",
      "│   │   ├── train_deploy.py\n",
      "│   │   └── train_model.py\n",
      "│   └── utilities\n",
      "│       ├── helper.py\n",
      "│       └── utility.py\n",
      "├── logger.log\n",
      "├── make.bat\n",
      "├── mkdocs.yml\n",
      "├── models\n",
      "├── notebooks\n",
      "│   ├── data_wrangling_jenna.ipynb\n",
      "│   ├── develop_test_EDF.ipynb\n",
      "│   ├── logger.log\n",
      "│   ├── long_time_frame_to_buy.ipynb\n",
      "│   └── query_web_events_wwen.ipynb\n",
      "├── pyproject.toml\n",
      "├── references\n",
      "├── reports\n",
      "│   └── figures\n",
      "├── requirements.txt\n",
      "├── scripts\n",
      "│   └── deploy-ghpages.sh\n",
      "├── setup.cfg\n",
      "├── setup.py\n",
      "├── source\n",
      "│   ├── conf.py\n",
      "│   └── index.rst\n",
      "├── test_environment.py\n",
      "├── tests\n",
      "│   └── unit_tests\n",
      "│       ├── query_db_map.json\n",
      "│       └── test_queryregistry.py\n",
      "└── tox.ini\n",
      "\n"
     ]
    }
   ],
   "source": [
    "tree.show()"
   ]
  },
  {
   "cell_type": "markdown",
   "id": "d5589538-ac84-4601-8854-7d56f7604979",
   "metadata": {},
   "source": [
    "### Create session to store configuration state and service clients"
   ]
  },
  {
   "cell_type": "code",
   "execution_count": 10,
   "id": "9f09d491-c2cf-4707-a325-f71a000148df",
   "metadata": {
    "tags": []
   },
   "outputs": [],
   "source": [
    "# create session and set environment variables\n",
    "session = boto3.Session()\n",
    "s3 = boto3.resource('s3')\n",
    "wr.config.sts_endpoint_url = \"https://sts.\" + session.region_name + \".amazonaws.com\"\n",
    "os.environ['AWS_DEFAULT_REGION'] = 'us-east-2' # specify your AWS region.\n",
    "# create new `pandas` methods which use `tqdm` progress\n",
    "#tqdm.pandas()"
   ]
  },
  {
   "cell_type": "markdown",
   "id": "b9e8c46e-659e-448c-b204-068e6a90b4d8",
   "metadata": {},
   "source": [
    "### Universal Arguments for Data Queries Through Elastic Data Factory (EDF)"
   ]
  },
  {
   "cell_type": "code",
   "execution_count": 11,
   "id": "79117344-11ee-46e7-8516-ddfb18074ad7",
   "metadata": {
    "tags": []
   },
   "outputs": [],
   "source": [
    "start_date = '2021-11-28' # YYYY-MM-DD Format\n",
    "end_date = '2021-11-28'\n",
    "loan_purpose = ''\n",
    "required_args = {'limit': 'ALL',\n",
    "                 'workgroup': 'rcd-datascientist',\n",
    "                 'output_filepath': None}"
   ]
  },
  {
   "cell_type": "markdown",
   "id": "c252a1e5-7d47-4f78-9077-ef000a50d9a6",
   "metadata": {},
   "source": [
    "### Major Milestone Data (loan_major_milestone_fact)"
   ]
  },
  {
   "cell_type": "code",
   "execution_count": 16,
   "id": "b5b4aea5-66b4-4a6c-92a5-925762ff05b1",
   "metadata": {
    "tags": []
   },
   "outputs": [
    {
     "name": "stderr",
     "output_type": "stream",
     "text": [
      "2023-02-10 20:37:14,486 [INFO] make_dataset.py/get_data:351 >> [INFO] detecting IDE to create appropriate editing mode\n",
      "2023-02-10 20:37:14,496 [INFO] make_dataset.py/get_data:357 >> [INFO] module executed in query edit mode\n"
     ]
    }
   ],
   "source": [
    "df_milestone = make_dataset.main.callback(**{**required_args,\n",
    "                                             **{'query_label': 'QueryMajorMilestone',\n",
    "                                                'start_date': start_date,\n",
    "                                                'end_date': end_date,\n",
    "                                                'database': 'rm_northstar_raw_processed_access',\n",
    "                                                'edit_mode': False\n",
    "                                               }\n",
    "                                            })"
   ]
  },
  {
   "cell_type": "code",
   "execution_count": 18,
   "id": "d5e7e9dc-a24e-434a-9f00-b0f0402c5009",
   "metadata": {
    "tags": []
   },
   "outputs": [
    {
     "name": "stderr",
     "output_type": "stream",
     "text": [
      "2023-02-10 20:37:49,494 [INFO] utility.py/data_profile:824 >> [INFO] finding valid entries...\n"
     ]
    },
    {
     "data": {
      "application/vnd.jupyter.widget-view+json": {
       "model_id": "5cab6997432d47ccb5f0f6727f2ef9b6",
       "version_major": 2,
       "version_minor": 0
      },
      "text/plain": [
       "  0%|          | 0/253792 [00:00<?, ?it/s]"
      ]
     },
     "metadata": {},
     "output_type": "display_data"
    },
    {
     "name": "stderr",
     "output_type": "stream",
     "text": [
      "2023-02-10 20:37:49,872 [INFO] utility.py/data_profile:828 >> [INFO] finding unique entries...\n",
      "2023-02-10 20:37:49,900 [INFO] utility.py/data_profile:831 >> [INFO] finding duplicate keys...\n"
     ]
    },
    {
     "data": {
      "application/vnd.jupyter.widget-view+json": {
       "model_id": "4adebbe61d634144aa5b70eaa9fbfe07",
       "version_major": 2,
       "version_minor": 0
      },
      "text/plain": [
       "  0%|          | 0/4 [00:00<?, ?it/s]"
      ]
     },
     "metadata": {},
     "output_type": "display_data"
    },
    {
     "name": "stderr",
     "output_type": "stream",
     "text": [
      "2023-02-10 20:37:49,972 [INFO] utility.py/data_profile:837 >> [INFO] finding NaN entries...\n"
     ]
    },
    {
     "data": {
      "application/vnd.jupyter.widget-view+json": {
       "model_id": "8c6ecea1d13343e4b5812226ba2dc17f",
       "version_major": 2,
       "version_minor": 0
      },
      "text/plain": [
       "  0%|          | 0/4 [00:00<?, ?it/s]"
      ]
     },
     "metadata": {},
     "output_type": "display_data"
    },
    {
     "name": "stderr",
     "output_type": "stream",
     "text": [
      "2023-02-10 20:37:50,030 [INFO] utility.py/data_profile:840 >> [INFO] finding minimum and maximum entries...\n"
     ]
    },
    {
     "data": {
      "application/vnd.jupyter.widget-view+json": {
       "model_id": "f0a30e4a849b4fbe884120b807a52a1f",
       "version_major": 2,
       "version_minor": 0
      },
      "text/plain": [
       "  0%|          | 0/4 [00:00<?, ?it/s]"
      ]
     },
     "metadata": {},
     "output_type": "display_data"
    },
    {
     "name": "stderr",
     "output_type": "stream",
     "text": [
      "2023-02-10 20:37:50,086 [INFO] utility.py/data_profile:851 >> [INFO] inspecting data types...\n"
     ]
    },
    {
     "data": {
      "application/vnd.jupyter.widget-view+json": {
       "model_id": "0a1ee4c69da6413da3c41b55556b953f",
       "version_major": 2,
       "version_minor": 0
      },
      "text/plain": [
       "  0%|          | 0/4 [00:00<?, ?it/s]"
      ]
     },
     "metadata": {},
     "output_type": "display_data"
    },
    {
     "data": {
      "text/html": [
       "<style type=\"text/css\">\n",
       "#T_6d65a_row0_col0, #T_6d65a_row1_col0, #T_6d65a_row2_col0, #T_6d65a_row3_col0 {\n",
       "  background-color: green;\n",
       "}\n",
       "</style>\n",
       "<table id=\"T_6d65a\">\n",
       "  <thead>\n",
       "    <tr>\n",
       "      <th class=\"blank level0\" >&nbsp;</th>\n",
       "      <th id=\"T_6d65a_level0_col0\" class=\"col_heading level0 col0\" >Feature</th>\n",
       "      <th id=\"T_6d65a_level0_col1\" class=\"col_heading level0 col1\" >Entries</th>\n",
       "      <th id=\"T_6d65a_level0_col2\" class=\"col_heading level0 col2\" >Unique</th>\n",
       "      <th id=\"T_6d65a_level0_col3\" class=\"col_heading level0 col3\" >Duplicate Keys</th>\n",
       "      <th id=\"T_6d65a_level0_col4\" class=\"col_heading level0 col4\" >Null</th>\n",
       "      <th id=\"T_6d65a_level0_col5\" class=\"col_heading level0 col5\" >Minimum</th>\n",
       "      <th id=\"T_6d65a_level0_col6\" class=\"col_heading level0 col6\" >Maximum</th>\n",
       "      <th id=\"T_6d65a_level0_col7\" class=\"col_heading level0 col7\" >Data Type</th>\n",
       "    </tr>\n",
       "  </thead>\n",
       "  <tbody>\n",
       "    <tr>\n",
       "      <th id=\"T_6d65a_level0_row0\" class=\"row_heading level0 row0\" >0</th>\n",
       "      <td id=\"T_6d65a_row0_col0\" class=\"data row0 col0\" >loanidentifierdimsk</td>\n",
       "      <td id=\"T_6d65a_row0_col1\" class=\"data row0 col1\" >63448</td>\n",
       "      <td id=\"T_6d65a_row0_col2\" class=\"data row0 col2\" >40518</td>\n",
       "      <td id=\"T_6d65a_row0_col3\" class=\"data row0 col3\" >11078</td>\n",
       "      <td id=\"T_6d65a_row0_col4\" class=\"data row0 col4\" >0</td>\n",
       "      <td id=\"T_6d65a_row0_col5\" class=\"data row0 col5\" >11125472</td>\n",
       "      <td id=\"T_6d65a_row0_col6\" class=\"data row0 col6\" >231961072</td>\n",
       "      <td id=\"T_6d65a_row0_col7\" class=\"data row0 col7\" >Int64</td>\n",
       "    </tr>\n",
       "    <tr>\n",
       "      <th id=\"T_6d65a_level0_row1\" class=\"row_heading level0 row1\" >1</th>\n",
       "      <td id=\"T_6d65a_row1_col0\" class=\"data row1 col0\" >loanmilestonesk</td>\n",
       "      <td id=\"T_6d65a_row1_col1\" class=\"data row1 col1\" >63448</td>\n",
       "      <td id=\"T_6d65a_row1_col2\" class=\"data row1 col2\" >15</td>\n",
       "      <td id=\"T_6d65a_row1_col3\" class=\"data row1 col3\" >15</td>\n",
       "      <td id=\"T_6d65a_row1_col4\" class=\"data row1 col4\" >0</td>\n",
       "      <td id=\"T_6d65a_row1_col5\" class=\"data row1 col5\" >1</td>\n",
       "      <td id=\"T_6d65a_row1_col6\" class=\"data row1 col6\" >133</td>\n",
       "      <td id=\"T_6d65a_row1_col7\" class=\"data row1 col7\" >Int32</td>\n",
       "    </tr>\n",
       "    <tr>\n",
       "      <th id=\"T_6d65a_level0_row2\" class=\"row_heading level0 row2\" >2</th>\n",
       "      <td id=\"T_6d65a_row2_col0\" class=\"data row2 col0\" >loanmilestone_eventname</td>\n",
       "      <td id=\"T_6d65a_row2_col1\" class=\"data row2 col1\" >63448</td>\n",
       "      <td id=\"T_6d65a_row2_col2\" class=\"data row2 col2\" >15</td>\n",
       "      <td id=\"T_6d65a_row2_col3\" class=\"data row2 col3\" >15</td>\n",
       "      <td id=\"T_6d65a_row2_col4\" class=\"data row2 col4\" >0</td>\n",
       "      <td id=\"T_6d65a_row2_col5\" class=\"data row2 col5\" >Allocated</td>\n",
       "      <td id=\"T_6d65a_row2_col6\" class=\"data row2 col6\" >VAL</td>\n",
       "      <td id=\"T_6d65a_row2_col7\" class=\"data row2 col7\" >string</td>\n",
       "    </tr>\n",
       "    <tr>\n",
       "      <th id=\"T_6d65a_level0_row3\" class=\"row_heading level0 row3\" >3</th>\n",
       "      <td id=\"T_6d65a_row3_col0\" class=\"data row3 col0\" >loanmilestone_groupname</td>\n",
       "      <td id=\"T_6d65a_row3_col1\" class=\"data row3 col1\" >63448</td>\n",
       "      <td id=\"T_6d65a_row3_col2\" class=\"data row3 col2\" >11</td>\n",
       "      <td id=\"T_6d65a_row3_col3\" class=\"data row3 col3\" >11</td>\n",
       "      <td id=\"T_6d65a_row3_col4\" class=\"data row3 col4\" >0</td>\n",
       "      <td id=\"T_6d65a_row3_col5\" class=\"data row3 col5\" >Allocated</td>\n",
       "      <td id=\"T_6d65a_row3_col6\" class=\"data row3 col6\" >VAL</td>\n",
       "      <td id=\"T_6d65a_row3_col7\" class=\"data row3 col7\" >string</td>\n",
       "    </tr>\n",
       "  </tbody>\n",
       "</table>\n"
      ],
      "text/plain": [
       "<pandas.io.formats.style.Styler at 0x7ff18d6ed990>"
      ]
     },
     "execution_count": 18,
     "metadata": {},
     "output_type": "execute_result"
    }
   ],
   "source": [
    "utility.data_profile(df_milestone)"
   ]
  },
  {
   "cell_type": "code",
   "execution_count": 18,
   "id": "a5247357-052f-4374-9d2f-bf5dca1db30c",
   "metadata": {
    "tags": []
   },
   "outputs": [
    {
     "name": "stderr",
     "output_type": "stream",
     "text": [
      "2022-12-27 21:13:08,068 [WARNING] legend.py/_parse_legend_args:1236 >> No artists with labels found to put in legend.  Note that artists whose label start with an underscore are ignored when legend() is called with no argument.\n",
      "2022-12-27 21:13:08,332 [WARNING] legend.py/_parse_legend_args:1236 >> No artists with labels found to put in legend.  Note that artists whose label start with an underscore are ignored when legend() is called with no argument.\n"
     ]
    },
    {
     "data": {
      "image/png": "[encoded data removed]",
      "text/plain": [
       "<Figure size 800x400 with 2 Axes>"
      ]
     },
     "metadata": {},
     "output_type": "display_data"
    }
   ],
   "source": [
    "plotter.plot_histogram(x=df_milestone['estdatetime'].values, y=df_milestone['estdatetime'].values, xlabel='', ylabel='', hist_type='univariate', nrows=1, ncols=1)"
   ]
  },
  {
   "cell_type": "code",
   "execution_count": 19,
   "id": "5bdc730d-4e6f-4c92-9447-3fb957a5f96b",
   "metadata": {
    "tags": []
   },
   "outputs": [
    {
     "name": "stdout",
     "output_type": "stream",
     "text": [
      "\n",
      "No. of loan milestone records: 63448\n"
     ]
    }
   ],
   "source": [
    "print('\\nNo. of loan milestone records:', df_milestone.shape[0])"
   ]
  },
  {
   "cell_type": "code",
   "execution_count": 20,
   "id": "30ece5f6-de8f-41af-8e99-567b51eeb753",
   "metadata": {
    "tags": []
   },
   "outputs": [
    {
     "data": {
      "text/html": [
       "<div>\n",
       "<style scoped>\n",
       "    .dataframe tbody tr th:only-of-type {\n",
       "        vertical-align: middle;\n",
       "    }\n",
       "\n",
       "    .dataframe tbody tr th {\n",
       "        vertical-align: top;\n",
       "    }\n",
       "\n",
       "    .dataframe thead th {\n",
       "        text-align: right;\n",
       "    }\n",
       "</style>\n",
       "<table border=\"1\" class=\"dataframe\">\n",
       "  <thead>\n",
       "    <tr style=\"text-align: right;\">\n",
       "      <th></th>\n",
       "      <th>loanidentifierdimsk</th>\n",
       "      <th>loanmilestonesk</th>\n",
       "      <th>loanmilestone_eventname</th>\n",
       "      <th>loanmilestone_groupname</th>\n",
       "      <th>estdatetime</th>\n",
       "    </tr>\n",
       "  </thead>\n",
       "  <tbody>\n",
       "    <tr>\n",
       "      <th>0</th>\n",
       "      <td>212007506</td>\n",
       "      <td>1</td>\n",
       "      <td>Idle Pulled Credit</td>\n",
       "      <td>Offline Credit</td>\n",
       "      <td>2021-11-28 00:42:45</td>\n",
       "    </tr>\n",
       "    <tr>\n",
       "      <th>1</th>\n",
       "      <td>212013567</td>\n",
       "      <td>1</td>\n",
       "      <td>Idle Pulled Credit</td>\n",
       "      <td>Offline Credit</td>\n",
       "      <td>2021-11-28 11:00:32</td>\n",
       "    </tr>\n",
       "    <tr>\n",
       "      <th>2</th>\n",
       "      <td>212015486</td>\n",
       "      <td>1</td>\n",
       "      <td>Idle Pulled Credit</td>\n",
       "      <td>Offline Credit</td>\n",
       "      <td>2021-11-28 11:03:53</td>\n",
       "    </tr>\n",
       "    <tr>\n",
       "      <th>3</th>\n",
       "      <td>212016426</td>\n",
       "      <td>1</td>\n",
       "      <td>Idle Pulled Credit</td>\n",
       "      <td>Offline Credit</td>\n",
       "      <td>2021-11-28 11:38:58</td>\n",
       "    </tr>\n",
       "    <tr>\n",
       "      <th>4</th>\n",
       "      <td>212018272</td>\n",
       "      <td>1</td>\n",
       "      <td>Idle Pulled Credit</td>\n",
       "      <td>Offline Credit</td>\n",
       "      <td>2021-11-28 12:56:38</td>\n",
       "    </tr>\n",
       "  </tbody>\n",
       "</table>\n",
       "</div>"
      ],
      "text/plain": [
       "   loanidentifierdimsk  loanmilestonesk loanmilestone_eventname  \\\n",
       "0            212007506                1      Idle Pulled Credit   \n",
       "1            212013567                1      Idle Pulled Credit   \n",
       "2            212015486                1      Idle Pulled Credit   \n",
       "3            212016426                1      Idle Pulled Credit   \n",
       "4            212018272                1      Idle Pulled Credit   \n",
       "\n",
       "  loanmilestone_groupname         estdatetime  \n",
       "0          Offline Credit 2021-11-28 00:42:45  \n",
       "1          Offline Credit 2021-11-28 11:00:32  \n",
       "2          Offline Credit 2021-11-28 11:03:53  \n",
       "3          Offline Credit 2021-11-28 11:38:58  \n",
       "4          Offline Credit 2021-11-28 12:56:38  "
      ]
     },
     "execution_count": 20,
     "metadata": {},
     "output_type": "execute_result"
    }
   ],
   "source": [
    "df_milestone.head()"
   ]
  },
  {
   "cell_type": "code",
   "execution_count": 21,
   "id": "8826918a-a85e-43da-9f9d-499928a7e6b2",
   "metadata": {
    "tags": []
   },
   "outputs": [
    {
     "data": {
      "text/plain": [
       "Lead              32183\n",
       "Allocated          9323\n",
       "Net Leads          5587\n",
       "Offline Credit     5495\n",
       "Closing            4906\n",
       "Soft Credit        2022\n",
       "Online Credit      1437\n",
       "Application        1045\n",
       "PAL                 713\n",
       "Folder              653\n",
       "VAL                  84\n",
       "Name: loanmilestone_groupname, dtype: Int64"
      ]
     },
     "execution_count": 21,
     "metadata": {},
     "output_type": "execute_result"
    }
   ],
   "source": [
    "df_milestone['loanmilestone_groupname'].value_counts()"
   ]
  },
  {
   "cell_type": "code",
   "execution_count": 22,
   "id": "5606792c-5a98-49f9-8604-3f006990838e",
   "metadata": {
    "tags": []
   },
   "outputs": [
    {
     "data": {
      "text/plain": [
       "7      26596\n",
       "9       9182\n",
       "6       5587\n",
       "17      5587\n",
       "8       4906\n",
       "1       2591\n",
       "120     2181\n",
       "133     2022\n",
       "2       1437\n",
       "80      1045\n",
       "124      723\n",
       "3        713\n",
       "4        653\n",
       "121      141\n",
       "129       84\n",
       "Name: loanmilestonesk, dtype: Int64"
      ]
     },
     "execution_count": 22,
     "metadata": {},
     "output_type": "execute_result"
    }
   ],
   "source": [
    "df_milestone['loanmilestonesk'].value_counts()"
   ]
  },
  {
   "cell_type": "code",
   "execution_count": 50,
   "id": "c25df9c2-55e9-41b9-8dee-5f4ed78b6c1f",
   "metadata": {
    "tags": []
   },
   "outputs": [
    {
     "data": {
      "text/plain": [
       "<module 'elasticdatafactory.utilities.utility' from '/root/Elastic-Data-Factory/elasticdatafactory/utilities/utility.py'>"
      ]
     },
     "execution_count": 50,
     "metadata": {},
     "output_type": "execute_result"
    }
   ],
   "source": [
    "reload(utility)"
   ]
  },
  {
   "cell_type": "code",
   "execution_count": 146,
   "id": "ecfbcb37-5b27-4d73-8f13-b473478003b3",
   "metadata": {
    "tags": []
   },
   "outputs": [],
   "source": [
    "df = pd.DataFrame({'A': ['a', 'b', np.nan], 'B': ['b', 'a', 'c'], 'C': ['x', 'y', 'z'],\n",
    "                   'D': [1, 2, np.nan]})"
   ]
  },
  {
   "cell_type": "code",
   "execution_count": 147,
   "id": "e6483f74-e539-4bdc-870d-91a2398af621",
   "metadata": {
    "tags": []
   },
   "outputs": [
    {
     "data": {
      "text/html": [
       "<div>\n",
       "<style scoped>\n",
       "    .dataframe tbody tr th:only-of-type {\n",
       "        vertical-align: middle;\n",
       "    }\n",
       "\n",
       "    .dataframe tbody tr th {\n",
       "        vertical-align: top;\n",
       "    }\n",
       "\n",
       "    .dataframe thead th {\n",
       "        text-align: right;\n",
       "    }\n",
       "</style>\n",
       "<table border=\"1\" class=\"dataframe\">\n",
       "  <thead>\n",
       "    <tr style=\"text-align: right;\">\n",
       "      <th></th>\n",
       "      <th>A</th>\n",
       "      <th>B</th>\n",
       "      <th>C</th>\n",
       "      <th>D</th>\n",
       "    </tr>\n",
       "  </thead>\n",
       "  <tbody>\n",
       "    <tr>\n",
       "      <th>0</th>\n",
       "      <td>a</td>\n",
       "      <td>b</td>\n",
       "      <td>x</td>\n",
       "      <td>1.0</td>\n",
       "    </tr>\n",
       "    <tr>\n",
       "      <th>1</th>\n",
       "      <td>b</td>\n",
       "      <td>a</td>\n",
       "      <td>y</td>\n",
       "      <td>2.0</td>\n",
       "    </tr>\n",
       "    <tr>\n",
       "      <th>2</th>\n",
       "      <td>NaN</td>\n",
       "      <td>c</td>\n",
       "      <td>z</td>\n",
       "      <td>NaN</td>\n",
       "    </tr>\n",
       "  </tbody>\n",
       "</table>\n",
       "</div>"
      ],
      "text/plain": [
       "     A  B  C    D\n",
       "0    a  b  x  1.0\n",
       "1    b  a  y  2.0\n",
       "2  NaN  c  z  NaN"
      ]
     },
     "execution_count": 147,
     "metadata": {},
     "output_type": "execute_result"
    }
   ],
   "source": [
    "df"
   ]
  },
  {
   "cell_type": "code",
   "execution_count": 148,
   "id": "083da944-d32f-4c3c-8295-26b50d5ba2ef",
   "metadata": {
    "tags": []
   },
   "outputs": [
    {
     "data": {
      "text/plain": [
       "A     object\n",
       "B     object\n",
       "C     object\n",
       "D    float64\n",
       "dtype: object"
      ]
     },
     "execution_count": 148,
     "metadata": {},
     "output_type": "execute_result"
    }
   ],
   "source": [
    "df.dtypes"
   ]
  },
  {
   "cell_type": "code",
   "execution_count": 149,
   "id": "e16499b8-32a8-4fec-b8af-f3622e77b27e",
   "metadata": {
    "tags": []
   },
   "outputs": [],
   "source": [
    "df['A'] = df['A'].astype('string')"
   ]
  },
  {
   "cell_type": "code",
   "execution_count": 150,
   "id": "ea3a9a10-e65a-4dda-bed1-5adb0addd1e1",
   "metadata": {
    "tags": []
   },
   "outputs": [],
   "source": [
    "cle = utility.LabelEncoderCustom()"
   ]
  },
  {
   "cell_type": "code",
   "execution_count": 151,
   "id": "d06c780f-c8f2-4381-8c75-047557a0a67d",
   "metadata": {
    "tags": []
   },
   "outputs": [
    {
     "name": "stderr",
     "output_type": "stream",
     "text": [
      "2023-02-17 00:54:02,586 [INFO] utility.py/fit_transform:1150 >> [INFO] nan_replace_value <nan_replace_value> is transformed to a string data type\n",
      "2023-02-17 00:54:02,602 [INFO] utility.py/fit_transform:1180 >> [INFO] using user-defined categorical columns for label encoding...\n"
     ]
    },
    {
     "data": {
      "application/vnd.jupyter.widget-view+json": {
       "model_id": "2c6b1774e57744539618829170bcf1bd",
       "version_major": 2,
       "version_minor": 0
      },
      "text/plain": [
       "  0%|          | 0/4 [00:00<?, ?it/s]"
      ]
     },
     "metadata": {},
     "output_type": "display_data"
    }
   ],
   "source": [
    "encoded_data  = cle.fit_transform(df, \n",
    "                                  categorical_columns=['A', 'B', 'C', 'D'],\n",
    "                                  ordinal_columns=['B'],\n",
    "                                  cat_order={'B': ['a','b','c']},\n",
    "                                  drop_single_label=True, \n",
    "                                  nan_strategy='replace', \n",
    "                                  nan_replace_value=0)"
   ]
  },
  {
   "cell_type": "code",
   "execution_count": 152,
   "id": "d56de594-b080-4f02-ac81-e43f040b0d31",
   "metadata": {
    "tags": []
   },
   "outputs": [
    {
     "data": {
      "text/plain": [
       "{'B': {1: 'b', 0: 'a', 2: 'c'},\n",
       " 'A': ['A_0', 'A_a', 'A_b'],\n",
       " 'C': ['C_x', 'C_y', 'C_z'],\n",
       " 'D': ['D_1.0', 'D_2.0', 'D_0']}"
      ]
     },
     "execution_count": 152,
     "metadata": {},
     "output_type": "execute_result"
    }
   ],
   "source": [
    "cle.get_params()"
   ]
  },
  {
   "cell_type": "code",
   "execution_count": 14,
   "id": "351de3b7-0339-43e0-8541-019e19fd45d5",
   "metadata": {
    "tags": []
   },
   "outputs": [],
   "source": [
    "df = pd.DataFrame({'A': ['a', 'a'], 'B': ['b', 'a'], 'C': ['y', 'z'],\n",
    "                   'D': [1, 2]})"
   ]
  },
  {
   "cell_type": "code",
   "execution_count": 27,
   "id": "937fda1b-a764-4bf7-9387-6c4abd53e8ee",
   "metadata": {
    "tags": []
   },
   "outputs": [
    {
     "data": {
      "application/vnd.jupyter.widget-view+json": {
       "model_id": "a07bec44e0a34c8da6a68db50e882bf0",
       "version_major": 2,
       "version_minor": 0
      },
      "text/plain": [
       "  0%|          | 0/4 [00:00<?, ?it/s]"
      ]
     },
     "metadata": {},
     "output_type": "display_data"
    },
    {
     "data": {
      "text/html": [
       "<div>\n",
       "<style scoped>\n",
       "    .dataframe tbody tr th:only-of-type {\n",
       "        vertical-align: middle;\n",
       "    }\n",
       "\n",
       "    .dataframe tbody tr th {\n",
       "        vertical-align: top;\n",
       "    }\n",
       "\n",
       "    .dataframe thead th {\n",
       "        text-align: right;\n",
       "    }\n",
       "</style>\n",
       "<table border=\"1\" class=\"dataframe\">\n",
       "  <thead>\n",
       "    <tr style=\"text-align: right;\">\n",
       "      <th></th>\n",
       "      <th>A</th>\n",
       "      <th>B</th>\n",
       "      <th>C_x</th>\n",
       "      <th>C_y</th>\n",
       "      <th>C_z</th>\n",
       "      <th>D_1</th>\n",
       "      <th>D_2</th>\n",
       "      <th>D_3</th>\n",
       "    </tr>\n",
       "  </thead>\n",
       "  <tbody>\n",
       "    <tr>\n",
       "      <th>0</th>\n",
       "      <td>0</td>\n",
       "      <td>1</td>\n",
       "      <td>1</td>\n",
       "      <td>0</td>\n",
       "      <td>0</td>\n",
       "      <td>1</td>\n",
       "      <td>0</td>\n",
       "      <td>0</td>\n",
       "    </tr>\n",
       "    <tr>\n",
       "      <th>1</th>\n",
       "      <td>1</td>\n",
       "      <td>0</td>\n",
       "      <td>0</td>\n",
       "      <td>1</td>\n",
       "      <td>0</td>\n",
       "      <td>0</td>\n",
       "      <td>1</td>\n",
       "      <td>0</td>\n",
       "    </tr>\n",
       "    <tr>\n",
       "      <th>2</th>\n",
       "      <td>0</td>\n",
       "      <td>2</td>\n",
       "      <td>0</td>\n",
       "      <td>0</td>\n",
       "      <td>1</td>\n",
       "      <td>0</td>\n",
       "      <td>0</td>\n",
       "      <td>1</td>\n",
       "    </tr>\n",
       "  </tbody>\n",
       "</table>\n",
       "</div>"
      ],
      "text/plain": [
       "   A  B  C_x  C_y  C_z  D_1  D_2  D_3\n",
       "0  0  1    1    0    0    1    0    0\n",
       "1  1  0    0    1    0    0    1    0\n",
       "2  0  2    0    0    1    0    0    1"
      ]
     },
     "execution_count": 27,
     "metadata": {},
     "output_type": "execute_result"
    }
   ],
   "source": [
    "transform = cle.transform_from_estimators(df, cle.get_params())\n",
    "transform"
   ]
  },
  {
   "cell_type": "code",
   "execution_count": null,
   "id": "6a0137f7-0a83-4678-b9f8-f50d75d761f0",
   "metadata": {
    "tags": []
   },
   "outputs": [
    {
     "data": {
      "application/vnd.jupyter.widget-view+json": {
       "model_id": "26cf86dca5aa4c7cbca630b032e9d1a3",
       "version_major": 2,
       "version_minor": 0
      },
      "text/plain": [
       "  0%|          | 0/4 [00:00<?, ?it/s]"
      ]
     },
     "metadata": {},
     "output_type": "display_data"
    },
    {
     "data": {
      "text/html": [
       "<div>\n",
       "<style scoped>\n",
       "    .dataframe tbody tr th:only-of-type {\n",
       "        vertical-align: middle;\n",
       "    }\n",
       "\n",
       "    .dataframe tbody tr th {\n",
       "        vertical-align: top;\n",
       "    }\n",
       "\n",
       "    .dataframe thead th {\n",
       "        text-align: right;\n",
       "    }\n",
       "</style>\n",
       "<table border=\"1\" class=\"dataframe\">\n",
       "  <thead>\n",
       "    <tr style=\"text-align: right;\">\n",
       "      <th></th>\n",
       "      <th>A</th>\n",
       "      <th>B_a</th>\n",
       "      <th>B_b</th>\n",
       "      <th>B_c</th>\n",
       "      <th>C_x</th>\n",
       "      <th>C_y</th>\n",
       "      <th>C_z</th>\n",
       "      <th>D</th>\n",
       "    </tr>\n",
       "  </thead>\n",
       "  <tbody>\n",
       "    <tr>\n",
       "      <th>0</th>\n",
       "      <td>0</td>\n",
       "      <td>0</td>\n",
       "      <td>1</td>\n",
       "      <td>0</td>\n",
       "      <td>1</td>\n",
       "      <td>0</td>\n",
       "      <td>0</td>\n",
       "      <td>1</td>\n",
       "    </tr>\n",
       "    <tr>\n",
       "      <th>1</th>\n",
       "      <td>1</td>\n",
       "      <td>1</td>\n",
       "      <td>0</td>\n",
       "      <td>0</td>\n",
       "      <td>0</td>\n",
       "      <td>1</td>\n",
       "      <td>0</td>\n",
       "      <td>2</td>\n",
       "    </tr>\n",
       "    <tr>\n",
       "      <th>2</th>\n",
       "      <td>0</td>\n",
       "      <td>0</td>\n",
       "      <td>0</td>\n",
       "      <td>1</td>\n",
       "      <td>0</td>\n",
       "      <td>0</td>\n",
       "      <td>1</td>\n",
       "      <td>3</td>\n",
       "    </tr>\n",
       "  </tbody>\n",
       "</table>\n",
       "</div>"
      ],
      "text/plain": [
       "   A  B_a  B_b  B_c  C_x  C_y  C_z  D\n",
       "0  0    0    1    0    1    0    0  1\n",
       "1  1    1    0    0    0    1    0  2\n",
       "2  0    0    0    1    0    0    1  3"
      ]
     },
     "execution_count": 14,
     "metadata": {},
     "output_type": "execute_result"
    }
   ],
   "source": [
    "transform = cle.transform(df)\n",
    "transform.head()"
   ]
  },
  {
   "cell_type": "code",
   "execution_count": 475,
   "id": "f44cddec-2bd3-456c-85e6-e2ce1146a31f",
   "metadata": {
    "tags": []
   },
   "outputs": [
    {
     "data": {
      "application/vnd.jupyter.widget-view+json": {
       "model_id": "f0a9e19f49f6435795133e0842382c3d",
       "version_major": 2,
       "version_minor": 0
      },
      "text/plain": [
       "  0%|          | 0/2 [00:00<?, ?it/s]"
      ]
     },
     "metadata": {},
     "output_type": "display_data"
    },
    {
     "data": {
      "text/html": [
       "<div>\n",
       "<style scoped>\n",
       "    .dataframe tbody tr th:only-of-type {\n",
       "        vertical-align: middle;\n",
       "    }\n",
       "\n",
       "    .dataframe tbody tr th {\n",
       "        vertical-align: top;\n",
       "    }\n",
       "\n",
       "    .dataframe thead th {\n",
       "        text-align: right;\n",
       "    }\n",
       "</style>\n",
       "<table border=\"1\" class=\"dataframe\">\n",
       "  <thead>\n",
       "    <tr style=\"text-align: right;\">\n",
       "      <th></th>\n",
       "      <th>A</th>\n",
       "      <th>B</th>\n",
       "      <th>C</th>\n",
       "      <th>D</th>\n",
       "      <th>E</th>\n",
       "    </tr>\n",
       "  </thead>\n",
       "  <tbody>\n",
       "    <tr>\n",
       "      <th>0</th>\n",
       "      <td>a</td>\n",
       "      <td>b</td>\n",
       "      <td>x</td>\n",
       "      <td>1</td>\n",
       "      <td>x</td>\n",
       "    </tr>\n",
       "    <tr>\n",
       "      <th>1</th>\n",
       "      <td>b</td>\n",
       "      <td>a</td>\n",
       "      <td>y</td>\n",
       "      <td>2</td>\n",
       "      <td>y</td>\n",
       "    </tr>\n",
       "    <tr>\n",
       "      <th>2</th>\n",
       "      <td>a</td>\n",
       "      <td>c</td>\n",
       "      <td>z</td>\n",
       "      <td>3</td>\n",
       "      <td>z</td>\n",
       "    </tr>\n",
       "  </tbody>\n",
       "</table>\n",
       "</div>"
      ],
      "text/plain": [
       "   A  B  C  D  E\n",
       "0  a  b  x  1  x\n",
       "1  b  a  y  2  y\n",
       "2  a  c  z  3  z"
      ]
     },
     "execution_count": 475,
     "metadata": {},
     "output_type": "execute_result"
    }
   ],
   "source": [
    "cle.inverse_transform(transform)"
   ]
  },
  {
   "cell_type": "code",
   "execution_count": 28,
   "id": "abf6cd2c-2ae7-47ac-ac58-97bce21a6f43",
   "metadata": {},
   "outputs": [],
   "source": [
    "def create_new_cell(contents):\n",
    "    shell = get_ipython()\n",
    "    payload = dict(\n",
    "        source='set_next_input',\n",
    "        text=contents,\n",
    "        replace=False,\n",
    "    )\n",
    "    shell.payload_manager.write_payload(payload, single=False)"
   ]
  },
  {
   "cell_type": "code",
   "execution_count": 79,
   "id": "a5f41c4c-a8be-4854-b2cb-9c527f60f844",
   "metadata": {
    "tags": []
   },
   "outputs": [],
   "source": [
    "def get_callback_function(query_label: str, database: str) -> str:\n",
    "    \"\"\"Function creates a callback function string\n",
    "    \"\"\"\n",
    "    content = \"\"\"df_milestone = make_dataset.main.callback(**\n",
    "                                        {**required_args,\n",
    "                                            **{'query_label': '%s',\n",
    "                                                'start_date': start_date,\n",
    "                                                'end_date': end_date,\n",
    "                                                'database': '%s',\n",
    "                                                'edit_mode': True,\n",
    "                                                'custom_query': query\n",
    "                                                }\n",
    "                                            }\n",
    "                                        )\"\"\" %(query_label, database)\n",
    "    return content"
   ]
  },
  {
   "cell_type": "code",
   "execution_count": 80,
   "id": "d2ae35a5-4457-4086-9992-5badaaf40ad5",
   "metadata": {
    "tags": []
   },
   "outputs": [],
   "source": [
    "query_label = 'QueryMajorMilestone'\n",
    "database = 'rm_northstar_raw_processed_access'\n",
    "create_new_cell(get_callback_function(query_label, database))"
   ]
  },
  {
   "cell_type": "code",
   "execution_count": 32,
   "id": "0b22ec25-84f0-4e8b-aa8a-c2d764633200",
   "metadata": {
    "tags": []
   },
   "outputs": [
    {
     "name": "stderr",
     "output_type": "stream",
     "text": [
      "2023-02-22 05:48:46,420 [INFO] make_dataset.py/get_data:327 >> [INFO] data acquisition in progress...\n"
     ]
    },
    {
     "name": "stdout",
     "output_type": "stream",
     "text": [
      "\n",
      "No. of leadform input records: 84216\n"
     ]
    }
   ],
   "source": [
    "    required_args = {'limit': 'ALL',\n",
    "                     'workgroup': 'rcd-datascientist',\n",
    "                     'output_filepath': None}\n",
    "    df_leadform_input = make_dataset.main.callback(**{**required_args,\n",
    "                                                      **{'query_label': 'QueryAdobeLeadformInput',\n",
    "                                                         'start_date': '2022-12-01',\n",
    "                                                         'end_date': '2022-12-02',\n",
    "                                                         'loan_purpose': '',\n",
    "                                                         'group_id': '',\n",
    "                                                         'site_sections': ['ql lander', 'rocket lander'],\n",
    "                                                         'database': \"rktdp_adobe_omniture_raw_processed_access\"}\n",
    "                                                     })\n",
    "    print('\\nNo. of leadform input records:', df_leadform_input.shape[0])"
   ]
  },
  {
   "cell_type": "code",
   "execution_count": null,
   "id": "cb8ebca0-204c-415f-9737-b6ef7667fdd5",
   "metadata": {},
   "outputs": [],
   "source": []
  }
 ],
 "metadata": {
  "availableInstances": [
   {
    "_defaultOrder": 0,
    "_isFastLaunch": true,
    "category": "General purpose",
    "gpuNum": 0,
    "memoryGiB": 4,
    "name": "ml.t3.medium",
    "vcpuNum": 2
   },
   {
    "_defaultOrder": 1,
    "_isFastLaunch": false,
    "category": "General purpose",
    "gpuNum": 0,
    "memoryGiB": 8,
    "name": "ml.t3.large",
    "vcpuNum": 2
   },
   {
    "_defaultOrder": 2,
    "_isFastLaunch": false,
    "category": "General purpose",
    "gpuNum": 0,
    "memoryGiB": 16,
    "name": "ml.t3.xlarge",
    "vcpuNum": 4
   },
   {
    "_defaultOrder": 3,
    "_isFastLaunch": false,
    "category": "General purpose",
    "gpuNum": 0,
    "memoryGiB": 32,
    "name": "ml.t3.2xlarge",
    "vcpuNum": 8
   },
   {
    "_defaultOrder": 4,
    "_isFastLaunch": true,
    "category": "General purpose",
    "gpuNum": 0,
    "memoryGiB": 8,
    "name": "ml.m5.large",
    "vcpuNum": 2
   },
   {
    "_defaultOrder": 5,
    "_isFastLaunch": false,
    "category": "General purpose",
    "gpuNum": 0,
    "memoryGiB": 16,
    "name": "ml.m5.xlarge",
    "vcpuNum": 4
   },
   {
    "_defaultOrder": 6,
    "_isFastLaunch": false,
    "category": "General purpose",
    "gpuNum": 0,
    "memoryGiB": 32,
    "name": "ml.m5.2xlarge",
    "vcpuNum": 8
   },
   {
    "_defaultOrder": 7,
    "_isFastLaunch": false,
    "category": "General purpose",
    "gpuNum": 0,
    "memoryGiB": 64,
    "name": "ml.m5.4xlarge",
    "vcpuNum": 16
   },
   {
    "_defaultOrder": 8,
    "_isFastLaunch": false,
    "category": "General purpose",
    "gpuNum": 0,
    "memoryGiB": 128,
    "name": "ml.m5.8xlarge",
    "vcpuNum": 32
   },
   {
    "_defaultOrder": 9,
    "_isFastLaunch": false,
    "category": "General purpose",
    "gpuNum": 0,
    "memoryGiB": 192,
    "name": "ml.m5.12xlarge",
    "vcpuNum": 48
   },
   {
    "_defaultOrder": 10,
    "_isFastLaunch": false,
    "category": "General purpose",
    "gpuNum": 0,
    "memoryGiB": 256,
    "name": "ml.m5.16xlarge",
    "vcpuNum": 64
   },
   {
    "_defaultOrder": 11,
    "_isFastLaunch": false,
    "category": "General purpose",
    "gpuNum": 0,
    "memoryGiB": 384,
    "name": "ml.m5.24xlarge",
    "vcpuNum": 96
   },
   {
    "_defaultOrder": 12,
    "_isFastLaunch": false,
    "category": "General purpose",
    "gpuNum": 0,
    "memoryGiB": 8,
    "name": "ml.m5d.large",
    "vcpuNum": 2
   },
   {
    "_defaultOrder": 13,
    "_isFastLaunch": false,
    "category": "General purpose",
    "gpuNum": 0,
    "memoryGiB": 16,
    "name": "ml.m5d.xlarge",
    "vcpuNum": 4
   },
   {
    "_defaultOrder": 14,
    "_isFastLaunch": false,
    "category": "General purpose",
    "gpuNum": 0,
    "memoryGiB": 32,
    "name": "ml.m5d.2xlarge",
    "vcpuNum": 8
   },
   {
    "_defaultOrder": 15,
    "_isFastLaunch": false,
    "category": "General purpose",
    "gpuNum": 0,
    "memoryGiB": 64,
    "name": "ml.m5d.4xlarge",
    "vcpuNum": 16
   },
   {
    "_defaultOrder": 16,
    "_isFastLaunch": false,
    "category": "General purpose",
    "gpuNum": 0,
    "memoryGiB": 128,
    "name": "ml.m5d.8xlarge",
    "vcpuNum": 32
   },
   {
    "_defaultOrder": 17,
    "_isFastLaunch": false,
    "category": "General purpose",
    "gpuNum": 0,
    "memoryGiB": 192,
    "name": "ml.m5d.12xlarge",
    "vcpuNum": 48
   },
   {
    "_defaultOrder": 18,
    "_isFastLaunch": false,
    "category": "General purpose",
    "gpuNum": 0,
    "memoryGiB": 256,
    "name": "ml.m5d.16xlarge",
    "vcpuNum": 64
   },
   {
    "_defaultOrder": 19,
    "_isFastLaunch": false,
    "category": "General purpose",
    "gpuNum": 0,
    "memoryGiB": 384,
    "name": "ml.m5d.24xlarge",
    "vcpuNum": 96
   },
   {
    "_defaultOrder": 20,
    "_isFastLaunch": true,
    "category": "Compute optimized",
    "gpuNum": 0,
    "memoryGiB": 4,
    "name": "ml.c5.large",
    "vcpuNum": 2
   },
   {
    "_defaultOrder": 21,
    "_isFastLaunch": false,
    "category": "Compute optimized",
    "gpuNum": 0,
    "memoryGiB": 8,
    "name": "ml.c5.xlarge",
    "vcpuNum": 4
   },
   {
    "_defaultOrder": 22,
    "_isFastLaunch": false,
    "category": "Compute optimized",
    "gpuNum": 0,
    "memoryGiB": 16,
    "name": "ml.c5.2xlarge",
    "vcpuNum": 8
   },
   {
    "_defaultOrder": 23,
    "_isFastLaunch": false,
    "category": "Compute optimized",
    "gpuNum": 0,
    "memoryGiB": 32,
    "name": "ml.c5.4xlarge",
    "vcpuNum": 16
   },
   {
    "_defaultOrder": 24,
    "_isFastLaunch": false,
    "category": "Compute optimized",
    "gpuNum": 0,
    "memoryGiB": 72,
    "name": "ml.c5.9xlarge",
    "vcpuNum": 36
   },
   {
    "_defaultOrder": 25,
    "_isFastLaunch": false,
    "category": "Compute optimized",
    "gpuNum": 0,
    "memoryGiB": 96,
    "name": "ml.c5.12xlarge",
    "vcpuNum": 48
   },
   {
    "_defaultOrder": 26,
    "_isFastLaunch": false,
    "category": "Compute optimized",
    "gpuNum": 0,
    "memoryGiB": 144,
    "name": "ml.c5.18xlarge",
    "vcpuNum": 72
   },
   {
    "_defaultOrder": 27,
    "_isFastLaunch": false,
    "category": "Compute optimized",
    "gpuNum": 0,
    "memoryGiB": 192,
    "name": "ml.c5.24xlarge",
    "vcpuNum": 96
   },
   {
    "_defaultOrder": 28,
    "_isFastLaunch": true,
    "category": "Accelerated computing",
    "gpuNum": 1,
    "memoryGiB": 16,
    "name": "ml.g4dn.xlarge",
    "vcpuNum": 4
   },
   {
    "_defaultOrder": 29,
    "_isFastLaunch": false,
    "category": "Accelerated computing",
    "gpuNum": 1,
    "memoryGiB": 32,
    "name": "ml.g4dn.2xlarge",
    "vcpuNum": 8
   },
   {
    "_defaultOrder": 30,
    "_isFastLaunch": false,
    "category": "Accelerated computing",
    "gpuNum": 1,
    "memoryGiB": 64,
    "name": "ml.g4dn.4xlarge",
    "vcpuNum": 16
   },
   {
    "_defaultOrder": 31,
    "_isFastLaunch": false,
    "category": "Accelerated computing",
    "gpuNum": 1,
    "memoryGiB": 128,
    "name": "ml.g4dn.8xlarge",
    "vcpuNum": 32
   },
   {
    "_defaultOrder": 32,
    "_isFastLaunch": false,
    "category": "Accelerated computing",
    "gpuNum": 4,
    "memoryGiB": 192,
    "name": "ml.g4dn.12xlarge",
    "vcpuNum": 48
   },
   {
    "_defaultOrder": 33,
    "_isFastLaunch": false,
    "category": "Accelerated computing",
    "gpuNum": 1,
    "memoryGiB": 256,
    "name": "ml.g4dn.16xlarge",
    "vcpuNum": 64
   },
   {
    "_defaultOrder": 34,
    "_isFastLaunch": false,
    "category": "Accelerated computing",
    "gpuNum": 1,
    "memoryGiB": 61,
    "name": "ml.p3.2xlarge",
    "vcpuNum": 8
   },
   {
    "_defaultOrder": 35,
    "_isFastLaunch": false,
    "category": "Accelerated computing",
    "gpuNum": 4,
    "memoryGiB": 244,
    "name": "ml.p3.8xlarge",
    "vcpuNum": 32
   },
   {
    "_defaultOrder": 36,
    "_isFastLaunch": false,
    "category": "Accelerated computing",
    "gpuNum": 8,
    "memoryGiB": 488,
    "name": "ml.p3.16xlarge",
    "vcpuNum": 64
   },
   {
    "_defaultOrder": 37,
    "_isFastLaunch": false,
    "category": "Accelerated computing",
    "gpuNum": 8,
    "memoryGiB": 768,
    "name": "ml.p3dn.24xlarge",
    "vcpuNum": 96
   },
   {
    "_defaultOrder": 38,
    "_isFastLaunch": false,
    "category": "Memory Optimized",
    "gpuNum": 0,
    "memoryGiB": 16,
    "name": "ml.r5.large",
    "vcpuNum": 2
   },
   {
    "_defaultOrder": 39,
    "_isFastLaunch": false,
    "category": "Memory Optimized",
    "gpuNum": 0,
    "memoryGiB": 32,
    "name": "ml.r5.xlarge",
    "vcpuNum": 4
   },
   {
    "_defaultOrder": 40,
    "_isFastLaunch": false,
    "category": "Memory Optimized",
    "gpuNum": 0,
    "memoryGiB": 64,
    "name": "ml.r5.2xlarge",
    "vcpuNum": 8
   },
   {
    "_defaultOrder": 41,
    "_isFastLaunch": false,
    "category": "Memory Optimized",
    "gpuNum": 0,
    "memoryGiB": 128,
    "name": "ml.r5.4xlarge",
    "vcpuNum": 16
   },
   {
    "_defaultOrder": 42,
    "_isFastLaunch": false,
    "category": "Memory Optimized",
    "gpuNum": 0,
    "memoryGiB": 256,
    "name": "ml.r5.8xlarge",
    "vcpuNum": 32
   },
   {
    "_defaultOrder": 43,
    "_isFastLaunch": false,
    "category": "Memory Optimized",
    "gpuNum": 0,
    "memoryGiB": 384,
    "name": "ml.r5.12xlarge",
    "vcpuNum": 48
   },
   {
    "_defaultOrder": 44,
    "_isFastLaunch": false,
    "category": "Memory Optimized",
    "gpuNum": 0,
    "memoryGiB": 512,
    "name": "ml.r5.16xlarge",
    "vcpuNum": 64
   },
   {
    "_defaultOrder": 45,
    "_isFastLaunch": false,
    "category": "Memory Optimized",
    "gpuNum": 0,
    "memoryGiB": 768,
    "name": "ml.r5.24xlarge",
    "vcpuNum": 96
   },
   {
    "_defaultOrder": 46,
    "_isFastLaunch": false,
    "category": "Accelerated computing",
    "gpuNum": 1,
    "memoryGiB": 16,
    "name": "ml.g5.xlarge",
    "vcpuNum": 4
   },
   {
    "_defaultOrder": 47,
    "_isFastLaunch": false,
    "category": "Accelerated computing",
    "gpuNum": 1,
    "memoryGiB": 32,
    "name": "ml.g5.2xlarge",
    "vcpuNum": 8
   },
   {
    "_defaultOrder": 48,
    "_isFastLaunch": false,
    "category": "Accelerated computing",
    "gpuNum": 1,
    "memoryGiB": 64,
    "name": "ml.g5.4xlarge",
    "vcpuNum": 16
   },
   {
    "_defaultOrder": 49,
    "_isFastLaunch": false,
    "category": "Accelerated computing",
    "gpuNum": 1,
    "memoryGiB": 128,
    "name": "ml.g5.8xlarge",
    "vcpuNum": 32
   },
   {
    "_defaultOrder": 50,
    "_isFastLaunch": false,
    "category": "Accelerated computing",
    "gpuNum": 1,
    "memoryGiB": 256,
    "name": "ml.g5.16xlarge",
    "vcpuNum": 64
   },
   {
    "_defaultOrder": 51,
    "_isFastLaunch": false,
    "category": "Accelerated computing",
    "gpuNum": 4,
    "memoryGiB": 192,
    "name": "ml.g5.12xlarge",
    "vcpuNum": 48
   },
   {
    "_defaultOrder": 52,
    "_isFastLaunch": false,
    "category": "Accelerated computing",
    "gpuNum": 4,
    "memoryGiB": 384,
    "name": "ml.g5.24xlarge",
    "vcpuNum": 96
   },
   {
    "_defaultOrder": 53,
    "_isFastLaunch": false,
    "category": "Accelerated computing",
    "gpuNum": 8,
    "memoryGiB": 768,
    "name": "ml.g5.48xlarge",
    "vcpuNum": 192
   }
  ],
  "instance_type": "ml.t3.medium",
  "kernelspec": {
   "display_name": "Python 3 (Data Science 3.0)",
   "language": "python",
   "name": "python3__SAGEMAKER_INTERNAL__arn:aws:sagemaker:us-east-2:429704687514:image/sagemaker-data-science-310-v1"
  },
  "language_info": {
   "codemirror_mode": {
    "name": "ipython",
    "version": 3
   },
   "file_extension": ".py",
   "mimetype": "text/x-python",
   "name": "python",
   "nbconvert_exporter": "python",
   "pygments_lexer": "ipython3",
   "version": "3.10.6"
  }
 },
 "nbformat": 4,
 "nbformat_minor": 5
}
