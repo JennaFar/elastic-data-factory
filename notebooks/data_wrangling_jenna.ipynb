{
 "cells": [
  {
   "cell_type": "markdown",
   "metadata": {},
   "source": [
    "## Data Wrangling Notebook\n",
    "\n",
    "### This notebook connects multiple auxiliary data sources with empirical data from RM283 (refer to relevant documentation for details)"
   ]
  },
  {
   "cell_type": "markdown",
   "metadata": {
    "tags": []
   },
   "source": [
    "#### Import packages for data wrangling and plotting"
   ]
  },
  {
   "cell_type": "code",
   "execution_count": 2,
   "metadata": {},
   "outputs": [],
   "source": [
    "# import unctions for interacting with the operating system\n",
    "import os\n",
    "# import sys functions and variables to manipulate Python runtime environment\n",
    "import sys\n",
    "# import AWS SDK for Python\n",
    "import boto3"
   ]
  },
  {
   "cell_type": "code",
   "execution_count": 3,
   "metadata": {},
   "outputs": [],
   "source": [
    "%%capture\n",
    "# mute output above\n",
    "# install awswrangler package through url artifactory.foc.zone\n",
    "!{sys.executable} -m pip install awswrangler --index-url https://private.artifactory.foc.zone/api/pypi/rdf-pypi-virtual/simple --extra-index-url https://private.artifactory.foc.zone/artifactory/api/pypi/pypi-remote/simple"
   ]
  },
  {
   "cell_type": "code",
   "execution_count": 4,
   "metadata": {},
   "outputs": [],
   "source": [
    "# import awswrangler package\n",
    "import awswrangler as wr\n",
    "# import pandas for relational data analysis and manipulation\n",
    "import pandas as pd\n",
    "# import numpy to create and manipulate arrays\n",
    "import numpy as np\n",
    "# import date module to get current date\n",
    "from datetime import date\n",
    "# import matplotlib for plotting\n",
    "import matplotlib.pyplot as plt"
   ]
  },
  {
   "cell_type": "markdown",
   "metadata": {},
   "source": [
    "#### Create session to store configuration state and service clients"
   ]
  },
  {
   "cell_type": "code",
   "execution_count": 5,
   "metadata": {},
   "outputs": [],
   "source": [
    "# create session and set environment variables\n",
    "session = boto3.Session()\n",
    "s3 = boto3.resource('s3')\n",
    "wr.config.sts_endpoint_url = \"https://sts.\" + session.region_name + \".amazonaws.com\"\n",
    "os.environ['AWS_DEFAULT_REGION'] = 'us-east-2' # specify your AWS region."
   ]
  },
  {
   "cell_type": "markdown",
   "metadata": {},
   "source": [
    "##### Enter experiment start date"
   ]
  },
  {
   "cell_type": "code",
   "execution_count": 6,
   "metadata": {},
   "outputs": [],
   "source": [
    "# enter experiment start date\n",
    "exp_start_date = '2022-06-21'\n",
    "# identify current date\n",
    "exp_curr_date = date.today()"
   ]
  },
  {
   "cell_type": "markdown",
   "metadata": {},
   "source": [
    "#### Create parameterized query"
   ]
  },
  {
   "cell_type": "code",
   "execution_count": 163,
   "metadata": {},
   "outputs": [],
   "source": [
    "def query_with_params(start_date = None, end_date = None, matchkey = None, table_name = None, limit = None):\n",
    "    params = {\n",
    "        \"start_date\": F\"'{start_date}'\",\n",
    "        \"end_date\": F\"'{end_date}'\",\n",
    "        \"group_value_1\": F\"'{matchkey}'\",\n",
    "        \"group_value_2\": F\"'%--{matchkey}%'\",\n",
    "        \"group_value_3\": F\"'{matchkey}%'\",\n",
    "        \"table_name\": F\"{table_name}\",\n",
    "        \"limit\": F\"{limit}\",\n",
    "    }\n",
    "    return params"
   ]
  },
  {
   "cell_type": "code",
   "execution_count": 179,
   "metadata": {},
   "outputs": [],
   "source": [
    "def query_group_data(params = None):\n",
    "    query = '''\n",
    "        WITH groupData AS /*+label(query_data_rm283_visitors)*/\n",
    "            (\n",
    "        SELECT \n",
    "           mcvisid_visitorid,\n",
    "           post_mvvar3,\n",
    "           post_tnt,\n",
    "           datekey,\n",
    "           hour,\n",
    "           visitnumber,\n",
    "           visit_page_num,\n",
    "           pagename,\n",
    "        ROW_NUMBER() OVER \n",
    "        (\n",
    "        PARTITION BY \n",
    "            mcvisid_visitorid\n",
    "        ORDER BY \n",
    "            datekey DESC, \n",
    "            hour DESC, \n",
    "            visitnumber DESC, \n",
    "            visit_page_num DESC\n",
    "        ) \n",
    "        AS rowNumber\n",
    "        FROM :table_name;\n",
    "        WHERE \n",
    "            (\n",
    "            post_tnt= :group_value_1; \n",
    "            OR post_tnt LIKE :group_value_2; \n",
    "            OR post_tnt LIKE :group_value_3;) \n",
    "            AND datekey >= :start_date; \n",
    "            AND post_mvvar3 <> ''\n",
    "            ),\n",
    "        distinctVisitors AS\n",
    "        (\n",
    "        SELECT DISTINCT\n",
    "           mcvisid_visitorid,\n",
    "           post_tnt,\n",
    "           datekey,\n",
    "           hour\n",
    "        FROM :table_name;\n",
    "        WHERE \n",
    "            (\n",
    "            post_tnt= :group_value_1; \n",
    "            OR post_tnt LIKE :group_value_2; \n",
    "            OR post_tnt LIKE :group_value_3;) \n",
    "            AND datekey >= :start_date;\n",
    "            )\n",
    "        SELECT \n",
    "           A.mcvisid_visitorid,\n",
    "           A.post_mvvar3,\n",
    "           A.post_tnt,\n",
    "           A.datekey,\n",
    "           A.hour,\n",
    "           A.visitnumber,\n",
    "           A.visit_page_num,\n",
    "           A.pagename,\n",
    "           A.rowNumber\n",
    "        FROM groupData AS A\n",
    "        INNER JOIN distinctVisitors ON\n",
    "            A.mcvisid_visitorid = distinctVisitors.mcvisid_visitorid\n",
    "        GROUP BY \n",
    "            A.mcvisid_visitorid,\n",
    "            A.post_mvvar3,\n",
    "            A.post_tnt,\n",
    "            A.datekey,\n",
    "            A.hour,\n",
    "            A.visitnumber,\n",
    "            A.visit_page_num,\n",
    "            A.pagename,\n",
    "            A.rowNumber\n",
    "        LIMIT :limit;\n",
    "        '''\n",
    "    if params is not None:\n",
    "        dataFrame = wr.athena.read_sql_query(sql = query, \n",
    "                                             database = \"ktdp_model_outputs_raw_access\", \n",
    "                                             params = params, \n",
    "                                             ctas_approach = False, \n",
    "                                             s3_output = \"s3://sagemaker-us-east-2-780533714889/testwrangler\",\n",
    "                                             workgroup = 'rcd-datascientist',\n",
    "                                             boto3_session = session)\n",
    "        return dataFrame\n",
    "    else:\n",
    "        return None"
   ]
  },
  {
   "cell_type": "markdown",
   "metadata": {},
   "source": [
    "#### Execute query for Control and Test group data"
   ]
  },
  {
   "cell_type": "code",
   "execution_count": 180,
   "metadata": {},
   "outputs": [],
   "source": [
    "params_control = query_with_params(exp_start_date, \n",
    "                                   exp_curr_date, \n",
    "                                   matchkey = '562585:0:0', \n",
    "                                   table_name = 'rktdp_adobe_omniture_raw_processed_access.adobe_dq_prcd_data',\n",
    "                                   limit = 'ALL',\n",
    "                                  )\n",
    "dataFrame_control = query_group_data(params_control)"
   ]
  },
  {
   "cell_type": "code",
   "execution_count": 9,
   "metadata": {},
   "outputs": [],
   "source": [
    "params_test = query_with_params(exp_start_date, \n",
    "                                exp_curr_date, \n",
    "                                matchkey = '562585:1:0'\n",
    "                                table_name = 'rktdp_adobe_omniture_raw_processed_access.adobe_dq_prcd_data'\n",
    "                               )\n",
    "dataFrame_test = query_group_data(params_test)"
   ]
  },
  {
   "cell_type": "markdown",
   "metadata": {},
   "source": [
    "#### Verify data and plot distribution based on event clicks"
   ]
  },
  {
   "cell_type": "code",
   "execution_count": 10,
   "metadata": {},
   "outputs": [
    {
     "name": "stdout",
     "output_type": "stream",
     "text": [
      "(182788, 9) (209562, 9)\n"
     ]
    }
   ],
   "source": [
    "print(dataFrame_control.shape, dataFrame_test.shape)"
   ]
  },
  {
   "cell_type": "code",
   "execution_count": 11,
   "metadata": {},
   "outputs": [
    {
     "name": "stdout",
     "output_type": "stream",
     "text": [
      "7900\n",
      "7424\n"
     ]
    }
   ],
   "source": [
    "print(dataFrame_control.mcvisid_visitorid.nunique())\n",
    "print(dataFrame_test.mcvisid_visitorid.nunique())"
   ]
  },
  {
   "cell_type": "code",
   "execution_count": 12,
   "metadata": {},
   "outputs": [],
   "source": [
    "def plot_histogram(x: list, y: list, nrows: int, ncols: int, xlabel: str, ylabel: str):\n",
    "    # create subplots\n",
    "    fig, ax = plt.subplots(nrows=nrows,\n",
    "                           ncols=ncols,\n",
    "                           figsize=(8, 4))\n",
    "    ax.hist([x, y], \n",
    "             bins='auto',\n",
    "             range=(0, 70),\n",
    "             stacked=False, \n",
    "             density=True,\n",
    "             label=(str(xlabel), str(ylabel)))\n",
    "    ax.legend(loc=(0.65, 0.8))\n",
    "    ax.set_title('Distribution of $Control$ and $Test$ Observations by Visitor')\n",
    "    ax.yaxis.tick_right()\n",
    "    plt.show()"
   ]
  },
  {
   "cell_type": "code",
   "execution_count": 13,
   "metadata": {},
   "outputs": [
    {
     "data": {
      "image/png": "[encoded data removed]",
      "text/plain": [
       "<Figure size 576x288 with 1 Axes>"
      ]
     },
     "metadata": {
      "needs_background": "light"
     },
     "output_type": "display_data"
    },
    {
     "name": "stdout",
     "output_type": "stream",
     "text": [
      "0\n",
      "0\n"
     ]
    }
   ],
   "source": [
    "#dataFrame_control.drop_duplicates(subset=['mcvisid_visitorid'], inplace = True)\n",
    "#dataFrame_test.drop_duplicates(subset=['mcvisid_visitorid'], inplace = True)\n",
    "#dataFrame_control.drop_duplicates(subset=['mcvisid_visitorid'], inplace = False, keep='first')\n",
    "#dataFrame_control.head(100)\n",
    "control_events_freq = list(dataFrame_control.groupby('mcvisid_visitorid')['rowNumber'].max().values)\n",
    "test_events_freq = list(dataFrame_test.groupby('mcvisid_visitorid')['rowNumber'].max().values)\n",
    "test_events = dataFrame_test.groupby(['mcvisid_visitorid'], sort=False)['rowNumber'].max()\n",
    "test_events = test_events.reset_index()\n",
    "test_events.sort_values('rowNumber', inplace = True, ascending=False)\n",
    "plot_histogram(control_events_freq, test_events_freq, nrows=1, ncols=1, xlabel='Control', ylabel='Test')\n",
    "print(dataFrame_test[dataFrame_test['pagename'].str.contains('rocket:lander')].post_mvvar3.isna().sum())\n",
    "print(dataFrame_control[dataFrame_control['pagename'].str.contains('rocket:lander')].post_mvvar3.isna().sum())\n",
    "#TODO rocket:lander:bam orbit:nametimeframeToPurchase"
   ]
  },
  {
   "cell_type": "markdown",
   "metadata": {},
   "source": [
    "#### Function to process retrieved data"
   ]
  },
  {
   "cell_type": "code",
   "execution_count": 14,
   "metadata": {},
   "outputs": [],
   "source": [
    "def parse_string(dataFrame):\n",
    "    # function parses string using regex to extract time to purchase values\n",
    "    time_frame_regex = r'timeframetopurchase:(.*?)--|timeframetopurchase:([^.]*$)'\n",
    "    dataFrame = (dataFrame.join(dataFrame['post_mvvar3'].str.extractall(time_frame_regex)[0].unstack().add_prefix('time_frame_to_purchase_start_')))\n",
    "    dataFrame = (dataFrame.join(dataFrame['post_mvvar3'].str.extractall(time_frame_regex)[1].unstack().add_prefix('time_frame_to_purchase_end_')))\n",
    "    parsed_columns = ['time_frame_to_purchase_start_0', 'time_frame_to_purchase_start_1', 'time_frame_to_purchase_start_2', \n",
    "           'time_frame_to_purchase_end_0', 'time_frame_to_purchase_end_1', 'time_frame_to_purchase_end_2']\n",
    "    dataFrame_count = dataFrame.groupby('mcvisid_visitorid')[parsed_columns].apply(lambda x: pd.unique(x.values.ravel()).tolist()).reset_index(name='time_frame_to_purchase')\n",
    "    dataFrame_count['time_frame_to_purchase_max_entry'] = pd.notna(dataFrame_count['time_frame_to_purchase'].values[0]).sum()\n",
    "    dataFrame_merged = dataFrame.merge(dataFrame_count, on='mcvisid_visitorid', how='inner')\n",
    "    dataFrame_merged.drop(parsed_columns, axis=1, inplace=True)\n",
    "    #TODO: optimize inefficient retrieval and replacement of values\n",
    "    for index, row in dataFrame_merged.iterrows():\n",
    "        dataFrame_merged['time_frame_to_purchase_max_entry'].iloc[index] = pd.notna(dataFrame_merged['time_frame_to_purchase'].values[index]).sum()\n",
    "        dataFrame_merged['time_frame_to_purchase'].iloc[index] = [y for y in row.time_frame_to_purchase if pd.notna(y)]\n",
    "    \n",
    "    return dataFrame_merged"
   ]
  },
  {
   "cell_type": "code",
   "execution_count": 15,
   "metadata": {},
   "outputs": [
    {
     "name": "stdout",
     "output_type": "stream",
     "text": [
      "7899 7423\n"
     ]
    },
    {
     "name": "stderr",
     "output_type": "stream",
     "text": [
      "/opt/conda/lib/python3.8/site-packages/pandas/core/indexing.py:1732: SettingWithCopyWarning: \n",
      "A value is trying to be set on a copy of a slice from a DataFrame\n",
      "\n",
      "See the caveats in the documentation: https://pandas.pydata.org/pandas-docs/stable/user_guide/indexing.html#returning-a-view-versus-a-copy\n",
      "  self._setitem_single_block(indexer, value, name)\n"
     ]
    },
    {
     "name": "stdout",
     "output_type": "stream",
     "text": [
      "7899 7423\n"
     ]
    }
   ],
   "source": [
    "# Filter records by 'timeframetopurchase' string in post_mvvar3\n",
    "dataFrame_control = dataFrame_control[dataFrame_control['post_mvvar3'].str.contains('timeframetopurchase')]\n",
    "dataFrame_test = dataFrame_test[dataFrame_test['post_mvvar3'].str.contains('timeframetopurchase')]\n",
    "print(dataFrame_control.mcvisid_visitorid.nunique(), dataFrame_test.mcvisid_visitorid.nunique())\n",
    "dataFrame_control_parsed = parse_string(dataFrame_control).copy()\n",
    "dataFrame_test_parsed = parse_string(dataFrame_test).copy()\n",
    "print(dataFrame_control_parsed.mcvisid_visitorid.nunique(), dataFrame_test_parsed.mcvisid_visitorid.nunique())"
   ]
  },
  {
   "cell_type": "code",
   "execution_count": 16,
   "metadata": {},
   "outputs": [
    {
     "data": {
      "text/html": [
       "<div>\n",
       "<style scoped>\n",
       "    .dataframe tbody tr th:only-of-type {\n",
       "        vertical-align: middle;\n",
       "    }\n",
       "\n",
       "    .dataframe tbody tr th {\n",
       "        vertical-align: top;\n",
       "    }\n",
       "\n",
       "    .dataframe thead th {\n",
       "        text-align: right;\n",
       "    }\n",
       "</style>\n",
       "<table border=\"1\" class=\"dataframe\">\n",
       "  <thead>\n",
       "    <tr style=\"text-align: right;\">\n",
       "      <th></th>\n",
       "      <th>mcvisid_visitorid</th>\n",
       "      <th>post_mvvar3</th>\n",
       "      <th>post_tnt</th>\n",
       "      <th>datekey</th>\n",
       "      <th>hour</th>\n",
       "      <th>visitnumber</th>\n",
       "      <th>visit_page_num</th>\n",
       "      <th>pagename</th>\n",
       "      <th>rowNumber</th>\n",
       "      <th>time_frame_to_purchase</th>\n",
       "      <th>time_frame_to_purchase_max_entry</th>\n",
       "    </tr>\n",
       "  </thead>\n",
       "  <tbody>\n",
       "    <tr>\n",
       "      <th>78043</th>\n",
       "      <td>22452264393298590703697518714976847647</td>\n",
       "      <td>timeframetopurchase:6+ months--**--timeframeto...</td>\n",
       "      <td>562585:1:0</td>\n",
       "      <td>2022-07-25</td>\n",
       "      <td>18</td>\n",
       "      <td>1</td>\n",
       "      <td>22</td>\n",
       "      <td>rocket:lander:wham orbit:workingWithAnAgent</td>\n",
       "      <td>1</td>\n",
       "      <td>[6+ months, 2 - 3 months, 3 - 6 months]</td>\n",
       "      <td>3</td>\n",
       "    </tr>\n",
       "    <tr>\n",
       "      <th>78044</th>\n",
       "      <td>22452264393298590703697518714976847647</td>\n",
       "      <td>timeframetopurchase:6+ months--**--timeframeto...</td>\n",
       "      <td>562585:1:0</td>\n",
       "      <td>2022-07-25</td>\n",
       "      <td>18</td>\n",
       "      <td>1</td>\n",
       "      <td>21</td>\n",
       "      <td>rocket:lander:wham orbit:workingWithAnAgent</td>\n",
       "      <td>2</td>\n",
       "      <td>[6+ months, 2 - 3 months, 3 - 6 months]</td>\n",
       "      <td>3</td>\n",
       "    </tr>\n",
       "  </tbody>\n",
       "</table>\n",
       "</div>"
      ],
      "text/plain": [
       "                            mcvisid_visitorid  \\\n",
       "78043  22452264393298590703697518714976847647   \n",
       "78044  22452264393298590703697518714976847647   \n",
       "\n",
       "                                             post_mvvar3    post_tnt  \\\n",
       "78043  timeframetopurchase:6+ months--**--timeframeto...  562585:1:0   \n",
       "78044  timeframetopurchase:6+ months--**--timeframeto...  562585:1:0   \n",
       "\n",
       "          datekey  hour  visitnumber  visit_page_num  \\\n",
       "78043  2022-07-25    18            1              22   \n",
       "78044  2022-07-25    18            1              21   \n",
       "\n",
       "                                          pagename  rowNumber  \\\n",
       "78043  rocket:lander:wham orbit:workingWithAnAgent          1   \n",
       "78044  rocket:lander:wham orbit:workingWithAnAgent          2   \n",
       "\n",
       "                        time_frame_to_purchase  \\\n",
       "78043  [6+ months, 2 - 3 months, 3 - 6 months]   \n",
       "78044  [6+ months, 2 - 3 months, 3 - 6 months]   \n",
       "\n",
       "       time_frame_to_purchase_max_entry  \n",
       "78043                                 3  \n",
       "78044                                 3  "
      ]
     },
     "execution_count": 16,
     "metadata": {},
     "output_type": "execute_result"
    }
   ],
   "source": [
    "dataFrame_test_parsed[dataFrame_test_parsed['mcvisid_visitorid'] == '22452264393298590703697518714976847647']"
   ]
  },
  {
   "cell_type": "markdown",
   "metadata": {},
   "source": [
    "#### Concatenate test and control group processed data for export"
   ]
  },
  {
   "cell_type": "code",
   "execution_count": 71,
   "metadata": {},
   "outputs": [
    {
     "data": {
      "text/html": [
       "<div>\n",
       "<style scoped>\n",
       "    .dataframe tbody tr th:only-of-type {\n",
       "        vertical-align: middle;\n",
       "    }\n",
       "\n",
       "    .dataframe tbody tr th {\n",
       "        vertical-align: top;\n",
       "    }\n",
       "\n",
       "    .dataframe thead th {\n",
       "        text-align: right;\n",
       "    }\n",
       "</style>\n",
       "<table border=\"1\" class=\"dataframe\">\n",
       "  <thead>\n",
       "    <tr style=\"text-align: right;\">\n",
       "      <th></th>\n",
       "      <th>group</th>\n",
       "      <th>mcvisid_visitorid</th>\n",
       "      <th>post_mvvar3</th>\n",
       "      <th>post_tnt</th>\n",
       "      <th>datekey</th>\n",
       "      <th>hour</th>\n",
       "      <th>visitnumber</th>\n",
       "      <th>visit_page_num</th>\n",
       "      <th>pagename</th>\n",
       "      <th>rowNumber</th>\n",
       "      <th>time_frame_to_purchase_start_3</th>\n",
       "      <th>time_frame_to_purchase_end_3</th>\n",
       "      <th>time_frame_to_purchase</th>\n",
       "      <th>time_frame_to_purchase_max_entry</th>\n",
       "    </tr>\n",
       "  </thead>\n",
       "  <tbody>\n",
       "    <tr>\n",
       "      <th>0</th>\n",
       "      <td>control</td>\n",
       "      <td>00661035565934192173447413953129208282</td>\n",
       "      <td>purpose:purchase--**--homedescription:multifam...</td>\n",
       "      <td>562585:0:0</td>\n",
       "      <td>2022-06-22</td>\n",
       "      <td>8</td>\n",
       "      <td>1</td>\n",
       "      <td>16</td>\n",
       "      <td>rocket:lander:wham orbit:name</td>\n",
       "      <td>1</td>\n",
       "      <td>&lt;NA&gt;</td>\n",
       "      <td>&lt;NA&gt;</td>\n",
       "      <td>[3 - 6 months]</td>\n",
       "      <td>1</td>\n",
       "    </tr>\n",
       "    <tr>\n",
       "      <th>1</th>\n",
       "      <td>control</td>\n",
       "      <td>00661035565934192173447413953129208282</td>\n",
       "      <td>purpose:purchase--**--homedescription:multifam...</td>\n",
       "      <td>562585:0:0</td>\n",
       "      <td>2022-06-22</td>\n",
       "      <td>8</td>\n",
       "      <td>1</td>\n",
       "      <td>15</td>\n",
       "      <td>rocket:lander:wham orbit:bankruptcy</td>\n",
       "      <td>2</td>\n",
       "      <td>&lt;NA&gt;</td>\n",
       "      <td>&lt;NA&gt;</td>\n",
       "      <td>[3 - 6 months]</td>\n",
       "      <td>1</td>\n",
       "    </tr>\n",
       "    <tr>\n",
       "      <th>2</th>\n",
       "      <td>control</td>\n",
       "      <td>00661035565934192173447413953129208282</td>\n",
       "      <td>purpose:purchase--**--homedescription:multifam...</td>\n",
       "      <td>562585:0:0</td>\n",
       "      <td>2022-06-22</td>\n",
       "      <td>8</td>\n",
       "      <td>1</td>\n",
       "      <td>14</td>\n",
       "      <td>rocket:lander:wham orbit:foreclosure</td>\n",
       "      <td>3</td>\n",
       "      <td>&lt;NA&gt;</td>\n",
       "      <td>&lt;NA&gt;</td>\n",
       "      <td>[3 - 6 months]</td>\n",
       "      <td>1</td>\n",
       "    </tr>\n",
       "    <tr>\n",
       "      <th>3</th>\n",
       "      <td>control</td>\n",
       "      <td>00661035565934192173447413953129208282</td>\n",
       "      <td>purpose:purchase--**--homedescription:multifam...</td>\n",
       "      <td>562585:0:0</td>\n",
       "      <td>2022-06-22</td>\n",
       "      <td>8</td>\n",
       "      <td>1</td>\n",
       "      <td>13</td>\n",
       "      <td>rocket:lander:wham orbit:latePayments</td>\n",
       "      <td>4</td>\n",
       "      <td>&lt;NA&gt;</td>\n",
       "      <td>&lt;NA&gt;</td>\n",
       "      <td>[3 - 6 months]</td>\n",
       "      <td>1</td>\n",
       "    </tr>\n",
       "    <tr>\n",
       "      <th>4</th>\n",
       "      <td>control</td>\n",
       "      <td>00661035565934192173447413953129208282</td>\n",
       "      <td>purpose:purchase--**--homedescription:multifam...</td>\n",
       "      <td>562585:0:0</td>\n",
       "      <td>2022-06-22</td>\n",
       "      <td>8</td>\n",
       "      <td>1</td>\n",
       "      <td>12</td>\n",
       "      <td>rocket:lander:wham orbit:employmentStatus</td>\n",
       "      <td>5</td>\n",
       "      <td>&lt;NA&gt;</td>\n",
       "      <td>&lt;NA&gt;</td>\n",
       "      <td>[3 - 6 months]</td>\n",
       "      <td>1</td>\n",
       "    </tr>\n",
       "  </tbody>\n",
       "</table>\n",
       "</div>"
      ],
      "text/plain": [
       "     group                       mcvisid_visitorid  \\\n",
       "0  control  00661035565934192173447413953129208282   \n",
       "1  control  00661035565934192173447413953129208282   \n",
       "2  control  00661035565934192173447413953129208282   \n",
       "3  control  00661035565934192173447413953129208282   \n",
       "4  control  00661035565934192173447413953129208282   \n",
       "\n",
       "                                         post_mvvar3    post_tnt     datekey  \\\n",
       "0  purpose:purchase--**--homedescription:multifam...  562585:0:0  2022-06-22   \n",
       "1  purpose:purchase--**--homedescription:multifam...  562585:0:0  2022-06-22   \n",
       "2  purpose:purchase--**--homedescription:multifam...  562585:0:0  2022-06-22   \n",
       "3  purpose:purchase--**--homedescription:multifam...  562585:0:0  2022-06-22   \n",
       "4  purpose:purchase--**--homedescription:multifam...  562585:0:0  2022-06-22   \n",
       "\n",
       "   hour  visitnumber  visit_page_num  \\\n",
       "0     8            1              16   \n",
       "1     8            1              15   \n",
       "2     8            1              14   \n",
       "3     8            1              13   \n",
       "4     8            1              12   \n",
       "\n",
       "                                    pagename  rowNumber  \\\n",
       "0              rocket:lander:wham orbit:name          1   \n",
       "1        rocket:lander:wham orbit:bankruptcy          2   \n",
       "2       rocket:lander:wham orbit:foreclosure          3   \n",
       "3      rocket:lander:wham orbit:latePayments          4   \n",
       "4  rocket:lander:wham orbit:employmentStatus          5   \n",
       "\n",
       "  time_frame_to_purchase_start_3 time_frame_to_purchase_end_3  \\\n",
       "0                           <NA>                         <NA>   \n",
       "1                           <NA>                         <NA>   \n",
       "2                           <NA>                         <NA>   \n",
       "3                           <NA>                         <NA>   \n",
       "4                           <NA>                         <NA>   \n",
       "\n",
       "  time_frame_to_purchase  time_frame_to_purchase_max_entry  \n",
       "0         [3 - 6 months]                                 1  \n",
       "1         [3 - 6 months]                                 1  \n",
       "2         [3 - 6 months]                                 1  \n",
       "3         [3 - 6 months]                                 1  \n",
       "4         [3 - 6 months]                                 1  "
      ]
     },
     "execution_count": 71,
     "metadata": {},
     "output_type": "execute_result"
    }
   ],
   "source": [
    "# Concatenating two dataframes\n",
    "df_write = pd.concat([dataFrame_control_parsed, dataFrame_test_parsed], keys=['control', 'test']).reset_index()\n",
    "df_write = df_write.rename(columns={'level_0': 'group'})\n",
    "df_write = df_write.drop('level_1', axis=1)\n",
    "df_write.head()"
   ]
  },
  {
   "cell_type": "markdown",
   "metadata": {},
   "source": [
    "#### Export processed data as .csv to S3 Bucket"
   ]
  },
  {
   "cell_type": "code",
   "execution_count": null,
   "metadata": {},
   "outputs": [
    {
     "name": "stdout",
     "output_type": "stream",
     "text": [
      "s3://sagemaker-us-east-2-534295958235/rm283/adobe_dq_prcd_clickstream_data_parsed.csv\n"
     ]
    }
   ],
   "source": [
    "# Write dataframe to s3\n",
    "bucket = 'sagemaker-us-east-2-534295958235'\n",
    "prefix = 'rm283'\n",
    "path = f's3://{bucket}/{prefix}/adobe_dq_prcd_clickstream_data_parsed.csv'\n",
    "print(path)\n",
    "#df = dd.from_pandas(df, npartitions=N)\n",
    "df_write.to_csv(path, index=False)"
   ]
  },
  {
   "cell_type": "markdown",
   "metadata": {},
   "source": [
    "#### Import processed data from S3 Bucket as Dataframe"
   ]
  },
  {
   "cell_type": "code",
   "execution_count": 25,
   "metadata": {},
   "outputs": [
    {
     "name": "stderr",
     "output_type": "stream",
     "text": [
      "/opt/conda/lib/python3.8/site-packages/awswrangler/s3/_read_text.py:155: DtypeWarning: Columns (10,11) have mixed types.Specify dtype option on import or set low_memory=False.\n",
      "  ret = _read_text_file(\n"
     ]
    },
    {
     "data": {
      "text/plain": [
       "15322"
      ]
     },
     "execution_count": 25,
     "metadata": {},
     "output_type": "execute_result"
    }
   ],
   "source": [
    "import ast\n",
    "import_data_csv = wr.s3.read_csv(path=path, converters={'time_frame_to_purchase': ast.literal_eval})\n",
    "import_data_csv = import_data_csv.rename(columns={'level_0': 'group'})\n",
    "import_data_csv.mcvisid_visitorid.nunique()"
   ]
  },
  {
   "cell_type": "markdown",
   "metadata": {},
   "source": [
    "#### Split imported data into Test and Control Groups"
   ]
  },
  {
   "cell_type": "code",
   "execution_count": 26,
   "metadata": {},
   "outputs": [
    {
     "data": {
      "text/html": [
       "<div>\n",
       "<style scoped>\n",
       "    .dataframe tbody tr th:only-of-type {\n",
       "        vertical-align: middle;\n",
       "    }\n",
       "\n",
       "    .dataframe tbody tr th {\n",
       "        vertical-align: top;\n",
       "    }\n",
       "\n",
       "    .dataframe thead th {\n",
       "        text-align: right;\n",
       "    }\n",
       "</style>\n",
       "<table border=\"1\" class=\"dataframe\">\n",
       "  <thead>\n",
       "    <tr style=\"text-align: right;\">\n",
       "      <th></th>\n",
       "      <th>index</th>\n",
       "      <th>group</th>\n",
       "      <th>mcvisid_visitorid</th>\n",
       "      <th>post_mvvar3</th>\n",
       "      <th>post_tnt</th>\n",
       "      <th>datekey</th>\n",
       "      <th>hour</th>\n",
       "      <th>visitnumber</th>\n",
       "      <th>visit_page_num</th>\n",
       "      <th>pagename</th>\n",
       "      <th>rowNumber</th>\n",
       "      <th>time_frame_to_purchase_start_3</th>\n",
       "      <th>time_frame_to_purchase_end_3</th>\n",
       "      <th>time_frame_to_purchase</th>\n",
       "      <th>time_frame_to_purchase_max_entry</th>\n",
       "    </tr>\n",
       "  </thead>\n",
       "  <tbody>\n",
       "    <tr>\n",
       "      <th>0</th>\n",
       "      <td>167607</td>\n",
       "      <td>test</td>\n",
       "      <td>03199338292631991111505791365264221962</td>\n",
       "      <td>hasrealestateagent:no--**--purpose:purchase--*...</td>\n",
       "      <td>562585:1:0</td>\n",
       "      <td>2022-07-20</td>\n",
       "      <td>16</td>\n",
       "      <td>1</td>\n",
       "      <td>16</td>\n",
       "      <td>rocket:account:create account</td>\n",
       "      <td>1</td>\n",
       "      <td>NaN</td>\n",
       "      <td>NaN</td>\n",
       "      <td>[3 - 6 months]</td>\n",
       "      <td>1</td>\n",
       "    </tr>\n",
       "    <tr>\n",
       "      <th>109542</th>\n",
       "      <td>277149</td>\n",
       "      <td>test</td>\n",
       "      <td>85645577091390505840298276006001492690</td>\n",
       "      <td>purpose:purchase--**--homedescription:multifam...</td>\n",
       "      <td>562585:1:0</td>\n",
       "      <td>2022-06-23</td>\n",
       "      <td>17</td>\n",
       "      <td>1</td>\n",
       "      <td>16</td>\n",
       "      <td>rocket:account:create account</td>\n",
       "      <td>1</td>\n",
       "      <td>NaN</td>\n",
       "      <td>NaN</td>\n",
       "      <td>[no time frame; i am researching options]</td>\n",
       "      <td>1</td>\n",
       "    </tr>\n",
       "    <tr>\n",
       "      <th>109462</th>\n",
       "      <td>277069</td>\n",
       "      <td>test</td>\n",
       "      <td>80313126566251095050957387026121839731</td>\n",
       "      <td>purpose:purchase--**--homedescription:singlefa...</td>\n",
       "      <td>557633:1:0--**--558981:1:0--**--558117:0:0--**...</td>\n",
       "      <td>2022-07-20</td>\n",
       "      <td>13</td>\n",
       "      <td>4</td>\n",
       "      <td>136</td>\n",
       "      <td>rocket:application:purchase:apply:fund options</td>\n",
       "      <td>1</td>\n",
       "      <td>NaN</td>\n",
       "      <td>NaN</td>\n",
       "      <td>[3 - 6 months]</td>\n",
       "      <td>1</td>\n",
       "    </tr>\n",
       "    <tr>\n",
       "      <th>109414</th>\n",
       "      <td>277021</td>\n",
       "      <td>test</td>\n",
       "      <td>23422778602752106331242984109589795770</td>\n",
       "      <td>hasrealestateagent:no--**--purpose:purchase--*...</td>\n",
       "      <td>562585:1:0</td>\n",
       "      <td>2022-06-22</td>\n",
       "      <td>17</td>\n",
       "      <td>1</td>\n",
       "      <td>14</td>\n",
       "      <td>rocket:lander:wham orbit:military</td>\n",
       "      <td>1</td>\n",
       "      <td>NaN</td>\n",
       "      <td>NaN</td>\n",
       "      <td>[no time frame; i am researching options]</td>\n",
       "      <td>1</td>\n",
       "    </tr>\n",
       "    <tr>\n",
       "      <th>109412</th>\n",
       "      <td>277019</td>\n",
       "      <td>test</td>\n",
       "      <td>23218557796228317312589868197175201338</td>\n",
       "      <td>purpose:purchase--**--homedescription:singlefa...</td>\n",
       "      <td>562585:1:0</td>\n",
       "      <td>2022-06-23</td>\n",
       "      <td>13</td>\n",
       "      <td>1</td>\n",
       "      <td>8</td>\n",
       "      <td>rocket:lander:wham orbit:workingWithAnAgent</td>\n",
       "      <td>1</td>\n",
       "      <td>NaN</td>\n",
       "      <td>NaN</td>\n",
       "      <td>[3 - 6 months]</td>\n",
       "      <td>1</td>\n",
       "    </tr>\n",
       "  </tbody>\n",
       "</table>\n",
       "</div>"
      ],
      "text/plain": [
       "         index group                       mcvisid_visitorid  \\\n",
       "0       167607  test  03199338292631991111505791365264221962   \n",
       "109542  277149  test  85645577091390505840298276006001492690   \n",
       "109462  277069  test  80313126566251095050957387026121839731   \n",
       "109414  277021  test  23422778602752106331242984109589795770   \n",
       "109412  277019  test  23218557796228317312589868197175201338   \n",
       "\n",
       "                                              post_mvvar3  \\\n",
       "0       hasrealestateagent:no--**--purpose:purchase--*...   \n",
       "109542  purpose:purchase--**--homedescription:multifam...   \n",
       "109462  purpose:purchase--**--homedescription:singlefa...   \n",
       "109414  hasrealestateagent:no--**--purpose:purchase--*...   \n",
       "109412  purpose:purchase--**--homedescription:singlefa...   \n",
       "\n",
       "                                                 post_tnt     datekey  hour  \\\n",
       "0                                              562585:1:0  2022-07-20    16   \n",
       "109542                                         562585:1:0  2022-06-23    17   \n",
       "109462  557633:1:0--**--558981:1:0--**--558117:0:0--**...  2022-07-20    13   \n",
       "109414                                         562585:1:0  2022-06-22    17   \n",
       "109412                                         562585:1:0  2022-06-23    13   \n",
       "\n",
       "        visitnumber  visit_page_num  \\\n",
       "0                 1              16   \n",
       "109542            1              16   \n",
       "109462            4             136   \n",
       "109414            1              14   \n",
       "109412            1               8   \n",
       "\n",
       "                                              pagename  rowNumber  \\\n",
       "0                        rocket:account:create account          1   \n",
       "109542                   rocket:account:create account          1   \n",
       "109462  rocket:application:purchase:apply:fund options          1   \n",
       "109414               rocket:lander:wham orbit:military          1   \n",
       "109412     rocket:lander:wham orbit:workingWithAnAgent          1   \n",
       "\n",
       "       time_frame_to_purchase_start_3 time_frame_to_purchase_end_3  \\\n",
       "0                                 NaN                          NaN   \n",
       "109542                            NaN                          NaN   \n",
       "109462                            NaN                          NaN   \n",
       "109414                            NaN                          NaN   \n",
       "109412                            NaN                          NaN   \n",
       "\n",
       "                           time_frame_to_purchase  \\\n",
       "0                                  [3 - 6 months]   \n",
       "109542  [no time frame; i am researching options]   \n",
       "109462                             [3 - 6 months]   \n",
       "109414  [no time frame; i am researching options]   \n",
       "109412                             [3 - 6 months]   \n",
       "\n",
       "        time_frame_to_purchase_max_entry  \n",
       "0                                      1  \n",
       "109542                                 1  \n",
       "109462                                 1  \n",
       "109414                                 1  \n",
       "109412                                 1  "
      ]
     },
     "execution_count": 26,
     "metadata": {},
     "output_type": "execute_result"
    }
   ],
   "source": [
    "dataFrame_control_parsed = import_data_csv[import_data_csv['group'] == 'control'].reset_index()\n",
    "dataFrame_test_parsed = import_data_csv[import_data_csv['group'] == 'test'].reset_index()\n",
    "dataFrame_control_parsed.sort_values('rowNumber', ascending = True, inplace = True)\n",
    "#dataFrame_control_parsed = dataFrame_control[dataFrame_control['pagename'].str.contains('rocket:lander:')]\n",
    "dataFrame_test_parsed.sort_values('rowNumber', ascending = True, inplace = True)\n",
    "#dataFrame_test_parsed = dataFrame_test[dataFrame_test['pagename'].str.contains('rocket:lander:')]\n",
    "dataFrame_test_parsed.head()"
   ]
  },
  {
   "cell_type": "markdown",
   "metadata": {},
   "source": [
    "#### Verify integrity of the imported data"
   ]
  },
  {
   "cell_type": "code",
   "execution_count": 27,
   "metadata": {},
   "outputs": [
    {
     "data": {
      "text/plain": [
       "within 30 days                             128\n",
       "no time frame; i am researching options    128\n",
       "Name: time_frame_to_purchase, dtype: int64"
      ]
     },
     "execution_count": 27,
     "metadata": {},
     "output_type": "execute_result"
    }
   ],
   "source": [
    "dataFrame_test_parsed[dataFrame_test_parsed['mcvisid_visitorid'] == '46699317916047119862692951019342036718']['time_frame_to_purchase'].explode().value_counts()"
   ]
  },
  {
   "cell_type": "code",
   "execution_count": 28,
   "metadata": {},
   "outputs": [
    {
     "name": "stdout",
     "output_type": "stream",
     "text": [
      "243 280\n"
     ]
    }
   ],
   "source": [
    "dataFrame_control_indecisive = dataFrame_control_parsed[dataFrame_control_parsed.groupby(['mcvisid_visitorid'])['time_frame_to_purchase_max_entry'].transform('max') > 1]\n",
    "dataFrame_test_indecisive = dataFrame_test_parsed[dataFrame_test_parsed.groupby(['mcvisid_visitorid'])['time_frame_to_purchase_max_entry'].transform('max') > 1]\n",
    "print(dataFrame_control_indecisive['mcvisid_visitorid'].nunique(), dataFrame_test_indecisive['mcvisid_visitorid'].nunique())"
   ]
  },
  {
   "cell_type": "code",
   "execution_count": 29,
   "metadata": {},
   "outputs": [
    {
     "name": "stdout",
     "output_type": "stream",
     "text": [
      "7656 7143\n"
     ]
    }
   ],
   "source": [
    "dataFrame_control_decisive = dataFrame_control_parsed[dataFrame_control_parsed.groupby(['mcvisid_visitorid'])['time_frame_to_purchase_max_entry'].transform('max') == 1]\n",
    "dataFrame_test_decisive = dataFrame_test_parsed[dataFrame_test_parsed.groupby(['mcvisid_visitorid'])['time_frame_to_purchase_max_entry'].transform('max') == 1]\n",
    "#print(dataFrame_control_decisive.shape, dataFrame_test_decisive.shape)\n",
    "print(dataFrame_control_decisive['mcvisid_visitorid'].nunique(), dataFrame_test_decisive['mcvisid_visitorid'].nunique())"
   ]
  },
  {
   "cell_type": "code",
   "execution_count": 30,
   "metadata": {},
   "outputs": [
    {
     "name": "stdout",
     "output_type": "stream",
     "text": [
      "7899 7423\n"
     ]
    }
   ],
   "source": [
    "print(dataFrame_control_indecisive['mcvisid_visitorid'].nunique() + dataFrame_control_decisive['mcvisid_visitorid'].nunique(), \n",
    "      dataFrame_test_indecisive['mcvisid_visitorid'].nunique() + dataFrame_test_decisive['mcvisid_visitorid'].nunique())"
   ]
  },
  {
   "cell_type": "code",
   "execution_count": 31,
   "metadata": {},
   "outputs": [
    {
     "name": "stdout",
     "output_type": "stream",
     "text": [
      "7899\n",
      "7423\n"
     ]
    }
   ],
   "source": [
    "print(dataFrame_control_parsed.mcvisid_visitorid.nunique())\n",
    "print(dataFrame_test_parsed.mcvisid_visitorid.nunique())"
   ]
  },
  {
   "cell_type": "code",
   "execution_count": 32,
   "metadata": {},
   "outputs": [
    {
     "name": "stdout",
     "output_type": "stream",
     "text": [
      "(7899, 15) (7423, 15)\n"
     ]
    }
   ],
   "source": [
    "dataFrame_control_parsed.drop_duplicates(subset=['mcvisid_visitorid'], inplace = True, keep='first')\n",
    "dataFrame_test_parsed.drop_duplicates(subset=['mcvisid_visitorid'], inplace = True, keep='first')\n",
    "print(dataFrame_control_parsed.shape, dataFrame_test_parsed.shape)"
   ]
  },
  {
   "cell_type": "code",
   "execution_count": 33,
   "metadata": {},
   "outputs": [
    {
     "name": "stdout",
     "output_type": "stream",
     "text": [
      "Total visitors included in experiment: 15322\n"
     ]
    }
   ],
   "source": [
    "print(\"Total visitors included in experiment:\", dataFrame_control_parsed.shape[0] + dataFrame_test_parsed.shape[0])"
   ]
  },
  {
   "cell_type": "code",
   "execution_count": 34,
   "metadata": {},
   "outputs": [
    {
     "data": {
      "text/plain": [
       "within 30 days                             1\n",
       "no time frame; i am researching options    1\n",
       "Name: time_frame_to_purchase, dtype: int64"
      ]
     },
     "execution_count": 34,
     "metadata": {},
     "output_type": "execute_result"
    }
   ],
   "source": [
    "dataFrame_test_parsed[dataFrame_test_parsed['mcvisid_visitorid'] == '46699317916047119862692951019342036718'].time_frame_to_purchase.explode().value_counts()"
   ]
  },
  {
   "cell_type": "code",
   "execution_count": 35,
   "metadata": {},
   "outputs": [
    {
     "data": {
      "text/html": [
       "<div>\n",
       "<style scoped>\n",
       "    .dataframe tbody tr th:only-of-type {\n",
       "        vertical-align: middle;\n",
       "    }\n",
       "\n",
       "    .dataframe tbody tr th {\n",
       "        vertical-align: top;\n",
       "    }\n",
       "\n",
       "    .dataframe thead th {\n",
       "        text-align: right;\n",
       "    }\n",
       "</style>\n",
       "<table border=\"1\" class=\"dataframe\">\n",
       "  <thead>\n",
       "    <tr style=\"text-align: right;\">\n",
       "      <th></th>\n",
       "      <th>index</th>\n",
       "      <th>group</th>\n",
       "      <th>mcvisid_visitorid</th>\n",
       "      <th>post_mvvar3</th>\n",
       "      <th>post_tnt</th>\n",
       "      <th>datekey</th>\n",
       "      <th>hour</th>\n",
       "      <th>visitnumber</th>\n",
       "      <th>visit_page_num</th>\n",
       "      <th>pagename</th>\n",
       "      <th>rowNumber</th>\n",
       "      <th>time_frame_to_purchase_start_3</th>\n",
       "      <th>time_frame_to_purchase_end_3</th>\n",
       "      <th>time_frame_to_purchase</th>\n",
       "      <th>time_frame_to_purchase_max_entry</th>\n",
       "    </tr>\n",
       "  </thead>\n",
       "  <tbody>\n",
       "    <tr>\n",
       "      <th>82947</th>\n",
       "      <td>250554</td>\n",
       "      <td>test</td>\n",
       "      <td>46699317916047119862692951019342036718</td>\n",
       "      <td>purpose:purchase--**--homedescription:singlefa...</td>\n",
       "      <td>562585:1:0--**--562432:0:0</td>\n",
       "      <td>2022-07-01</td>\n",
       "      <td>18</td>\n",
       "      <td>2</td>\n",
       "      <td>56</td>\n",
       "      <td>rocket:lander:wham orbit:addressAndZip</td>\n",
       "      <td>1</td>\n",
       "      <td>NaN</td>\n",
       "      <td>NaN</td>\n",
       "      <td>[within 30 days, no time frame; i am researchi...</td>\n",
       "      <td>2</td>\n",
       "    </tr>\n",
       "  </tbody>\n",
       "</table>\n",
       "</div>"
      ],
      "text/plain": [
       "        index group                       mcvisid_visitorid  \\\n",
       "82947  250554  test  46699317916047119862692951019342036718   \n",
       "\n",
       "                                             post_mvvar3  \\\n",
       "82947  purpose:purchase--**--homedescription:singlefa...   \n",
       "\n",
       "                         post_tnt     datekey  hour  visitnumber  \\\n",
       "82947  562585:1:0--**--562432:0:0  2022-07-01    18            2   \n",
       "\n",
       "       visit_page_num                                pagename  rowNumber  \\\n",
       "82947              56  rocket:lander:wham orbit:addressAndZip          1   \n",
       "\n",
       "      time_frame_to_purchase_start_3 time_frame_to_purchase_end_3  \\\n",
       "82947                            NaN                          NaN   \n",
       "\n",
       "                                  time_frame_to_purchase  \\\n",
       "82947  [within 30 days, no time frame; i am researchi...   \n",
       "\n",
       "       time_frame_to_purchase_max_entry  \n",
       "82947                                 2  "
      ]
     },
     "execution_count": 35,
     "metadata": {},
     "output_type": "execute_result"
    }
   ],
   "source": [
    "dataFrame_test_parsed[dataFrame_test_parsed['mcvisid_visitorid'] == '46699317916047119862692951019342036718']"
   ]
  },
  {
   "cell_type": "code",
   "execution_count": 36,
   "metadata": {},
   "outputs": [
    {
     "name": "stdout",
     "output_type": "stream",
     "text": [
      "hasrealestateagent:no--**--purpose:purchase--**--homedescription:singlefamily--**--propertyuse:primaryresidence--**--timeframetopurchase:no time frame; i am researching options--**--firsttimebuyer:yes--**--military:no--**--timeframetobuy:looking at homes and listings--**--timeframetobuylooking:buying in 6+ months--**--livingsituationtype:renter--**--monthlyrent:$765--**--occupancystart-month:2--**--occupancystart-year:2016--**--maritalstatus:single--**--militaryservice:false--**--purchaseplans:false--**--homeuse:primary--**--mixeduseproperty:false--**--minimumhomeprice:$300,000--**--hasrealestateagent:false--**--downpaymentassistanceamount:$3,000--**--assetallocation:$4,000--**--socialsecurityannualincome0:$9,972--**--residencefor:true--**--ownership:false--**--downpayment:false--**--othermortgage:false--**--newcredit:false--**--legalpayments:false--**--cosign:false--**--judgments:false--**--payment:false--**--lawsuit:false--**--bankruptcy:false--**--citizenship:true\n",
      "23537872391120663534502772213892507977\n"
     ]
    }
   ],
   "source": [
    "print(dataFrame_test_parsed.iloc[500].post_mvvar3)\n",
    "print(dataFrame_test_parsed.iloc[500].mcvisid_visitorid)"
   ]
  },
  {
   "cell_type": "markdown",
   "metadata": {},
   "source": [
    "#### Determine distribution of visitors by time frame"
   ]
  },
  {
   "cell_type": "code",
   "execution_count": 53,
   "metadata": {},
   "outputs": [
    {
     "data": {
      "text/plain": [
       "no time frame; i am researching options    4939\n",
       "6+ months                                  1317\n",
       "3 - 6 months                                887\n",
       "Name: time_frame_to_purchase, dtype: int64"
      ]
     },
     "execution_count": 53,
     "metadata": {},
     "output_type": "execute_result"
    }
   ],
   "source": [
    "dataFrame_test_decisive.drop_duplicates(subset=['mcvisid_visitorid'], keep='first').time_frame_to_purchase.explode().value_counts()"
   ]
  },
  {
   "cell_type": "code",
   "execution_count": 59,
   "metadata": {},
   "outputs": [
    {
     "data": {
      "text/plain": [
       "no time frame; i am researching options     209\n",
       "6+ months                                   115\n",
       "3 - 6 months                                 98\n",
       "2 - 3 months                                 85\n",
       "within 30 days                               43\n",
       "asap: found a house/offer pending            20\n",
       "immediately: signed a purchase agreement      7\n",
       "Name: time_frame_to_purchase, dtype: int64"
      ]
     },
     "execution_count": 59,
     "metadata": {},
     "output_type": "execute_result"
    }
   ],
   "source": [
    "dataFrame_test_indecisive.drop_duplicates(subset=['mcvisid_visitorid'], keep='first').time_frame_to_purchase.explode().value_counts()"
   ]
  },
  {
   "cell_type": "code",
   "execution_count": 60,
   "metadata": {},
   "outputs": [
    {
     "data": {
      "text/plain": [
       "no time frame; i am researching options    5350\n",
       "6+ months                                  1376\n",
       "3 - 6 months                                930\n",
       "Name: time_frame_to_purchase, dtype: int64"
      ]
     },
     "execution_count": 60,
     "metadata": {},
     "output_type": "execute_result"
    }
   ],
   "source": [
    "dataFrame_control_decisive.drop_duplicates(subset=['mcvisid_visitorid'], keep='first').time_frame_to_purchase.explode().value_counts()"
   ]
  },
  {
   "cell_type": "code",
   "execution_count": 61,
   "metadata": {},
   "outputs": [
    {
     "data": {
      "text/plain": [
       "no time frame; i am researching options     199\n",
       "6+ months                                    91\n",
       "3 - 6 months                                 66\n",
       "2 - 3 months                                 63\n",
       "within 30 days                               44\n",
       "asap: found a house/offer pending            26\n",
       "immediately: signed a purchase agreement     13\n",
       "Name: time_frame_to_purchase, dtype: int64"
      ]
     },
     "execution_count": 61,
     "metadata": {},
     "output_type": "execute_result"
    }
   ],
   "source": [
    "dataFrame_control_indecisive.drop_duplicates(subset=['mcvisid_visitorid'], keep='first').time_frame_to_purchase.explode().value_counts()"
   ]
  },
  {
   "cell_type": "code",
   "execution_count": 62,
   "metadata": {},
   "outputs": [
    {
     "data": {
      "text/plain": [
       "'timeframetopurchase:3 - 6 months--**--sharemydata:on--**--timeframetobuy:looking at homes and listings--**--timeframetobuylooking:buying in 3 to 6 months--**--livingsituationtype:renter--**--monthlyrent:$236--**--occupancystart-month:7--**--occupancystart-year:2017--**--maritalstatus:single--**--militaryservice:false--**--purchaseplans:true--**--kindofhome:singlefamily--**--homeprice:$400,000--**--homeuse:investment--**--hasrealestateagent:false--**--purpose:purchase--**--homedescription:singlefamily--**--propertyuse:investmentproperty--**--timeframetopurchase:6+ months--**--firsttimebuyer:yes--**--military:no--**--hasrealestateagent:no--**--purchaseprice:400,000--**--downpayment:15,000--**--creditrating:580-619--**--creditratingdescription:below average--**--employmentstatus:retired--**--bankruptcy:no'"
      ]
     },
     "execution_count": 62,
     "metadata": {},
     "output_type": "execute_result"
    }
   ],
   "source": [
    "dataFrame_test_parsed.iloc[138].post_mvvar3"
   ]
  },
  {
   "cell_type": "code",
   "execution_count": 63,
   "metadata": {},
   "outputs": [
    {
     "data": {
      "text/plain": [
       "no time frame; i am researching options     5148\n",
       "6+ months                                   1432\n",
       "3 - 6 months                                 985\n",
       "2 - 3 months                                  85\n",
       "within 30 days                                43\n",
       "asap: found a house/offer pending             20\n",
       "immediately: signed a purchase agreement       7\n",
       "Name: time_frame_to_purchase, dtype: int64"
      ]
     },
     "execution_count": 63,
     "metadata": {},
     "output_type": "execute_result"
    }
   ],
   "source": [
    "dataFrame_test_parsed['time_frame_to_purchase'].explode().value_counts()"
   ]
  },
  {
   "cell_type": "code",
   "execution_count": 65,
   "metadata": {},
   "outputs": [
    {
     "data": {
      "text/plain": [
       "0"
      ]
     },
     "execution_count": 65,
     "metadata": {},
     "output_type": "execute_result"
    }
   ],
   "source": [
    "dataFrame_test_parsed['time_frame_to_purchase'].isnull().values.any().sum()"
   ]
  },
  {
   "cell_type": "code",
   "execution_count": 77,
   "metadata": {},
   "outputs": [
    {
     "data": {
      "text/html": [
       "<div>\n",
       "<style scoped>\n",
       "    .dataframe tbody tr th:only-of-type {\n",
       "        vertical-align: middle;\n",
       "    }\n",
       "\n",
       "    .dataframe tbody tr th {\n",
       "        vertical-align: top;\n",
       "    }\n",
       "\n",
       "    .dataframe thead th {\n",
       "        text-align: right;\n",
       "    }\n",
       "</style>\n",
       "<table border=\"1\" class=\"dataframe\">\n",
       "  <thead>\n",
       "    <tr style=\"text-align: right;\">\n",
       "      <th></th>\n",
       "      <th>index</th>\n",
       "      <th>group</th>\n",
       "      <th>mcvisid_visitorid</th>\n",
       "      <th>post_mvvar3</th>\n",
       "      <th>post_tnt</th>\n",
       "      <th>datekey</th>\n",
       "      <th>hour</th>\n",
       "      <th>visitnumber</th>\n",
       "      <th>visit_page_num</th>\n",
       "      <th>pagename</th>\n",
       "      <th>rowNumber</th>\n",
       "      <th>time_frame_to_purchase_start_3</th>\n",
       "      <th>time_frame_to_purchase_end_3</th>\n",
       "      <th>time_frame_to_purchase</th>\n",
       "      <th>time_frame_to_purchase_max_entry</th>\n",
       "    </tr>\n",
       "  </thead>\n",
       "  <tbody>\n",
       "    <tr>\n",
       "      <th>0</th>\n",
       "      <td>167607</td>\n",
       "      <td>test</td>\n",
       "      <td>03199338292631991111505791365264221962</td>\n",
       "      <td>hasrealestateagent:no--**--purpose:purchase--*...</td>\n",
       "      <td>562585:1:0</td>\n",
       "      <td>2022-07-20</td>\n",
       "      <td>16</td>\n",
       "      <td>1</td>\n",
       "      <td>16</td>\n",
       "      <td>rocket:account:create account</td>\n",
       "      <td>1</td>\n",
       "      <td>NaN</td>\n",
       "      <td>NaN</td>\n",
       "      <td>[3 - 6 months]</td>\n",
       "      <td>1</td>\n",
       "    </tr>\n",
       "    <tr>\n",
       "      <th>109462</th>\n",
       "      <td>277069</td>\n",
       "      <td>test</td>\n",
       "      <td>80313126566251095050957387026121839731</td>\n",
       "      <td>purpose:purchase--**--homedescription:singlefa...</td>\n",
       "      <td>557633:1:0--**--558981:1:0--**--558117:0:0--**...</td>\n",
       "      <td>2022-07-20</td>\n",
       "      <td>13</td>\n",
       "      <td>4</td>\n",
       "      <td>136</td>\n",
       "      <td>rocket:application:purchase:apply:fund options</td>\n",
       "      <td>1</td>\n",
       "      <td>NaN</td>\n",
       "      <td>NaN</td>\n",
       "      <td>[3 - 6 months]</td>\n",
       "      <td>1</td>\n",
       "    </tr>\n",
       "    <tr>\n",
       "      <th>109412</th>\n",
       "      <td>277019</td>\n",
       "      <td>test</td>\n",
       "      <td>23218557796228317312589868197175201338</td>\n",
       "      <td>purpose:purchase--**--homedescription:singlefa...</td>\n",
       "      <td>562585:1:0</td>\n",
       "      <td>2022-06-23</td>\n",
       "      <td>13</td>\n",
       "      <td>1</td>\n",
       "      <td>8</td>\n",
       "      <td>rocket:lander:wham orbit:workingWithAnAgent</td>\n",
       "      <td>1</td>\n",
       "      <td>NaN</td>\n",
       "      <td>NaN</td>\n",
       "      <td>[3 - 6 months]</td>\n",
       "      <td>1</td>\n",
       "    </tr>\n",
       "    <tr>\n",
       "      <th>109387</th>\n",
       "      <td>276994</td>\n",
       "      <td>test</td>\n",
       "      <td>20891911559505541144107500658424309592</td>\n",
       "      <td>purpose:purchase--**--homedescription:singlefa...</td>\n",
       "      <td>562585:1:0--**--562432:1:0</td>\n",
       "      <td>2022-06-23</td>\n",
       "      <td>4</td>\n",
       "      <td>2</td>\n",
       "      <td>32</td>\n",
       "      <td>rocket:application:purchase:current home:previ...</td>\n",
       "      <td>1</td>\n",
       "      <td>NaN</td>\n",
       "      <td>NaN</td>\n",
       "      <td>[3 - 6 months]</td>\n",
       "      <td>1</td>\n",
       "    </tr>\n",
       "    <tr>\n",
       "      <th>109384</th>\n",
       "      <td>276991</td>\n",
       "      <td>test</td>\n",
       "      <td>20570986169964320883645582462656767652</td>\n",
       "      <td>purpose:purchase--**--homedescription:singlefa...</td>\n",
       "      <td>562585:1:0</td>\n",
       "      <td>2022-06-26</td>\n",
       "      <td>11</td>\n",
       "      <td>1</td>\n",
       "      <td>18</td>\n",
       "      <td>rocket:account:create account</td>\n",
       "      <td>1</td>\n",
       "      <td>NaN</td>\n",
       "      <td>NaN</td>\n",
       "      <td>[3 - 6 months]</td>\n",
       "      <td>1</td>\n",
       "    </tr>\n",
       "    <tr>\n",
       "      <th>...</th>\n",
       "      <td>...</td>\n",
       "      <td>...</td>\n",
       "      <td>...</td>\n",
       "      <td>...</td>\n",
       "      <td>...</td>\n",
       "      <td>...</td>\n",
       "      <td>...</td>\n",
       "      <td>...</td>\n",
       "      <td>...</td>\n",
       "      <td>...</td>\n",
       "      <td>...</td>\n",
       "      <td>...</td>\n",
       "      <td>...</td>\n",
       "      <td>...</td>\n",
       "      <td>...</td>\n",
       "    </tr>\n",
       "    <tr>\n",
       "      <th>105549</th>\n",
       "      <td>273156</td>\n",
       "      <td>test</td>\n",
       "      <td>30506138026453893730640745371215107693</td>\n",
       "      <td>purpose:purchase--**--homedescription:singlefa...</td>\n",
       "      <td>562032:1:0--**--562585:1:0</td>\n",
       "      <td>2022-07-10</td>\n",
       "      <td>15</td>\n",
       "      <td>2</td>\n",
       "      <td>11</td>\n",
       "      <td>rocket:dashboard:home</td>\n",
       "      <td>385</td>\n",
       "      <td>NaN</td>\n",
       "      <td>NaN</td>\n",
       "      <td>[3 - 6 months]</td>\n",
       "      <td>1</td>\n",
       "    </tr>\n",
       "    <tr>\n",
       "      <th>105550</th>\n",
       "      <td>273157</td>\n",
       "      <td>test</td>\n",
       "      <td>30506138026453893730640745371215107693</td>\n",
       "      <td>purpose:purchase--**--homedescription:singlefa...</td>\n",
       "      <td>562032:1:0--**--562585:1:0</td>\n",
       "      <td>2022-07-10</td>\n",
       "      <td>15</td>\n",
       "      <td>2</td>\n",
       "      <td>10</td>\n",
       "      <td>rocket:account:create account</td>\n",
       "      <td>386</td>\n",
       "      <td>NaN</td>\n",
       "      <td>NaN</td>\n",
       "      <td>[3 - 6 months]</td>\n",
       "      <td>1</td>\n",
       "    </tr>\n",
       "    <tr>\n",
       "      <th>105551</th>\n",
       "      <td>273158</td>\n",
       "      <td>test</td>\n",
       "      <td>30506138026453893730640745371215107693</td>\n",
       "      <td>purpose:purchase--**--homedescription:singlefa...</td>\n",
       "      <td>562032:1:0--**--562585:1:0</td>\n",
       "      <td>2022-07-10</td>\n",
       "      <td>15</td>\n",
       "      <td>2</td>\n",
       "      <td>9</td>\n",
       "      <td>rocket:account:create account</td>\n",
       "      <td>387</td>\n",
       "      <td>NaN</td>\n",
       "      <td>NaN</td>\n",
       "      <td>[3 - 6 months]</td>\n",
       "      <td>1</td>\n",
       "    </tr>\n",
       "    <tr>\n",
       "      <th>105552</th>\n",
       "      <td>273159</td>\n",
       "      <td>test</td>\n",
       "      <td>30506138026453893730640745371215107693</td>\n",
       "      <td>purpose:purchase--**--homedescription:singlefa...</td>\n",
       "      <td>562032:1:0--**--562585:1:0</td>\n",
       "      <td>2022-07-10</td>\n",
       "      <td>15</td>\n",
       "      <td>2</td>\n",
       "      <td>8</td>\n",
       "      <td>rocket:account:create account</td>\n",
       "      <td>388</td>\n",
       "      <td>NaN</td>\n",
       "      <td>NaN</td>\n",
       "      <td>[3 - 6 months]</td>\n",
       "      <td>1</td>\n",
       "    </tr>\n",
       "    <tr>\n",
       "      <th>105553</th>\n",
       "      <td>273160</td>\n",
       "      <td>test</td>\n",
       "      <td>30506138026453893730640745371215107693</td>\n",
       "      <td>purpose:purchase--**--homedescription:singlefa...</td>\n",
       "      <td>562032:1:0--**--562585:1:0</td>\n",
       "      <td>2022-07-10</td>\n",
       "      <td>15</td>\n",
       "      <td>2</td>\n",
       "      <td>7</td>\n",
       "      <td>rocket:lander:wham orbit:workingWithAnAgent</td>\n",
       "      <td>389</td>\n",
       "      <td>NaN</td>\n",
       "      <td>NaN</td>\n",
       "      <td>[3 - 6 months]</td>\n",
       "      <td>1</td>\n",
       "    </tr>\n",
       "  </tbody>\n",
       "</table>\n",
       "<p>21949 rows × 15 columns</p>\n",
       "</div>"
      ],
      "text/plain": [
       "         index group                       mcvisid_visitorid  \\\n",
       "0       167607  test  03199338292631991111505791365264221962   \n",
       "109462  277069  test  80313126566251095050957387026121839731   \n",
       "109412  277019  test  23218557796228317312589868197175201338   \n",
       "109387  276994  test  20891911559505541144107500658424309592   \n",
       "109384  276991  test  20570986169964320883645582462656767652   \n",
       "...        ...   ...                                     ...   \n",
       "105549  273156  test  30506138026453893730640745371215107693   \n",
       "105550  273157  test  30506138026453893730640745371215107693   \n",
       "105551  273158  test  30506138026453893730640745371215107693   \n",
       "105552  273159  test  30506138026453893730640745371215107693   \n",
       "105553  273160  test  30506138026453893730640745371215107693   \n",
       "\n",
       "                                              post_mvvar3  \\\n",
       "0       hasrealestateagent:no--**--purpose:purchase--*...   \n",
       "109462  purpose:purchase--**--homedescription:singlefa...   \n",
       "109412  purpose:purchase--**--homedescription:singlefa...   \n",
       "109387  purpose:purchase--**--homedescription:singlefa...   \n",
       "109384  purpose:purchase--**--homedescription:singlefa...   \n",
       "...                                                   ...   \n",
       "105549  purpose:purchase--**--homedescription:singlefa...   \n",
       "105550  purpose:purchase--**--homedescription:singlefa...   \n",
       "105551  purpose:purchase--**--homedescription:singlefa...   \n",
       "105552  purpose:purchase--**--homedescription:singlefa...   \n",
       "105553  purpose:purchase--**--homedescription:singlefa...   \n",
       "\n",
       "                                                 post_tnt     datekey  hour  \\\n",
       "0                                              562585:1:0  2022-07-20    16   \n",
       "109462  557633:1:0--**--558981:1:0--**--558117:0:0--**...  2022-07-20    13   \n",
       "109412                                         562585:1:0  2022-06-23    13   \n",
       "109387                         562585:1:0--**--562432:1:0  2022-06-23     4   \n",
       "109384                                         562585:1:0  2022-06-26    11   \n",
       "...                                                   ...         ...   ...   \n",
       "105549                         562032:1:0--**--562585:1:0  2022-07-10    15   \n",
       "105550                         562032:1:0--**--562585:1:0  2022-07-10    15   \n",
       "105551                         562032:1:0--**--562585:1:0  2022-07-10    15   \n",
       "105552                         562032:1:0--**--562585:1:0  2022-07-10    15   \n",
       "105553                         562032:1:0--**--562585:1:0  2022-07-10    15   \n",
       "\n",
       "        visitnumber  visit_page_num  \\\n",
       "0                 1              16   \n",
       "109462            4             136   \n",
       "109412            1               8   \n",
       "109387            2              32   \n",
       "109384            1              18   \n",
       "...             ...             ...   \n",
       "105549            2              11   \n",
       "105550            2              10   \n",
       "105551            2               9   \n",
       "105552            2               8   \n",
       "105553            2               7   \n",
       "\n",
       "                                                 pagename  rowNumber  \\\n",
       "0                           rocket:account:create account          1   \n",
       "109462     rocket:application:purchase:apply:fund options          1   \n",
       "109412        rocket:lander:wham orbit:workingWithAnAgent          1   \n",
       "109387  rocket:application:purchase:current home:previ...          1   \n",
       "109384                      rocket:account:create account          1   \n",
       "...                                                   ...        ...   \n",
       "105549                              rocket:dashboard:home        385   \n",
       "105550                      rocket:account:create account        386   \n",
       "105551                      rocket:account:create account        387   \n",
       "105552                      rocket:account:create account        388   \n",
       "105553        rocket:lander:wham orbit:workingWithAnAgent        389   \n",
       "\n",
       "       time_frame_to_purchase_start_3 time_frame_to_purchase_end_3  \\\n",
       "0                                 NaN                          NaN   \n",
       "109462                            NaN                          NaN   \n",
       "109412                            NaN                          NaN   \n",
       "109387                            NaN                          NaN   \n",
       "109384                            NaN                          NaN   \n",
       "...                               ...                          ...   \n",
       "105549                            NaN                          NaN   \n",
       "105550                            NaN                          NaN   \n",
       "105551                            NaN                          NaN   \n",
       "105552                            NaN                          NaN   \n",
       "105553                            NaN                          NaN   \n",
       "\n",
       "       time_frame_to_purchase  time_frame_to_purchase_max_entry  \n",
       "0              [3 - 6 months]                                 1  \n",
       "109462         [3 - 6 months]                                 1  \n",
       "109412         [3 - 6 months]                                 1  \n",
       "109387         [3 - 6 months]                                 1  \n",
       "109384         [3 - 6 months]                                 1  \n",
       "...                       ...                               ...  \n",
       "105549         [3 - 6 months]                                 1  \n",
       "105550         [3 - 6 months]                                 1  \n",
       "105551         [3 - 6 months]                                 1  \n",
       "105552         [3 - 6 months]                                 1  \n",
       "105553         [3 - 6 months]                                 1  \n",
       "\n",
       "[21949 rows x 15 columns]"
      ]
     },
     "execution_count": 77,
     "metadata": {},
     "output_type": "execute_result"
    }
   ],
   "source": [
    "dataFrame_test_decisive[dataFrame_test_decisive.explode('time_frame_to_purchase')['time_frame_to_purchase'] == '3 - 6 months']"
   ]
  },
  {
   "cell_type": "code",
   "execution_count": 79,
   "metadata": {},
   "outputs": [
    {
     "data": {
      "text/html": [
       "<div>\n",
       "<style scoped>\n",
       "    .dataframe tbody tr th:only-of-type {\n",
       "        vertical-align: middle;\n",
       "    }\n",
       "\n",
       "    .dataframe tbody tr th {\n",
       "        vertical-align: top;\n",
       "    }\n",
       "\n",
       "    .dataframe thead th {\n",
       "        text-align: right;\n",
       "    }\n",
       "</style>\n",
       "<table border=\"1\" class=\"dataframe\">\n",
       "  <thead>\n",
       "    <tr style=\"text-align: right;\">\n",
       "      <th></th>\n",
       "      <th>index</th>\n",
       "      <th>group</th>\n",
       "      <th>mcvisid_visitorid</th>\n",
       "      <th>post_mvvar3</th>\n",
       "      <th>post_tnt</th>\n",
       "      <th>datekey</th>\n",
       "      <th>hour</th>\n",
       "      <th>visitnumber</th>\n",
       "      <th>visit_page_num</th>\n",
       "      <th>pagename</th>\n",
       "      <th>rowNumber</th>\n",
       "      <th>time_frame_to_purchase_start_3</th>\n",
       "      <th>time_frame_to_purchase_end_3</th>\n",
       "      <th>time_frame_to_purchase</th>\n",
       "      <th>time_frame_to_purchase_max_entry</th>\n",
       "    </tr>\n",
       "  </thead>\n",
       "  <tbody>\n",
       "    <tr>\n",
       "      <th>175885</th>\n",
       "      <td>343492</td>\n",
       "      <td>test</td>\n",
       "      <td>11494568057096150222166659886862572167</td>\n",
       "      <td>purpose:purchase--**--homedescription:singlefa...</td>\n",
       "      <td>562585:1:0--**--562432:1:0</td>\n",
       "      <td>2022-07-15</td>\n",
       "      <td>3</td>\n",
       "      <td>2</td>\n",
       "      <td>42</td>\n",
       "      <td>rocket:opt out</td>\n",
       "      <td>1</td>\n",
       "      <td>NaN</td>\n",
       "      <td>NaN</td>\n",
       "      <td>[2 - 3 months, asap: found a house/offer pendi...</td>\n",
       "      <td>3</td>\n",
       "    </tr>\n",
       "    <tr>\n",
       "      <th>175886</th>\n",
       "      <td>343493</td>\n",
       "      <td>test</td>\n",
       "      <td>11494568057096150222166659886862572167</td>\n",
       "      <td>purpose:purchase--**--homedescription:singlefa...</td>\n",
       "      <td>562585:1:0--**--562432:1:0</td>\n",
       "      <td>2022-07-15</td>\n",
       "      <td>3</td>\n",
       "      <td>2</td>\n",
       "      <td>41</td>\n",
       "      <td>rocket:opt out</td>\n",
       "      <td>2</td>\n",
       "      <td>NaN</td>\n",
       "      <td>NaN</td>\n",
       "      <td>[2 - 3 months, asap: found a house/offer pendi...</td>\n",
       "      <td>3</td>\n",
       "    </tr>\n",
       "    <tr>\n",
       "      <th>175887</th>\n",
       "      <td>343494</td>\n",
       "      <td>test</td>\n",
       "      <td>11494568057096150222166659886862572167</td>\n",
       "      <td>purpose:purchase--**--homedescription:singlefa...</td>\n",
       "      <td>562585:1:0--**--562432:1:0</td>\n",
       "      <td>2022-07-15</td>\n",
       "      <td>3</td>\n",
       "      <td>2</td>\n",
       "      <td>40</td>\n",
       "      <td>rocket:opt out</td>\n",
       "      <td>3</td>\n",
       "      <td>NaN</td>\n",
       "      <td>NaN</td>\n",
       "      <td>[2 - 3 months, asap: found a house/offer pendi...</td>\n",
       "      <td>3</td>\n",
       "    </tr>\n",
       "    <tr>\n",
       "      <th>175888</th>\n",
       "      <td>343495</td>\n",
       "      <td>test</td>\n",
       "      <td>11494568057096150222166659886862572167</td>\n",
       "      <td>purpose:purchase--**--homedescription:singlefa...</td>\n",
       "      <td>562585:1:0--**--562432:1:0</td>\n",
       "      <td>2022-07-15</td>\n",
       "      <td>3</td>\n",
       "      <td>2</td>\n",
       "      <td>39</td>\n",
       "      <td>rocket:thank you:lander:thank you</td>\n",
       "      <td>4</td>\n",
       "      <td>NaN</td>\n",
       "      <td>NaN</td>\n",
       "      <td>[2 - 3 months, asap: found a house/offer pendi...</td>\n",
       "      <td>3</td>\n",
       "    </tr>\n",
       "    <tr>\n",
       "      <th>175889</th>\n",
       "      <td>343496</td>\n",
       "      <td>test</td>\n",
       "      <td>11494568057096150222166659886862572167</td>\n",
       "      <td>purpose:purchase--**--homedescription:singlefa...</td>\n",
       "      <td>562585:1:0--**--562432:1:0</td>\n",
       "      <td>2022-07-15</td>\n",
       "      <td>3</td>\n",
       "      <td>2</td>\n",
       "      <td>38</td>\n",
       "      <td>rocket:thank you:lander:thank you</td>\n",
       "      <td>5</td>\n",
       "      <td>NaN</td>\n",
       "      <td>NaN</td>\n",
       "      <td>[2 - 3 months, asap: found a house/offer pendi...</td>\n",
       "      <td>3</td>\n",
       "    </tr>\n",
       "    <tr>\n",
       "      <th>...</th>\n",
       "      <td>...</td>\n",
       "      <td>...</td>\n",
       "      <td>...</td>\n",
       "      <td>...</td>\n",
       "      <td>...</td>\n",
       "      <td>...</td>\n",
       "      <td>...</td>\n",
       "      <td>...</td>\n",
       "      <td>...</td>\n",
       "      <td>...</td>\n",
       "      <td>...</td>\n",
       "      <td>...</td>\n",
       "      <td>...</td>\n",
       "      <td>...</td>\n",
       "      <td>...</td>\n",
       "    </tr>\n",
       "    <tr>\n",
       "      <th>175950</th>\n",
       "      <td>343557</td>\n",
       "      <td>test</td>\n",
       "      <td>11494568057096150222166659886862572167</td>\n",
       "      <td>timeframetopurchase:asap: found a house/offer ...</td>\n",
       "      <td>562585:1:0</td>\n",
       "      <td>2022-06-22</td>\n",
       "      <td>18</td>\n",
       "      <td>1</td>\n",
       "      <td>27</td>\n",
       "      <td>rocket:account:create account</td>\n",
       "      <td>72</td>\n",
       "      <td>NaN</td>\n",
       "      <td>NaN</td>\n",
       "      <td>[2 - 3 months, asap: found a house/offer pendi...</td>\n",
       "      <td>3</td>\n",
       "    </tr>\n",
       "    <tr>\n",
       "      <th>175951</th>\n",
       "      <td>343558</td>\n",
       "      <td>test</td>\n",
       "      <td>11494568057096150222166659886862572167</td>\n",
       "      <td>timeframetopurchase:asap: found a house/offer ...</td>\n",
       "      <td>562585:1:0</td>\n",
       "      <td>2022-06-22</td>\n",
       "      <td>18</td>\n",
       "      <td>1</td>\n",
       "      <td>26</td>\n",
       "      <td>rocket:account:create account</td>\n",
       "      <td>73</td>\n",
       "      <td>NaN</td>\n",
       "      <td>NaN</td>\n",
       "      <td>[2 - 3 months, asap: found a house/offer pendi...</td>\n",
       "      <td>3</td>\n",
       "    </tr>\n",
       "    <tr>\n",
       "      <th>175952</th>\n",
       "      <td>343559</td>\n",
       "      <td>test</td>\n",
       "      <td>11494568057096150222166659886862572167</td>\n",
       "      <td>timeframetopurchase:asap: found a house/offer ...</td>\n",
       "      <td>562585:1:0</td>\n",
       "      <td>2022-06-22</td>\n",
       "      <td>18</td>\n",
       "      <td>1</td>\n",
       "      <td>24</td>\n",
       "      <td>rocket:lander:wham orbit:military</td>\n",
       "      <td>74</td>\n",
       "      <td>NaN</td>\n",
       "      <td>NaN</td>\n",
       "      <td>[2 - 3 months, asap: found a house/offer pendi...</td>\n",
       "      <td>3</td>\n",
       "    </tr>\n",
       "    <tr>\n",
       "      <th>175953</th>\n",
       "      <td>343560</td>\n",
       "      <td>test</td>\n",
       "      <td>11494568057096150222166659886862572167</td>\n",
       "      <td>timeframetopurchase:asap: found a house/offer ...</td>\n",
       "      <td>562585:1:0</td>\n",
       "      <td>2022-06-22</td>\n",
       "      <td>18</td>\n",
       "      <td>1</td>\n",
       "      <td>23</td>\n",
       "      <td>rocket:lander:wham orbit:firstTimeHomeBuyer</td>\n",
       "      <td>75</td>\n",
       "      <td>NaN</td>\n",
       "      <td>NaN</td>\n",
       "      <td>[2 - 3 months, asap: found a house/offer pendi...</td>\n",
       "      <td>3</td>\n",
       "    </tr>\n",
       "    <tr>\n",
       "      <th>175954</th>\n",
       "      <td>343561</td>\n",
       "      <td>test</td>\n",
       "      <td>11494568057096150222166659886862572167</td>\n",
       "      <td>timeframetopurchase:asap: found a house/offer ...</td>\n",
       "      <td>562585:1:0</td>\n",
       "      <td>2022-06-22</td>\n",
       "      <td>18</td>\n",
       "      <td>1</td>\n",
       "      <td>22</td>\n",
       "      <td>rocket:lander:wham orbit:workingWithAnAgent</td>\n",
       "      <td>76</td>\n",
       "      <td>NaN</td>\n",
       "      <td>NaN</td>\n",
       "      <td>[2 - 3 months, asap: found a house/offer pendi...</td>\n",
       "      <td>3</td>\n",
       "    </tr>\n",
       "  </tbody>\n",
       "</table>\n",
       "<p>70 rows × 15 columns</p>\n",
       "</div>"
      ],
      "text/plain": [
       "         index group                       mcvisid_visitorid  \\\n",
       "175885  343492  test  11494568057096150222166659886862572167   \n",
       "175886  343493  test  11494568057096150222166659886862572167   \n",
       "175887  343494  test  11494568057096150222166659886862572167   \n",
       "175888  343495  test  11494568057096150222166659886862572167   \n",
       "175889  343496  test  11494568057096150222166659886862572167   \n",
       "...        ...   ...                                     ...   \n",
       "175950  343557  test  11494568057096150222166659886862572167   \n",
       "175951  343558  test  11494568057096150222166659886862572167   \n",
       "175952  343559  test  11494568057096150222166659886862572167   \n",
       "175953  343560  test  11494568057096150222166659886862572167   \n",
       "175954  343561  test  11494568057096150222166659886862572167   \n",
       "\n",
       "                                              post_mvvar3  \\\n",
       "175885  purpose:purchase--**--homedescription:singlefa...   \n",
       "175886  purpose:purchase--**--homedescription:singlefa...   \n",
       "175887  purpose:purchase--**--homedescription:singlefa...   \n",
       "175888  purpose:purchase--**--homedescription:singlefa...   \n",
       "175889  purpose:purchase--**--homedescription:singlefa...   \n",
       "...                                                   ...   \n",
       "175950  timeframetopurchase:asap: found a house/offer ...   \n",
       "175951  timeframetopurchase:asap: found a house/offer ...   \n",
       "175952  timeframetopurchase:asap: found a house/offer ...   \n",
       "175953  timeframetopurchase:asap: found a house/offer ...   \n",
       "175954  timeframetopurchase:asap: found a house/offer ...   \n",
       "\n",
       "                          post_tnt     datekey  hour  visitnumber  \\\n",
       "175885  562585:1:0--**--562432:1:0  2022-07-15     3            2   \n",
       "175886  562585:1:0--**--562432:1:0  2022-07-15     3            2   \n",
       "175887  562585:1:0--**--562432:1:0  2022-07-15     3            2   \n",
       "175888  562585:1:0--**--562432:1:0  2022-07-15     3            2   \n",
       "175889  562585:1:0--**--562432:1:0  2022-07-15     3            2   \n",
       "...                            ...         ...   ...          ...   \n",
       "175950                  562585:1:0  2022-06-22    18            1   \n",
       "175951                  562585:1:0  2022-06-22    18            1   \n",
       "175952                  562585:1:0  2022-06-22    18            1   \n",
       "175953                  562585:1:0  2022-06-22    18            1   \n",
       "175954                  562585:1:0  2022-06-22    18            1   \n",
       "\n",
       "        visit_page_num                                     pagename  \\\n",
       "175885              42                               rocket:opt out   \n",
       "175886              41                               rocket:opt out   \n",
       "175887              40                               rocket:opt out   \n",
       "175888              39            rocket:thank you:lander:thank you   \n",
       "175889              38            rocket:thank you:lander:thank you   \n",
       "...                ...                                          ...   \n",
       "175950              27                rocket:account:create account   \n",
       "175951              26                rocket:account:create account   \n",
       "175952              24            rocket:lander:wham orbit:military   \n",
       "175953              23  rocket:lander:wham orbit:firstTimeHomeBuyer   \n",
       "175954              22  rocket:lander:wham orbit:workingWithAnAgent   \n",
       "\n",
       "        rowNumber time_frame_to_purchase_start_3 time_frame_to_purchase_end_3  \\\n",
       "175885          1                            NaN                          NaN   \n",
       "175886          2                            NaN                          NaN   \n",
       "175887          3                            NaN                          NaN   \n",
       "175888          4                            NaN                          NaN   \n",
       "175889          5                            NaN                          NaN   \n",
       "...           ...                            ...                          ...   \n",
       "175950         72                            NaN                          NaN   \n",
       "175951         73                            NaN                          NaN   \n",
       "175952         74                            NaN                          NaN   \n",
       "175953         75                            NaN                          NaN   \n",
       "175954         76                            NaN                          NaN   \n",
       "\n",
       "                                   time_frame_to_purchase  \\\n",
       "175885  [2 - 3 months, asap: found a house/offer pendi...   \n",
       "175886  [2 - 3 months, asap: found a house/offer pendi...   \n",
       "175887  [2 - 3 months, asap: found a house/offer pendi...   \n",
       "175888  [2 - 3 months, asap: found a house/offer pendi...   \n",
       "175889  [2 - 3 months, asap: found a house/offer pendi...   \n",
       "...                                                   ...   \n",
       "175950  [2 - 3 months, asap: found a house/offer pendi...   \n",
       "175951  [2 - 3 months, asap: found a house/offer pendi...   \n",
       "175952  [2 - 3 months, asap: found a house/offer pendi...   \n",
       "175953  [2 - 3 months, asap: found a house/offer pendi...   \n",
       "175954  [2 - 3 months, asap: found a house/offer pendi...   \n",
       "\n",
       "        time_frame_to_purchase_max_entry  \n",
       "175885                                 3  \n",
       "175886                                 3  \n",
       "175887                                 3  \n",
       "175888                                 3  \n",
       "175889                                 3  \n",
       "...                                  ...  \n",
       "175950                                 3  \n",
       "175951                                 3  \n",
       "175952                                 3  \n",
       "175953                                 3  \n",
       "175954                                 3  \n",
       "\n",
       "[70 rows x 15 columns]"
      ]
     },
     "execution_count": 79,
     "metadata": {},
     "output_type": "execute_result"
    }
   ],
   "source": [
    "dataFrame_test_indecisive[dataFrame_test_indecisive['mcvisid_visitorid'] == '11494568057096150222166659886862572167']"
   ]
  },
  {
   "cell_type": "code",
   "execution_count": 81,
   "metadata": {},
   "outputs": [
    {
     "data": {
      "text/html": [
       "<div>\n",
       "<style scoped>\n",
       "    .dataframe tbody tr th:only-of-type {\n",
       "        vertical-align: middle;\n",
       "    }\n",
       "\n",
       "    .dataframe tbody tr th {\n",
       "        vertical-align: top;\n",
       "    }\n",
       "\n",
       "    .dataframe thead th {\n",
       "        text-align: right;\n",
       "    }\n",
       "</style>\n",
       "<table border=\"1\" class=\"dataframe\">\n",
       "  <thead>\n",
       "    <tr style=\"text-align: right;\">\n",
       "      <th></th>\n",
       "      <th>index</th>\n",
       "      <th>group</th>\n",
       "      <th>mcvisid_visitorid</th>\n",
       "      <th>post_mvvar3</th>\n",
       "      <th>post_tnt</th>\n",
       "      <th>datekey</th>\n",
       "      <th>hour</th>\n",
       "      <th>visitnumber</th>\n",
       "      <th>visit_page_num</th>\n",
       "      <th>pagename</th>\n",
       "      <th>rowNumber</th>\n",
       "      <th>time_frame_to_purchase_start_3</th>\n",
       "      <th>time_frame_to_purchase_end_3</th>\n",
       "      <th>time_frame_to_purchase</th>\n",
       "      <th>time_frame_to_purchase_max_entry</th>\n",
       "    </tr>\n",
       "  </thead>\n",
       "  <tbody>\n",
       "    <tr>\n",
       "      <th>82947</th>\n",
       "      <td>250554</td>\n",
       "      <td>test</td>\n",
       "      <td>46699317916047119862692951019342036718</td>\n",
       "      <td>purpose:purchase--**--homedescription:singlefa...</td>\n",
       "      <td>562585:1:0--**--562432:0:0</td>\n",
       "      <td>2022-07-01</td>\n",
       "      <td>18</td>\n",
       "      <td>2</td>\n",
       "      <td>56</td>\n",
       "      <td>rocket:lander:wham orbit:addressAndZip</td>\n",
       "      <td>1</td>\n",
       "      <td>NaN</td>\n",
       "      <td>NaN</td>\n",
       "      <td>[within 30 days, no time frame; i am researchi...</td>\n",
       "      <td>2</td>\n",
       "    </tr>\n",
       "  </tbody>\n",
       "</table>\n",
       "</div>"
      ],
      "text/plain": [
       "        index group                       mcvisid_visitorid  \\\n",
       "82947  250554  test  46699317916047119862692951019342036718   \n",
       "\n",
       "                                             post_mvvar3  \\\n",
       "82947  purpose:purchase--**--homedescription:singlefa...   \n",
       "\n",
       "                         post_tnt     datekey  hour  visitnumber  \\\n",
       "82947  562585:1:0--**--562432:0:0  2022-07-01    18            2   \n",
       "\n",
       "       visit_page_num                                pagename  rowNumber  \\\n",
       "82947              56  rocket:lander:wham orbit:addressAndZip          1   \n",
       "\n",
       "      time_frame_to_purchase_start_3 time_frame_to_purchase_end_3  \\\n",
       "82947                            NaN                          NaN   \n",
       "\n",
       "                                  time_frame_to_purchase  \\\n",
       "82947  [within 30 days, no time frame; i am researchi...   \n",
       "\n",
       "       time_frame_to_purchase_max_entry  \n",
       "82947                                 2  "
      ]
     },
     "execution_count": 81,
     "metadata": {},
     "output_type": "execute_result"
    }
   ],
   "source": [
    "dataFrame_test_parsed[dataFrame_test_parsed['mcvisid_visitorid'] == '46699317916047119862692951019342036718']"
   ]
  },
  {
   "cell_type": "markdown",
   "metadata": {},
   "source": [
    "#### Secondary query to retireve data by mcvisid_visitorid"
   ]
  },
  {
   "cell_type": "code",
   "execution_count": 296,
   "metadata": {},
   "outputs": [],
   "source": [
    "query = '''SELECT  \n",
    "       adp.mcvisid_visitorid,\n",
    "       adp.post_tnt,\n",
    "       adp.datekey,\n",
    "       post_mvvar3,\n",
    "       adp.hour,\n",
    "       adp.visitnumber,\n",
    "       adp.visit_page_num,\n",
    "       adp.pagename\n",
    "FROM rktdp_adobe_omniture_raw_processed_access.adobe_dq_prcd_data AS adp\n",
    "WHERE (post_tnt='562585:1:0' OR post_tnt LIKE '%--562585:1:0%' OR post_tnt LIKE '562585:1:0%') AND datekey>='2022-06-21' AND mcvisid_visitorid = '52716069707398030873258455077810037767' \n",
    "ORDER BY adp.datekey DESC, adp.hour DESC, adp.visitnumber DESC, adp.visit_page_num DESC\n",
    "'''\n",
    "df = wr.athena.read_sql_query(sql=query, database=\"rktdp_adobe_omniture_raw_processed_access\", ctas_approach=False, \n",
    "                              workgroup='rcd-datascientist')"
   ]
  },
  {
   "cell_type": "code",
   "execution_count": 179,
   "metadata": {},
   "outputs": [
    {
     "name": "stdout",
     "output_type": "stream",
     "text": [
      "mcvisid_visitorid    0\n",
      "post_tnt             0\n",
      "datekey              0\n",
      "post_mvvar3          7\n",
      "hour                 0\n",
      "visitnumber          0\n",
      "visit_page_num       0\n",
      "pagename             0\n",
      "dtype: int64\n"
     ]
    },
    {
     "data": {
      "text/html": [
       "<div>\n",
       "<style scoped>\n",
       "    .dataframe tbody tr th:only-of-type {\n",
       "        vertical-align: middle;\n",
       "    }\n",
       "\n",
       "    .dataframe tbody tr th {\n",
       "        vertical-align: top;\n",
       "    }\n",
       "\n",
       "    .dataframe thead th {\n",
       "        text-align: right;\n",
       "    }\n",
       "</style>\n",
       "<table border=\"1\" class=\"dataframe\">\n",
       "  <thead>\n",
       "    <tr style=\"text-align: right;\">\n",
       "      <th></th>\n",
       "      <th>mcvisid_visitorid</th>\n",
       "      <th>post_tnt</th>\n",
       "      <th>datekey</th>\n",
       "      <th>post_mvvar3</th>\n",
       "      <th>hour</th>\n",
       "      <th>visitnumber</th>\n",
       "      <th>visit_page_num</th>\n",
       "      <th>pagename</th>\n",
       "    </tr>\n",
       "  </thead>\n",
       "  <tbody>\n",
       "    <tr>\n",
       "      <th>132</th>\n",
       "      <td>46699317916047119862692951019342036718</td>\n",
       "      <td>562585:1:0--**--562432:0:0</td>\n",
       "      <td>2022-06-23</td>\n",
       "      <td>hasrealestateagent:no--**--purpose:purchase--*...</td>\n",
       "      <td>15</td>\n",
       "      <td>1</td>\n",
       "      <td>20</td>\n",
       "      <td>rocket:application:purchase:current home</td>\n",
       "    </tr>\n",
       "    <tr>\n",
       "      <th>133</th>\n",
       "      <td>46699317916047119862692951019342036718</td>\n",
       "      <td>562585:1:0--**--562432:0:0</td>\n",
       "      <td>2022-06-23</td>\n",
       "      <td>hasrealestateagent:no--**--purpose:purchase--*...</td>\n",
       "      <td>15</td>\n",
       "      <td>1</td>\n",
       "      <td>19</td>\n",
       "      <td>rocket:application:purchase:current home</td>\n",
       "    </tr>\n",
       "    <tr>\n",
       "      <th>134</th>\n",
       "      <td>46699317916047119862692951019342036718</td>\n",
       "      <td>562585:1:0</td>\n",
       "      <td>2022-06-23</td>\n",
       "      <td>hasrealestateagent:no--**--purpose:purchase--*...</td>\n",
       "      <td>15</td>\n",
       "      <td>1</td>\n",
       "      <td>18</td>\n",
       "      <td>rocket:dashboard:home</td>\n",
       "    </tr>\n",
       "    <tr>\n",
       "      <th>135</th>\n",
       "      <td>46699317916047119862692951019342036718</td>\n",
       "      <td>562585:1:0</td>\n",
       "      <td>2022-06-23</td>\n",
       "      <td>hasrealestateagent:no--**--purpose:purchase--*...</td>\n",
       "      <td>15</td>\n",
       "      <td>1</td>\n",
       "      <td>17</td>\n",
       "      <td>rocket:dashboard:home</td>\n",
       "    </tr>\n",
       "    <tr>\n",
       "      <th>136</th>\n",
       "      <td>46699317916047119862692951019342036718</td>\n",
       "      <td>562585:1:0</td>\n",
       "      <td>2022-06-23</td>\n",
       "      <td>hasrealestateagent:no--**--purpose:purchase--*...</td>\n",
       "      <td>15</td>\n",
       "      <td>1</td>\n",
       "      <td>16</td>\n",
       "      <td>rocket:account:create account</td>\n",
       "    </tr>\n",
       "    <tr>\n",
       "      <th>137</th>\n",
       "      <td>46699317916047119862692951019342036718</td>\n",
       "      <td>562585:1:0</td>\n",
       "      <td>2022-06-23</td>\n",
       "      <td>hasrealestateagent:no--**--purpose:purchase--*...</td>\n",
       "      <td>15</td>\n",
       "      <td>1</td>\n",
       "      <td>15</td>\n",
       "      <td>rocket:account:create account</td>\n",
       "    </tr>\n",
       "    <tr>\n",
       "      <th>138</th>\n",
       "      <td>46699317916047119862692951019342036718</td>\n",
       "      <td>562585:1:0</td>\n",
       "      <td>2022-06-23</td>\n",
       "      <td>hasrealestateagent:no--**--purpose:purchase--*...</td>\n",
       "      <td>15</td>\n",
       "      <td>1</td>\n",
       "      <td>14</td>\n",
       "      <td>rocket:account:create account</td>\n",
       "    </tr>\n",
       "    <tr>\n",
       "      <th>139</th>\n",
       "      <td>46699317916047119862692951019342036718</td>\n",
       "      <td>562585:1:0</td>\n",
       "      <td>2022-06-23</td>\n",
       "      <td>hasrealestateagent:no--**--purpose:purchase--*...</td>\n",
       "      <td>15</td>\n",
       "      <td>1</td>\n",
       "      <td>13</td>\n",
       "      <td>rocket:lander:wham orbit:workingWithAnAgent</td>\n",
       "    </tr>\n",
       "    <tr>\n",
       "      <th>140</th>\n",
       "      <td>46699317916047119862692951019342036718</td>\n",
       "      <td>562585:1:0</td>\n",
       "      <td>2022-06-23</td>\n",
       "      <td>hasrealestateagent:no--**--purpose:purchase--*...</td>\n",
       "      <td>15</td>\n",
       "      <td>1</td>\n",
       "      <td>12</td>\n",
       "      <td>rocket:lander:wham orbit:military</td>\n",
       "    </tr>\n",
       "    <tr>\n",
       "      <th>141</th>\n",
       "      <td>46699317916047119862692951019342036718</td>\n",
       "      <td>562585:1:0</td>\n",
       "      <td>2022-06-23</td>\n",
       "      <td>purpose:purchase--**--homedescription:singlefa...</td>\n",
       "      <td>15</td>\n",
       "      <td>1</td>\n",
       "      <td>11</td>\n",
       "      <td>rocket:lander:wham orbit:workingWithAnAgent</td>\n",
       "    </tr>\n",
       "  </tbody>\n",
       "</table>\n",
       "</div>"
      ],
      "text/plain": [
       "                          mcvisid_visitorid                    post_tnt  \\\n",
       "132  46699317916047119862692951019342036718  562585:1:0--**--562432:0:0   \n",
       "133  46699317916047119862692951019342036718  562585:1:0--**--562432:0:0   \n",
       "134  46699317916047119862692951019342036718                  562585:1:0   \n",
       "135  46699317916047119862692951019342036718                  562585:1:0   \n",
       "136  46699317916047119862692951019342036718                  562585:1:0   \n",
       "137  46699317916047119862692951019342036718                  562585:1:0   \n",
       "138  46699317916047119862692951019342036718                  562585:1:0   \n",
       "139  46699317916047119862692951019342036718                  562585:1:0   \n",
       "140  46699317916047119862692951019342036718                  562585:1:0   \n",
       "141  46699317916047119862692951019342036718                  562585:1:0   \n",
       "\n",
       "        datekey                                        post_mvvar3  hour  \\\n",
       "132  2022-06-23  hasrealestateagent:no--**--purpose:purchase--*...    15   \n",
       "133  2022-06-23  hasrealestateagent:no--**--purpose:purchase--*...    15   \n",
       "134  2022-06-23  hasrealestateagent:no--**--purpose:purchase--*...    15   \n",
       "135  2022-06-23  hasrealestateagent:no--**--purpose:purchase--*...    15   \n",
       "136  2022-06-23  hasrealestateagent:no--**--purpose:purchase--*...    15   \n",
       "137  2022-06-23  hasrealestateagent:no--**--purpose:purchase--*...    15   \n",
       "138  2022-06-23  hasrealestateagent:no--**--purpose:purchase--*...    15   \n",
       "139  2022-06-23  hasrealestateagent:no--**--purpose:purchase--*...    15   \n",
       "140  2022-06-23  hasrealestateagent:no--**--purpose:purchase--*...    15   \n",
       "141  2022-06-23  purpose:purchase--**--homedescription:singlefa...    15   \n",
       "\n",
       "     visitnumber  visit_page_num                                     pagename  \n",
       "132            1              20     rocket:application:purchase:current home  \n",
       "133            1              19     rocket:application:purchase:current home  \n",
       "134            1              18                        rocket:dashboard:home  \n",
       "135            1              17                        rocket:dashboard:home  \n",
       "136            1              16                rocket:account:create account  \n",
       "137            1              15                rocket:account:create account  \n",
       "138            1              14                rocket:account:create account  \n",
       "139            1              13  rocket:lander:wham orbit:workingWithAnAgent  \n",
       "140            1              12            rocket:lander:wham orbit:military  \n",
       "141            1              11  rocket:lander:wham orbit:workingWithAnAgent  "
      ]
     },
     "execution_count": 179,
     "metadata": {},
     "output_type": "execute_result"
    }
   ],
   "source": [
    "print(df.isna().sum())\n",
    "df.tail(10)"
   ]
  },
  {
   "cell_type": "code",
   "execution_count": 177,
   "metadata": {},
   "outputs": [
    {
     "data": {
      "text/plain": [
       "'purpose:purchase--**--homedescription:singlefamily--**--propertyuse:secondaryhome--**--timeframetopurchase:no time frame; i am researching options--**--firsttimebuyer:no--**--military:no--**--hasrealestateagent:no'"
      ]
     },
     "execution_count": 177,
     "metadata": {},
     "output_type": "execute_result"
    }
   ],
   "source": [
    "df[df['pagename'].str.contains('rocket:lander')].post_mvvar3.iloc[-1]"
   ]
  },
  {
   "cell_type": "code",
   "execution_count": 100,
   "metadata": {},
   "outputs": [
    {
     "data": {
      "text/plain": [
       "0"
      ]
     },
     "execution_count": 100,
     "metadata": {},
     "output_type": "execute_result"
    }
   ],
   "source": [
    "df[df['pagename'].str.contains('rocket:lander')].post_mvvar3.isna().sum()"
   ]
  },
  {
   "cell_type": "code",
   "execution_count": 153,
   "metadata": {},
   "outputs": [],
   "source": [
    "time_frame_regex = 'timeframetopurchase(.*?)--'\n",
    "df['time_frame_to_purchase'] = df.post_mvvar3.str.extract(time_frame_regex, expand=False)"
   ]
  },
  {
   "cell_type": "code",
   "execution_count": 155,
   "metadata": {},
   "outputs": [
    {
     "data": {
      "text/plain": [
       "'hasrealestateagent:no--**--purpose:purchase--**--homedescription:singlefamily--**--propertyuse:secondaryhome--**--timeframetopurchase:3 - 6 months--**--firsttimebuyer:no--**--military:no'"
      ]
     },
     "execution_count": 155,
     "metadata": {},
     "output_type": "execute_result"
    }
   ],
   "source": [
    "df.iloc[0]['post_mvvar3']"
   ]
  },
  {
   "cell_type": "code",
   "execution_count": 156,
   "metadata": {},
   "outputs": [
    {
     "data": {
      "text/plain": [
       ":3 - 6 months    4\n",
       "Name: time_frame_to_purchase, dtype: Int64"
      ]
     },
     "execution_count": 156,
     "metadata": {},
     "output_type": "execute_result"
    }
   ],
   "source": [
    "df['time_frame_to_purchase'].value_counts()"
   ]
  },
  {
   "cell_type": "code",
   "execution_count": 151,
   "metadata": {},
   "outputs": [
    {
     "data": {
      "text/plain": [
       "'purpose:purchase--**--homedescription:singlefamily--**--propertyuse:primaryresidence--**--timeframetopurchase:2 - 3 months--**--firsttimebuyer:yes--**--military:no--**--hasrealestateagent:no--**--purchaseprice:100,000--**--downpayment:0--**--creditrating:620-659--**--creditratingdescription:average--**--employmentstatus:employed--**--bankruptcy:no'"
      ]
     },
     "execution_count": 151,
     "metadata": {},
     "output_type": "execute_result"
    }
   ],
   "source": [
    "df['post_mvvar3'].iloc[-5]"
   ]
  },
  {
   "cell_type": "code",
   "execution_count": 34,
   "metadata": {},
   "outputs": [
    {
     "data": {
      "text/plain": [
       "<StringArray>\n",
       "[':asap: found a house/offer pending', <NA>, ':2 ']\n",
       "Length: 3, dtype: string"
      ]
     },
     "execution_count": 34,
     "metadata": {},
     "output_type": "execute_result"
    }
   ],
   "source": [
    "df.post_mvvar3.str.extract(time_frame_regex, expand=False).unique()"
   ]
  }
 ],
 "metadata": {
  "instance_type": "ml.t3.medium",
  "kernelspec": {
   "display_name": "Python 3 (Data Science 2.0)",
   "language": "python",
   "name": "python3__SAGEMAKER_INTERNAL__arn:aws:sagemaker:us-east-2:429704687514:image/sagemaker-data-science-38"
  },
  "language_info": {
   "codemirror_mode": {
    "name": "ipython",
    "version": 3
   },
   "file_extension": ".py",
   "mimetype": "text/x-python",
   "name": "python",
   "nbconvert_exporter": "python",
   "pygments_lexer": "ipython3",
   "version": "3.8.13"
  }
 },
 "nbformat": 4,
 "nbformat_minor": 4
}
